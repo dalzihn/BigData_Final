{
 "cells": [
  {
   "cell_type": "markdown",
   "metadata": {},
   "source": [
    "# Import libraries"
   ]
  },
  {
   "cell_type": "code",
   "execution_count": 4,
   "metadata": {},
   "outputs": [
    {
     "name": "stdout",
     "output_type": "stream",
     "text": [
      "Collecting nltk\n",
      "  Downloading nltk-3.9.1-py3-none-any.whl.metadata (2.9 kB)\n",
      "Requirement already satisfied: click in /opt/homebrew/lib/python3.11/site-packages (from nltk) (8.1.7)\n",
      "Requirement already satisfied: joblib in /opt/homebrew/lib/python3.11/site-packages (from nltk) (1.3.2)\n",
      "Requirement already satisfied: regex>=2021.8.3 in /opt/homebrew/lib/python3.11/site-packages (from nltk) (2024.9.11)\n",
      "Requirement already satisfied: tqdm in /opt/homebrew/lib/python3.11/site-packages (from nltk) (4.66.1)\n",
      "Downloading nltk-3.9.1-py3-none-any.whl (1.5 MB)\n",
      "\u001b[2K   \u001b[90m━━━━━━━━━━━━━━━━━━━━━━━━━━━━━━━━━━━━━━━━\u001b[0m \u001b[32m1.5/1.5 MB\u001b[0m \u001b[31m8.6 MB/s\u001b[0m eta \u001b[36m0:00:00\u001b[0ma \u001b[36m0:00:01\u001b[0m\n",
      "\u001b[?25hInstalling collected packages: nltk\n",
      "Successfully installed nltk-3.9.1\n",
      "\n",
      "\u001b[1m[\u001b[0m\u001b[34;49mnotice\u001b[0m\u001b[1;39;49m]\u001b[0m\u001b[39;49m A new release of pip is available: \u001b[0m\u001b[31;49m24.3.1\u001b[0m\u001b[39;49m -> \u001b[0m\u001b[32;49m25.0.1\u001b[0m\n",
      "\u001b[1m[\u001b[0m\u001b[34;49mnotice\u001b[0m\u001b[1;39;49m]\u001b[0m\u001b[39;49m To update, run: \u001b[0m\u001b[32;49mpython3.11 -m pip install --upgrade pip\u001b[0m\n"
     ]
    }
   ],
   "source": [
    "!pip install nltk"
   ]
  },
  {
   "cell_type": "code",
   "execution_count": null,
   "metadata": {},
   "outputs": [],
   "source": [
    "import pandas as pd\n",
    "import os"
   ]
  },
  {
   "cell_type": "code",
   "execution_count": 2,
   "metadata": {},
   "outputs": [
    {
     "data": {
      "text/html": [
       "<div>\n",
       "<style scoped>\n",
       "    .dataframe tbody tr th:only-of-type {\n",
       "        vertical-align: middle;\n",
       "    }\n",
       "\n",
       "    .dataframe tbody tr th {\n",
       "        vertical-align: top;\n",
       "    }\n",
       "\n",
       "    .dataframe thead th {\n",
       "        text-align: right;\n",
       "    }\n",
       "</style>\n",
       "<table border=\"1\" class=\"dataframe\">\n",
       "  <thead>\n",
       "    <tr style=\"text-align: right;\">\n",
       "      <th></th>\n",
       "      <th>text</th>\n",
       "    </tr>\n",
       "  </thead>\n",
       "  <tbody>\n",
       "    <tr>\n",
       "      <th>0</th>\n",
       "      <td>As a consequence of the global COVID-19 pandem...</td>\n",
       "    </tr>\n",
       "    <tr>\n",
       "      <th>1</th>\n",
       "      <td>According to current live statistics at the ti...</td>\n",
       "    </tr>\n",
       "  </tbody>\n",
       "</table>\n",
       "</div>"
      ],
      "text/plain": [
       "                                                text\n",
       "0  As a consequence of the global COVID-19 pandem...\n",
       "1  According to current live statistics at the ti..."
      ]
     },
     "execution_count": 2,
     "metadata": {},
     "output_type": "execute_result"
    }
   ],
   "source": [
    "data = pd.read_json(os.path.join(\"..\", \"data\", \"test.json\"))\n",
    "data "
   ]
  },
  {
   "cell_type": "markdown",
   "metadata": {},
   "source": [
    "# Prepocessing"
   ]
  },
  {
   "cell_type": "code",
   "execution_count": 7,
   "metadata": {},
   "outputs": [],
   "source": [
    "import re\n",
    "import nltk\n",
    "from nltk.corpus import stopwords\n",
    "from nltk.stem import PorterStemmer\n",
    "from sklearn.feature_extraction.text import TfidfVectorizer"
   ]
  },
  {
   "cell_type": "code",
   "execution_count": 6,
   "metadata": {},
   "outputs": [
    {
     "name": "stderr",
     "output_type": "stream",
     "text": [
      "[nltk_data] Downloading package stopwords to\n",
      "[nltk_data]     /Users/gabrielduong/nltk_data...\n",
      "[nltk_data]   Unzipping corpora/stopwords.zip.\n"
     ]
    },
    {
     "data": {
      "text/plain": [
       "True"
      ]
     },
     "execution_count": 6,
     "metadata": {},
     "output_type": "execute_result"
    }
   ],
   "source": [
    "nltk.download('stopwords')"
   ]
  },
  {
   "cell_type": "code",
   "execution_count": 11,
   "metadata": {},
   "outputs": [],
   "source": [
    "def preprocess_and_vectorize(df, text_column='text',  max_df=0.85, min_df=0.01):\n",
    "    \"\"\"\n",
    "    Preprocess text data for topic modeling and return TF-IDF matrix.\n",
    "    \n",
    "    Parameters:\n",
    "        df (pd.DataFrame): DataFrame with a column of raw text.\n",
    "        text_column (str): Name of the column with text data.\n",
    "        min_df (int): Ignore terms with doc freq < min_df.\n",
    "        max_df (float): Ignore terms with doc freq > max_df fraction of docs.\n",
    "    \n",
    "    Returns:\n",
    "        pd.DataFrame: TF-IDF matrix (documents x words)\n",
    "    \"\"\"\n",
    "    stop_words = set(stopwords.words('english'))\n",
    "    stemmer = PorterStemmer()\n",
    "    \n",
    "    def clean_text(text):\n",
    "        # Lowercase\n",
    "        text = text.lower()\n",
    "        # Remove punctuation and digits\n",
    "        text = re.sub(r'[^a-z\\s]', '', text)\n",
    "        # Tokenize\n",
    "        tokens = text.split()\n",
    "        # Remove stopwords and stem\n",
    "        tokens = [stemmer.stem(word) for word in tokens if word not in stop_words]\n",
    "        return ' '.join(tokens)\n",
    "    \n",
    "    # Apply cleaning\n",
    "    cleaned_corpus = df[text_column].astype(str).apply(clean_text)\n",
    "    \n",
    "    # Vectorization\n",
    "    vectorizer = TfidfVectorizer(min_df=min_df, max_df=max_df)\n",
    "    tfidf_matrix = vectorizer.fit_transform(cleaned_corpus)\n",
    "    \n",
    "    # Convert to DataFrame\n",
    "    tfidf_df = pd.DataFrame(tfidf_matrix.toarray(), columns=vectorizer.get_feature_names_out())\n",
    "    \n",
    "    return tfidf_df\n"
   ]
  },
  {
   "cell_type": "code",
   "execution_count": 13,
   "metadata": {},
   "outputs": [
    {
     "data": {
      "text/html": [
       "<div>\n",
       "<style scoped>\n",
       "    .dataframe tbody tr th:only-of-type {\n",
       "        vertical-align: middle;\n",
       "    }\n",
       "\n",
       "    .dataframe tbody tr th {\n",
       "        vertical-align: top;\n",
       "    }\n",
       "\n",
       "    .dataframe thead th {\n",
       "        text-align: right;\n",
       "    }\n",
       "</style>\n",
       "<table border=\"1\" class=\"dataframe\">\n",
       "  <thead>\n",
       "    <tr style=\"text-align: right;\">\n",
       "      <th></th>\n",
       "      <th>abil</th>\n",
       "      <th>abl</th>\n",
       "      <th>academi</th>\n",
       "      <th>acceler</th>\n",
       "      <th>access</th>\n",
       "      <th>account</th>\n",
       "      <th>accur</th>\n",
       "      <th>accuraci</th>\n",
       "      <th>action</th>\n",
       "      <th>actual</th>\n",
       "      <th>...</th>\n",
       "      <th>wherea</th>\n",
       "      <th>whether</th>\n",
       "      <th>wide</th>\n",
       "      <th>window</th>\n",
       "      <th>work</th>\n",
       "      <th>world</th>\n",
       "      <th>worldwid</th>\n",
       "      <th>would</th>\n",
       "      <th>write</th>\n",
       "      <th>wtft</th>\n",
       "    </tr>\n",
       "  </thead>\n",
       "  <tbody>\n",
       "    <tr>\n",
       "      <th>0</th>\n",
       "      <td>0.05712</td>\n",
       "      <td>0.02856</td>\n",
       "      <td>0.02856</td>\n",
       "      <td>0.02856</td>\n",
       "      <td>0.05712</td>\n",
       "      <td>0.000000</td>\n",
       "      <td>0.05712</td>\n",
       "      <td>0.114239</td>\n",
       "      <td>0.000000</td>\n",
       "      <td>0.02856</td>\n",
       "      <td>...</td>\n",
       "      <td>0.02856</td>\n",
       "      <td>0.02856</td>\n",
       "      <td>0.02856</td>\n",
       "      <td>0.02856</td>\n",
       "      <td>0.000000</td>\n",
       "      <td>0.000000</td>\n",
       "      <td>0.000000</td>\n",
       "      <td>0.114239</td>\n",
       "      <td>0.000000</td>\n",
       "      <td>0.257038</td>\n",
       "    </tr>\n",
       "    <tr>\n",
       "      <th>1</th>\n",
       "      <td>0.00000</td>\n",
       "      <td>0.00000</td>\n",
       "      <td>0.00000</td>\n",
       "      <td>0.00000</td>\n",
       "      <td>0.00000</td>\n",
       "      <td>0.042409</td>\n",
       "      <td>0.00000</td>\n",
       "      <td>0.000000</td>\n",
       "      <td>0.042409</td>\n",
       "      <td>0.00000</td>\n",
       "      <td>...</td>\n",
       "      <td>0.00000</td>\n",
       "      <td>0.00000</td>\n",
       "      <td>0.00000</td>\n",
       "      <td>0.00000</td>\n",
       "      <td>0.084819</td>\n",
       "      <td>0.042409</td>\n",
       "      <td>0.084819</td>\n",
       "      <td>0.000000</td>\n",
       "      <td>0.042409</td>\n",
       "      <td>0.000000</td>\n",
       "    </tr>\n",
       "  </tbody>\n",
       "</table>\n",
       "<p>2 rows × 484 columns</p>\n",
       "</div>"
      ],
      "text/plain": [
       "      abil      abl  academi  acceler   access   account    accur  accuraci  \\\n",
       "0  0.05712  0.02856  0.02856  0.02856  0.05712  0.000000  0.05712  0.114239   \n",
       "1  0.00000  0.00000  0.00000  0.00000  0.00000  0.042409  0.00000  0.000000   \n",
       "\n",
       "     action   actual  ...   wherea  whether     wide   window      work  \\\n",
       "0  0.000000  0.02856  ...  0.02856  0.02856  0.02856  0.02856  0.000000   \n",
       "1  0.042409  0.00000  ...  0.00000  0.00000  0.00000  0.00000  0.084819   \n",
       "\n",
       "      world  worldwid     would     write      wtft  \n",
       "0  0.000000  0.000000  0.114239  0.000000  0.257038  \n",
       "1  0.042409  0.084819  0.000000  0.042409  0.000000  \n",
       "\n",
       "[2 rows x 484 columns]"
      ]
     },
     "execution_count": 13,
     "metadata": {},
     "output_type": "execute_result"
    }
   ],
   "source": [
    "tfidf_df = preprocess_and_vectorize(data, text_column='text')\n",
    "tfidf_df.head()"
   ]
  }
 ],
 "metadata": {
  "kernelspec": {
   "display_name": "Python 3",
   "language": "python",
   "name": "python3"
  },
  "language_info": {
   "codemirror_mode": {
    "name": "ipython",
    "version": 3
   },
   "file_extension": ".py",
   "mimetype": "text/x-python",
   "name": "python",
   "nbconvert_exporter": "python",
   "pygments_lexer": "ipython3",
   "version": "3.11.6"
  }
 },
 "nbformat": 4,
 "nbformat_minor": 2
}
