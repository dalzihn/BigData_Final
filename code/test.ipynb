{
 "cells": [
  {
   "cell_type": "code",
   "execution_count": null,
   "metadata": {},
   "outputs": [],
   "source": [
    "import os \n",
    "import pandas as pd\n",
    "import json\n",
    "import nltk\n",
    "import re\n",
    "from sklearn.feature_extraction.text import TfidfVectorizer\n",
    "from nltk import word_tokenize, sent_tokenize\n",
    "import numpy as np\n",
    "import pyspark.pandas as ps\n",
    "from pyspark.sql import SparkSession"
   ]
  },
  {
   "cell_type": "code",
   "execution_count": 2,
   "metadata": {},
   "outputs": [
    {
     "name": "stderr",
     "output_type": "stream",
     "text": [
      "[nltk_data] Downloading package punkt_tab to\n",
      "[nltk_data]     /Users/lam.nguyen/nltk_data...\n",
      "[nltk_data]   Package punkt_tab is already up-to-date!\n",
      "[nltk_data] Downloading package stopwords to\n",
      "[nltk_data]     /Users/lam.nguyen/nltk_data...\n",
      "[nltk_data]   Package stopwords is already up-to-date!\n",
      "[nltk_data] Downloading package wordnet to\n",
      "[nltk_data]     /Users/lam.nguyen/nltk_data...\n",
      "[nltk_data]   Package wordnet is already up-to-date!\n"
     ]
    }
   ],
   "source": [
    "nltk.download('punkt_tab')\n",
    "nltk.download('stopwords')\n",
    "nltk.download('wordnet')\n",
    "from nltk.corpus import stopwords\n",
    "from nltk.stem import WordNetLemmatizer"
   ]
  },
  {
   "cell_type": "code",
   "execution_count": 82,
   "metadata": {},
   "outputs": [],
   "source": [
    "num_topics = 5\n",
    "max_iter = 10"
   ]
  },
  {
   "cell_type": "markdown",
   "metadata": {},
   "source": [
    "# Preprocessing"
   ]
  },
  {
   "cell_type": "code",
   "execution_count": 3,
   "metadata": {},
   "outputs": [],
   "source": [
    "# def merge_files() -> None:\n",
    "#     \"\"\"Merge all JSON files of a folder\n",
    "\n",
    "#     Sample folder structure\n",
    "#     ```\n",
    "#     └── 📁data\n",
    "#         └── 📁merged\n",
    "#             └── test.json\n",
    "#         └── 📁processed\n",
    "#         └── 📁raw\n",
    "#             └── test01.json\n",
    "#             └── test02.json\n",
    "#     ```\n",
    "#     Args:\n",
    "#         None\n",
    "#     Return:\n",
    "#         returns None\"\"\"\n",
    "#     files = os.listdir(os.path.join(\"..\", \"data\", \"raw\"))\n",
    "#     text_todf = []\n",
    "#     for i in range(len(files)):\n",
    "#         with open(os.path.join(\"..\", \"data\", \"raw\", files[i]), 'r') as file:\n",
    "#             data = json.load(file)\n",
    "#             df_metadata = pd.json_normalize(data, max_level=1)\n",
    "#             text = \"\"\n",
    "#             for element in df_metadata['body_text'][0]:\n",
    "#                 text += element['text']\n",
    "#             text_todf.append(text)\n",
    "#     df = pd.DataFrame({\"text\": text_todf})\n",
    "#     df.to_json(os.path.join(\"..\", \"data\", \"merged\", \"corpus.json\"))"
   ]
  },
  {
   "cell_type": "code",
   "execution_count": 38,
   "metadata": {},
   "outputs": [],
   "source": [
    "# Read data\n",
    "data = pd.read_json(os.path.join(\"..\", \"data\", \"merged\", \"test.json\"))"
   ]
  },
  {
   "cell_type": "code",
   "execution_count": 5,
   "metadata": {},
   "outputs": [],
   "source": [
    "def custom_word_tokenize(sent_tokens: list[str]) -> list[str]:\n",
    "    \"\"\"Tokenises words \n",
    "    \n",
    "    Args:\n",
    "        sent_tokens: tokens of sentences\n",
    "    Returns:\n",
    "        A list of word tokens\"\"\"\n",
    "    word_tokens = []\n",
    "    for sent in sent_tokens:\n",
    "        tokens = word_tokenize(sent)\n",
    "        word_tokens.extend(tokens)\n",
    "    return word_tokens"
   ]
  },
  {
   "cell_type": "code",
   "execution_count": 41,
   "metadata": {},
   "outputs": [],
   "source": [
    "def preprocess(data: pd.DataFrame) -> pd.DataFrame:\n",
    "    \"\"\"Performs the preprocessing\n",
    "    \n",
    "    Args:\n",
    "        data: input file as pandas.DataFrame\n",
    "    Returns:\n",
    "        A pandas.DataFrame which as vector form of the input\n",
    "    \"\"\"\n",
    "    stop_words = stopwords.words('english')\n",
    "    lemmatiser = WordNetLemmatizer()\n",
    "\n",
    "    #Sentence tokenisation\n",
    "    data['sent_tokens'] = data['text'].apply(sent_tokenize)\n",
    "    \n",
    "    # Text cleaning\n",
    "    data['sent_tokens'] = data['sent_tokens'].apply(lambda sentences: [re.sub(r\"[^a-zA-Z\\s]\", \"\", sent) for sent in sentences])\n",
    "    \n",
    "    # # Normalisation\n",
    "    data['sent_tokens'] = data['sent_tokens'].apply(lambda sentences: [sent.lower() for sent in sentences])\n",
    "\n",
    "    #Word tokenisation\n",
    "    data['word_tokens'] = data['sent_tokens'].apply(custom_word_tokenize)\n",
    "\n",
    "    # # Stemming\n",
    "    data['word_tokens'] = data['word_tokens'].apply(lambda word_tokens: [lemmatiser.lemmatize(word) for word in word_tokens])\n",
    "\n",
    "    # Word Embeddings (turns into vector)\n",
    "    data['to_tfidf'] = data['word_tokens'].apply(lambda tokens: ' '.join(tokens))\n",
    "    vectorizer = TfidfVectorizer(min_df=0.3, max_df=0.85, stop_words=stop_words)\n",
    "    tfidf_matrix = vectorizer.fit_transform(data['to_tfidf'])\n",
    "    \n",
    "    # Convert to DataFrame\n",
    "    tfidf = pd.DataFrame(tfidf_matrix.toarray(), columns=vectorizer.get_feature_names_out())\n",
    "    return data, tfidf"
   ]
  },
  {
   "cell_type": "code",
   "execution_count": 42,
   "metadata": {},
   "outputs": [],
   "source": [
    "data, tfidf  = preprocess(data)"
   ]
  },
  {
   "cell_type": "code",
   "execution_count": 46,
   "metadata": {},
   "outputs": [
    {
     "data": {
      "text/html": [
       "<div>\n",
       "<style scoped>\n",
       "    .dataframe tbody tr th:only-of-type {\n",
       "        vertical-align: middle;\n",
       "    }\n",
       "\n",
       "    .dataframe tbody tr th {\n",
       "        vertical-align: top;\n",
       "    }\n",
       "\n",
       "    .dataframe thead th {\n",
       "        text-align: right;\n",
       "    }\n",
       "</style>\n",
       "<table border=\"1\" class=\"dataframe\">\n",
       "  <thead>\n",
       "    <tr style=\"text-align: right;\">\n",
       "      <th></th>\n",
       "      <th>ability</th>\n",
       "      <th>able</th>\n",
       "      <th>academy</th>\n",
       "      <th>acceleration</th>\n",
       "      <th>access</th>\n",
       "      <th>accordance</th>\n",
       "      <th>according</th>\n",
       "      <th>account</th>\n",
       "      <th>accuracy</th>\n",
       "      <th>accurate</th>\n",
       "      <th>...</th>\n",
       "      <th>widely</th>\n",
       "      <th>window</th>\n",
       "      <th>work</th>\n",
       "      <th>working</th>\n",
       "      <th>world</th>\n",
       "      <th>worldwide</th>\n",
       "      <th>would</th>\n",
       "      <th>writing</th>\n",
       "      <th>wtft</th>\n",
       "      <th>wtfts</th>\n",
       "    </tr>\n",
       "  </thead>\n",
       "  <tbody>\n",
       "    <tr>\n",
       "      <th>0</th>\n",
       "      <td>0.058747</td>\n",
       "      <td>0.029374</td>\n",
       "      <td>0.029374</td>\n",
       "      <td>0.029374</td>\n",
       "      <td>0.058747</td>\n",
       "      <td>0.029374</td>\n",
       "      <td>0.000000</td>\n",
       "      <td>0.000000</td>\n",
       "      <td>0.117495</td>\n",
       "      <td>0.029374</td>\n",
       "      <td>...</td>\n",
       "      <td>0.029374</td>\n",
       "      <td>0.029374</td>\n",
       "      <td>0.000000</td>\n",
       "      <td>0.000000</td>\n",
       "      <td>0.000000</td>\n",
       "      <td>0.000000</td>\n",
       "      <td>0.117495</td>\n",
       "      <td>0.000000</td>\n",
       "      <td>0.234989</td>\n",
       "      <td>0.029374</td>\n",
       "    </tr>\n",
       "    <tr>\n",
       "      <th>1</th>\n",
       "      <td>0.000000</td>\n",
       "      <td>0.000000</td>\n",
       "      <td>0.000000</td>\n",
       "      <td>0.000000</td>\n",
       "      <td>0.000000</td>\n",
       "      <td>0.000000</td>\n",
       "      <td>0.041885</td>\n",
       "      <td>0.041885</td>\n",
       "      <td>0.000000</td>\n",
       "      <td>0.000000</td>\n",
       "      <td>...</td>\n",
       "      <td>0.000000</td>\n",
       "      <td>0.000000</td>\n",
       "      <td>0.041885</td>\n",
       "      <td>0.041885</td>\n",
       "      <td>0.041885</td>\n",
       "      <td>0.083771</td>\n",
       "      <td>0.000000</td>\n",
       "      <td>0.041885</td>\n",
       "      <td>0.000000</td>\n",
       "      <td>0.000000</td>\n",
       "    </tr>\n",
       "  </tbody>\n",
       "</table>\n",
       "<p>2 rows × 552 columns</p>\n",
       "</div>"
      ],
      "text/plain": [
       "    ability      able   academy  acceleration    access  accordance  \\\n",
       "0  0.058747  0.029374  0.029374      0.029374  0.058747    0.029374   \n",
       "1  0.000000  0.000000  0.000000      0.000000  0.000000    0.000000   \n",
       "\n",
       "   according   account  accuracy  accurate  ...    widely    window      work  \\\n",
       "0   0.000000  0.000000  0.117495  0.029374  ...  0.029374  0.029374  0.000000   \n",
       "1   0.041885  0.041885  0.000000  0.000000  ...  0.000000  0.000000  0.041885   \n",
       "\n",
       "    working     world  worldwide     would   writing      wtft     wtfts  \n",
       "0  0.000000  0.000000   0.000000  0.117495  0.000000  0.234989  0.029374  \n",
       "1  0.041885  0.041885   0.083771  0.000000  0.041885  0.000000  0.000000  \n",
       "\n",
       "[2 rows x 552 columns]"
      ]
     },
     "execution_count": 46,
     "metadata": {},
     "output_type": "execute_result"
    }
   ],
   "source": [
    "tfidf"
   ]
  },
  {
   "cell_type": "markdown",
   "metadata": {},
   "source": [
    "# Pyspark LDA"
   ]
  },
  {
   "cell_type": "code",
   "execution_count": 43,
   "metadata": {},
   "outputs": [],
   "source": [
    "from pyspark.ml.linalg import Vectors, SparseVector\n",
    "from pyspark.ml.clustering import LDA\n",
    "import pandas as pd\n",
    "import numpy as np\n",
    "import pyspark.pandas as ps\n",
    "from pyspark.sql import SparkSession"
   ]
  },
  {
   "cell_type": "code",
   "execution_count": 10,
   "metadata": {},
   "outputs": [
    {
     "name": "stderr",
     "output_type": "stream",
     "text": [
      "Setting default log level to \"WARN\".\n",
      "To adjust logging level use sc.setLogLevel(newLevel). For SparkR, use setLogLevel(newLevel).\n",
      "25/04/28 08:49:13 WARN NativeCodeLoader: Unable to load native-hadoop library for your platform... using builtin-java classes where applicable\n"
     ]
    }
   ],
   "source": [
    "# Create spark spession\n",
    "spark = SparkSession.builder\\\n",
    "        .appName(\"Nhom09_PySparkLDA\")\\\n",
    "        .master(\"local[*]\")\\\n",
    "        .config(\"spark.driver.bindAddress\", \"localhost\")\\\n",
    "        .getOrCreate()"
   ]
  },
  {
   "cell_type": "code",
   "execution_count": null,
   "metadata": {},
   "outputs": [
    {
     "name": "stderr",
     "output_type": "stream",
     "text": [
      "                                                                                \r"
     ]
    }
   ],
   "source": [
    "# Fit tfidf (panads.DataFrame) into data structure of spark\n",
    "tfidf_ps = spark.createDataFrame(tfidf)\n",
    "tfidf_ps = tfidf_ps.rdd.map(lambda row: (Vectors.dense(row), )).toDF([\"features\"])"
   ]
  },
  {
   "cell_type": "code",
   "execution_count": 45,
   "metadata": {},
   "outputs": [
    {
     "name": "stderr",
     "output_type": "stream",
     "text": [
      "                                                                                \r"
     ]
    },
    {
     "name": "stdout",
     "output_type": "stream",
     "text": [
      "+-----+---------------+---------------------------------------------------------------------+\n",
      "|topic|termIndices    |termWeights                                                          |\n",
      "+-----+---------------+---------------------------------------------------------------------+\n",
      "|0    |[404, 41, 105] |[0.002398466433135447, 0.002334772230784771, 0.0023063777294193063]  |\n",
      "|1    |[343, 164, 35] |[0.0023859780701145855, 0.0023294478680108786, 0.0023203198160067742]|\n",
      "|2    |[108, 8, 232]  |[0.0024689895728190795, 0.002377024731400353, 0.0023564226010567954] |\n",
      "|3    |[176, 220, 273]|[0.0023427878938911107, 0.0023394471897149522, 0.0023343600894544132]|\n",
      "|4    |[26, 196, 278] |[0.0024366442857787266, 0.002359836168195985, 0.002356088139912443]  |\n",
      "+-----+---------------+---------------------------------------------------------------------+\n",
      "\n"
     ]
    }
   ],
   "source": [
    "from pyspark.ml.clustering import LDA\n",
    "\n",
    "# Create an LDA model\n",
    "lda = LDA(k=num_topics, maxIter=max_iter)  # k is the number of \n",
    "# Fit the LDA model\n",
    "lda_model = lda.fit(tfidf_ps)\n",
    "# Describe topics\n",
    "topics = lda_model.describeTopics(3)  # Get the top 3 terms for each topic\n",
    "topics.show(truncate=False)"
   ]
  },
  {
   "cell_type": "markdown",
   "metadata": {},
   "source": [
    "# SparkNLP"
   ]
  },
  {
   "cell_type": "code",
   "execution_count": 83,
   "metadata": {},
   "outputs": [],
   "source": [
    "import sparknlp\n",
    "import os\n",
    "import pandas as pd\n",
    "import string\n",
    "from sparknlp.base import *\n",
    "from sparknlp.annotator import *\n",
    "from pyspark.ml.feature import CountVectorizer\n",
    "from pyspark.ml.feature import IDF\n",
    "from pyspark.ml.clustering import LDA"
   ]
  },
  {
   "cell_type": "code",
   "execution_count": 2,
   "metadata": {},
   "outputs": [
    {
     "name": "stdout",
     "output_type": "stream",
     "text": [
      ":: loading settings :: url = jar:file:/Users/lam.nguyen/Desktop/GithubClone/BigData_Final/.venv/lib/python3.10/site-packages/pyspark/jars/ivy-2.5.1.jar!/org/apache/ivy/core/settings/ivysettings.xml\n"
     ]
    },
    {
     "name": "stderr",
     "output_type": "stream",
     "text": [
      "Ivy Default Cache set to: /Users/lam.nguyen/.ivy2/cache\n",
      "The jars for the packages stored in: /Users/lam.nguyen/.ivy2/jars\n",
      "com.johnsnowlabs.nlp#spark-nlp_2.12 added as a dependency\n",
      ":: resolving dependencies :: org.apache.spark#spark-submit-parent-5a92852d-f11f-45bd-89e7-379d8bc12258;1.0\n",
      "\tconfs: [default]\n",
      "\tfound com.johnsnowlabs.nlp#spark-nlp_2.12;6.0.0 in central\n",
      "\tfound com.typesafe#config;1.4.2 in central\n",
      "\tfound org.rocksdb#rocksdbjni;6.29.5 in central\n",
      "\tfound com.amazonaws#aws-java-sdk-s3;1.12.500 in central\n",
      "\tfound com.amazonaws#aws-java-sdk-kms;1.12.500 in central\n",
      "\tfound com.amazonaws#aws-java-sdk-core;1.12.500 in central\n",
      "\tfound commons-logging#commons-logging;1.1.3 in central\n",
      "\tfound commons-codec#commons-codec;1.15 in central\n",
      "\tfound org.apache.httpcomponents#httpclient;4.5.13 in central\n",
      "\tfound org.apache.httpcomponents#httpcore;4.4.13 in central\n",
      "\tfound software.amazon.ion#ion-java;1.0.2 in central\n",
      "\tfound joda-time#joda-time;2.8.1 in central\n",
      "\tfound com.amazonaws#jmespath-java;1.12.500 in central\n",
      "\tfound com.github.universal-automata#liblevenshtein;3.0.0 in central\n",
      "\tfound com.google.protobuf#protobuf-java-util;3.0.0-beta-3 in central\n",
      "\tfound com.google.protobuf#protobuf-java;3.0.0-beta-3 in central\n",
      "\tfound com.google.code.gson#gson;2.3 in central\n",
      "\tfound it.unimi.dsi#fastutil;7.0.12 in central\n",
      "\tfound org.projectlombok#lombok;1.16.8 in central\n",
      "\tfound com.google.cloud#google-cloud-storage;2.20.1 in central\n",
      "\tfound com.google.guava#guava;31.1-jre in central\n",
      "\tfound com.google.guava#failureaccess;1.0.1 in central\n",
      "\tfound com.google.guava#listenablefuture;9999.0-empty-to-avoid-conflict-with-guava in central\n",
      "\tfound com.google.errorprone#error_prone_annotations;2.18.0 in central\n",
      "\tfound com.google.j2objc#j2objc-annotations;1.3 in central\n",
      "\tfound com.google.http-client#google-http-client;1.43.0 in central\n",
      "\tfound io.opencensus#opencensus-contrib-http-util;0.31.1 in central\n",
      "\tfound com.google.http-client#google-http-client-jackson2;1.43.0 in central\n",
      "\tfound com.google.http-client#google-http-client-gson;1.43.0 in central\n",
      "\tfound com.google.api-client#google-api-client;2.2.0 in central\n",
      "\tfound com.google.oauth-client#google-oauth-client;1.34.1 in central\n",
      "\tfound com.google.http-client#google-http-client-apache-v2;1.43.0 in central\n",
      "\tfound com.google.apis#google-api-services-storage;v1-rev20220705-2.0.0 in central\n",
      "\tfound com.google.code.gson#gson;2.10.1 in central\n",
      "\tfound com.google.cloud#google-cloud-core;2.12.0 in central\n",
      "\tfound io.grpc#grpc-context;1.53.0 in central\n",
      "\tfound com.google.auto.value#auto-value-annotations;1.10.1 in central\n",
      "\tfound com.google.auto.value#auto-value;1.10.1 in central\n",
      "\tfound javax.annotation#javax.annotation-api;1.3.2 in central\n",
      "\tfound com.google.cloud#google-cloud-core-http;2.12.0 in central\n",
      "\tfound com.google.http-client#google-http-client-appengine;1.43.0 in central\n",
      "\tfound com.google.api#gax-httpjson;0.108.2 in central\n",
      "\tfound com.google.cloud#google-cloud-core-grpc;2.12.0 in central\n",
      "\tfound io.grpc#grpc-alts;1.53.0 in central\n",
      "\tfound io.grpc#grpc-grpclb;1.53.0 in central\n",
      "\tfound org.conscrypt#conscrypt-openjdk-uber;2.5.2 in central\n",
      "\tfound io.grpc#grpc-auth;1.53.0 in central\n",
      "\tfound io.grpc#grpc-protobuf;1.53.0 in central\n",
      "\tfound io.grpc#grpc-protobuf-lite;1.53.0 in central\n",
      "\tfound io.grpc#grpc-core;1.53.0 in central\n",
      "\tfound com.google.api#gax;2.23.2 in central\n",
      "\tfound com.google.api#gax-grpc;2.23.2 in central\n",
      "\tfound com.google.auth#google-auth-library-credentials;1.16.0 in central\n",
      "\tfound com.google.auth#google-auth-library-oauth2-http;1.16.0 in central\n",
      "\tfound com.google.api#api-common;2.6.2 in central\n",
      "\tfound io.opencensus#opencensus-api;0.31.1 in central\n",
      "\tfound com.google.api.grpc#proto-google-iam-v1;1.9.2 in central\n",
      "\tfound com.google.protobuf#protobuf-java;3.21.12 in central\n",
      "\tfound com.google.protobuf#protobuf-java-util;3.21.12 in central\n",
      "\tfound com.google.api.grpc#proto-google-common-protos;2.14.2 in central\n",
      "\tfound org.threeten#threetenbp;1.6.5 in central\n",
      "\tfound com.google.api.grpc#proto-google-cloud-storage-v2;2.20.1-alpha in central\n",
      "\tfound com.google.api.grpc#grpc-google-cloud-storage-v2;2.20.1-alpha in central\n",
      "\tfound com.google.api.grpc#gapic-google-cloud-storage-v2;2.20.1-alpha in central\n",
      "\tfound com.google.code.findbugs#jsr305;3.0.2 in central\n",
      "\tfound io.grpc#grpc-api;1.53.0 in central\n",
      "\tfound io.grpc#grpc-stub;1.53.0 in central\n",
      "\tfound org.checkerframework#checker-qual;3.31.0 in central\n",
      "\tfound io.perfmark#perfmark-api;0.26.0 in central\n",
      "\tfound com.google.android#annotations;4.1.1.4 in central\n",
      "\tfound org.codehaus.mojo#animal-sniffer-annotations;1.22 in central\n",
      "\tfound io.opencensus#opencensus-proto;0.2.0 in central\n",
      "\tfound io.grpc#grpc-services;1.53.0 in central\n",
      "\tfound com.google.re2j#re2j;1.6 in central\n",
      "\tfound io.grpc#grpc-netty-shaded;1.53.0 in central\n",
      "\tfound io.grpc#grpc-googleapis;1.53.0 in central\n",
      "\tfound io.grpc#grpc-xds;1.53.0 in central\n",
      "\tfound com.navigamez#greex;1.0 in central\n",
      "\tfound dk.brics.automaton#automaton;1.11-8 in central\n",
      "\tfound org.jsoup#jsoup;1.18.2 in central\n",
      "\tfound jakarta.mail#jakarta.mail-api;2.1.3 in central\n",
      "\tfound jakarta.activation#jakarta.activation-api;2.1.3 in central\n",
      "\tfound org.eclipse.angus#angus-mail;2.0.3 in central\n",
      "\tfound org.eclipse.angus#angus-activation;2.0.2 in central\n",
      "\tfound org.apache.poi#poi-ooxml;4.1.2 in central\n",
      "\tfound org.apache.poi#poi;4.1.2 in central\n",
      "\tfound org.apache.commons#commons-collections4;4.4 in central\n",
      "\tfound org.apache.commons#commons-math3;3.6.1 in central\n",
      "\tfound com.zaxxer#SparseBitSet;1.2 in central\n",
      "\tfound org.apache.poi#poi-ooxml-schemas;4.1.2 in central\n",
      "\tfound org.apache.xmlbeans#xmlbeans;3.1.0 in central\n",
      "\tfound org.apache.commons#commons-compress;1.19 in central\n",
      "\tfound com.github.virtuald#curvesapi;1.06 in central\n",
      "\tfound org.apache.poi#poi-scratchpad;4.1.2 in central\n",
      "\tfound org.apache.pdfbox#pdfbox;2.0.28 in central\n",
      "\tfound org.apache.pdfbox#fontbox;2.0.28 in central\n",
      "\tfound com.johnsnowlabs.nlp#tensorflow-cpu_2.12;0.4.4 in central\n",
      "\tfound com.microsoft.onnxruntime#onnxruntime;1.19.2 in central\n",
      "\tfound com.johnsnowlabs.nlp#jsl-llamacpp-cpu_2.12;0.1.6 in central\n",
      "\tfound org.jetbrains#annotations;24.1.0 in central\n",
      "\tfound com.johnsnowlabs.nlp#jsl-openvino-cpu_2.12;0.1.0 in central\n",
      "downloading https://repo1.maven.org/maven2/com/johnsnowlabs/nlp/spark-nlp_2.12/6.0.0/spark-nlp_2.12-6.0.0.jar ...\n",
      "\t[SUCCESSFUL ] com.johnsnowlabs.nlp#spark-nlp_2.12;6.0.0!spark-nlp_2.12.jar (5552ms)\n",
      "downloading https://repo1.maven.org/maven2/org/apache/pdfbox/pdfbox/2.0.28/pdfbox-2.0.28.jar ...\n",
      "\t[SUCCESSFUL ] org.apache.pdfbox#pdfbox;2.0.28!pdfbox.jar(bundle) (663ms)\n",
      "downloading https://repo1.maven.org/maven2/com/johnsnowlabs/nlp/jsl-llamacpp-cpu_2.12/0.1.6/jsl-llamacpp-cpu_2.12-0.1.6.jar ...\n",
      "\t[SUCCESSFUL ] com.johnsnowlabs.nlp#jsl-llamacpp-cpu_2.12;0.1.6!jsl-llamacpp-cpu_2.12.jar (566ms)\n",
      "downloading https://repo1.maven.org/maven2/org/apache/pdfbox/fontbox/2.0.28/fontbox-2.0.28.jar ...\n",
      "\t[SUCCESSFUL ] org.apache.pdfbox#fontbox;2.0.28!fontbox.jar(bundle) (543ms)\n",
      ":: resolution report :: resolve 10271ms :: artifacts dl 7414ms\n",
      "\t:: modules in use:\n",
      "\tcom.amazonaws#aws-java-sdk-core;1.12.500 from central in [default]\n",
      "\tcom.amazonaws#aws-java-sdk-kms;1.12.500 from central in [default]\n",
      "\tcom.amazonaws#aws-java-sdk-s3;1.12.500 from central in [default]\n",
      "\tcom.amazonaws#jmespath-java;1.12.500 from central in [default]\n",
      "\tcom.github.universal-automata#liblevenshtein;3.0.0 from central in [default]\n",
      "\tcom.github.virtuald#curvesapi;1.06 from central in [default]\n",
      "\tcom.google.android#annotations;4.1.1.4 from central in [default]\n",
      "\tcom.google.api#api-common;2.6.2 from central in [default]\n",
      "\tcom.google.api#gax;2.23.2 from central in [default]\n",
      "\tcom.google.api#gax-grpc;2.23.2 from central in [default]\n",
      "\tcom.google.api#gax-httpjson;0.108.2 from central in [default]\n",
      "\tcom.google.api-client#google-api-client;2.2.0 from central in [default]\n",
      "\tcom.google.api.grpc#gapic-google-cloud-storage-v2;2.20.1-alpha from central in [default]\n",
      "\tcom.google.api.grpc#grpc-google-cloud-storage-v2;2.20.1-alpha from central in [default]\n",
      "\tcom.google.api.grpc#proto-google-cloud-storage-v2;2.20.1-alpha from central in [default]\n",
      "\tcom.google.api.grpc#proto-google-common-protos;2.14.2 from central in [default]\n",
      "\tcom.google.api.grpc#proto-google-iam-v1;1.9.2 from central in [default]\n",
      "\tcom.google.apis#google-api-services-storage;v1-rev20220705-2.0.0 from central in [default]\n",
      "\tcom.google.auth#google-auth-library-credentials;1.16.0 from central in [default]\n",
      "\tcom.google.auth#google-auth-library-oauth2-http;1.16.0 from central in [default]\n",
      "\tcom.google.auto.value#auto-value;1.10.1 from central in [default]\n",
      "\tcom.google.auto.value#auto-value-annotations;1.10.1 from central in [default]\n",
      "\tcom.google.cloud#google-cloud-core;2.12.0 from central in [default]\n",
      "\tcom.google.cloud#google-cloud-core-grpc;2.12.0 from central in [default]\n",
      "\tcom.google.cloud#google-cloud-core-http;2.12.0 from central in [default]\n",
      "\tcom.google.cloud#google-cloud-storage;2.20.1 from central in [default]\n",
      "\tcom.google.code.findbugs#jsr305;3.0.2 from central in [default]\n",
      "\tcom.google.code.gson#gson;2.10.1 from central in [default]\n",
      "\tcom.google.errorprone#error_prone_annotations;2.18.0 from central in [default]\n",
      "\tcom.google.guava#failureaccess;1.0.1 from central in [default]\n",
      "\tcom.google.guava#guava;31.1-jre from central in [default]\n",
      "\tcom.google.guava#listenablefuture;9999.0-empty-to-avoid-conflict-with-guava from central in [default]\n",
      "\tcom.google.http-client#google-http-client;1.43.0 from central in [default]\n",
      "\tcom.google.http-client#google-http-client-apache-v2;1.43.0 from central in [default]\n",
      "\tcom.google.http-client#google-http-client-appengine;1.43.0 from central in [default]\n",
      "\tcom.google.http-client#google-http-client-gson;1.43.0 from central in [default]\n",
      "\tcom.google.http-client#google-http-client-jackson2;1.43.0 from central in [default]\n",
      "\tcom.google.j2objc#j2objc-annotations;1.3 from central in [default]\n",
      "\tcom.google.oauth-client#google-oauth-client;1.34.1 from central in [default]\n",
      "\tcom.google.protobuf#protobuf-java;3.21.12 from central in [default]\n",
      "\tcom.google.protobuf#protobuf-java-util;3.21.12 from central in [default]\n",
      "\tcom.google.re2j#re2j;1.6 from central in [default]\n",
      "\tcom.johnsnowlabs.nlp#jsl-llamacpp-cpu_2.12;0.1.6 from central in [default]\n",
      "\tcom.johnsnowlabs.nlp#jsl-openvino-cpu_2.12;0.1.0 from central in [default]\n",
      "\tcom.johnsnowlabs.nlp#spark-nlp_2.12;6.0.0 from central in [default]\n",
      "\tcom.johnsnowlabs.nlp#tensorflow-cpu_2.12;0.4.4 from central in [default]\n",
      "\tcom.microsoft.onnxruntime#onnxruntime;1.19.2 from central in [default]\n",
      "\tcom.navigamez#greex;1.0 from central in [default]\n",
      "\tcom.typesafe#config;1.4.2 from central in [default]\n",
      "\tcom.zaxxer#SparseBitSet;1.2 from central in [default]\n",
      "\tcommons-codec#commons-codec;1.15 from central in [default]\n",
      "\tcommons-logging#commons-logging;1.1.3 from central in [default]\n",
      "\tdk.brics.automaton#automaton;1.11-8 from central in [default]\n",
      "\tio.grpc#grpc-alts;1.53.0 from central in [default]\n",
      "\tio.grpc#grpc-api;1.53.0 from central in [default]\n",
      "\tio.grpc#grpc-auth;1.53.0 from central in [default]\n",
      "\tio.grpc#grpc-context;1.53.0 from central in [default]\n",
      "\tio.grpc#grpc-core;1.53.0 from central in [default]\n",
      "\tio.grpc#grpc-googleapis;1.53.0 from central in [default]\n",
      "\tio.grpc#grpc-grpclb;1.53.0 from central in [default]\n",
      "\tio.grpc#grpc-netty-shaded;1.53.0 from central in [default]\n",
      "\tio.grpc#grpc-protobuf;1.53.0 from central in [default]\n",
      "\tio.grpc#grpc-protobuf-lite;1.53.0 from central in [default]\n",
      "\tio.grpc#grpc-services;1.53.0 from central in [default]\n",
      "\tio.grpc#grpc-stub;1.53.0 from central in [default]\n",
      "\tio.grpc#grpc-xds;1.53.0 from central in [default]\n",
      "\tio.opencensus#opencensus-api;0.31.1 from central in [default]\n",
      "\tio.opencensus#opencensus-contrib-http-util;0.31.1 from central in [default]\n",
      "\tio.opencensus#opencensus-proto;0.2.0 from central in [default]\n",
      "\tio.perfmark#perfmark-api;0.26.0 from central in [default]\n",
      "\tit.unimi.dsi#fastutil;7.0.12 from central in [default]\n",
      "\tjakarta.activation#jakarta.activation-api;2.1.3 from central in [default]\n",
      "\tjakarta.mail#jakarta.mail-api;2.1.3 from central in [default]\n",
      "\tjavax.annotation#javax.annotation-api;1.3.2 from central in [default]\n",
      "\tjoda-time#joda-time;2.8.1 from central in [default]\n",
      "\torg.apache.commons#commons-collections4;4.4 from central in [default]\n",
      "\torg.apache.commons#commons-compress;1.19 from central in [default]\n",
      "\torg.apache.commons#commons-math3;3.6.1 from central in [default]\n",
      "\torg.apache.httpcomponents#httpclient;4.5.13 from central in [default]\n",
      "\torg.apache.httpcomponents#httpcore;4.4.13 from central in [default]\n",
      "\torg.apache.pdfbox#fontbox;2.0.28 from central in [default]\n",
      "\torg.apache.pdfbox#pdfbox;2.0.28 from central in [default]\n",
      "\torg.apache.poi#poi;4.1.2 from central in [default]\n",
      "\torg.apache.poi#poi-ooxml;4.1.2 from central in [default]\n",
      "\torg.apache.poi#poi-ooxml-schemas;4.1.2 from central in [default]\n",
      "\torg.apache.poi#poi-scratchpad;4.1.2 from central in [default]\n",
      "\torg.apache.xmlbeans#xmlbeans;3.1.0 from central in [default]\n",
      "\torg.checkerframework#checker-qual;3.31.0 from central in [default]\n",
      "\torg.codehaus.mojo#animal-sniffer-annotations;1.22 from central in [default]\n",
      "\torg.conscrypt#conscrypt-openjdk-uber;2.5.2 from central in [default]\n",
      "\torg.eclipse.angus#angus-activation;2.0.2 from central in [default]\n",
      "\torg.eclipse.angus#angus-mail;2.0.3 from central in [default]\n",
      "\torg.jetbrains#annotations;24.1.0 from central in [default]\n",
      "\torg.jsoup#jsoup;1.18.2 from central in [default]\n",
      "\torg.projectlombok#lombok;1.16.8 from central in [default]\n",
      "\torg.rocksdb#rocksdbjni;6.29.5 from central in [default]\n",
      "\torg.threeten#threetenbp;1.6.5 from central in [default]\n",
      "\tsoftware.amazon.ion#ion-java;1.0.2 from central in [default]\n",
      "\t:: evicted modules:\n",
      "\tcommons-logging#commons-logging;1.2 by [commons-logging#commons-logging;1.1.3] in [default]\n",
      "\tcommons-codec#commons-codec;1.11 by [commons-codec#commons-codec;1.15] in [default]\n",
      "\tcom.google.protobuf#protobuf-java-util;3.0.0-beta-3 by [com.google.protobuf#protobuf-java-util;3.21.12] in [default]\n",
      "\tcom.google.protobuf#protobuf-java;3.0.0-beta-3 by [com.google.protobuf#protobuf-java;3.21.12] in [default]\n",
      "\tcom.google.code.gson#gson;2.3 by [com.google.code.gson#gson;2.10.1] in [default]\n",
      "\tcommons-codec#commons-codec;1.13 by [commons-codec#commons-codec;1.15] in [default]\n",
      "\t---------------------------------------------------------------------\n",
      "\t|                  |            modules            ||   artifacts   |\n",
      "\t|       conf       | number| search|dwnlded|evicted|| number|dwnlded|\n",
      "\t---------------------------------------------------------------------\n",
      "\t|      default     |  104  |   4   |   4   |   6   ||   98  |   4   |\n",
      "\t---------------------------------------------------------------------\n",
      ":: retrieving :: org.apache.spark#spark-submit-parent-5a92852d-f11f-45bd-89e7-379d8bc12258\n",
      "\tconfs: [default]\n",
      "\t4 artifacts copied, 94 already retrieved (53261kB/105ms)\n",
      "25/05/01 18:24:01 WARN NativeCodeLoader: Unable to load native-hadoop library for your platform... using builtin-java classes where applicable\n",
      "Setting default log level to \"WARN\".\n",
      "To adjust logging level use sc.setLogLevel(newLevel). For SparkR, use setLogLevel(newLevel).\n"
     ]
    },
    {
     "name": "stdout",
     "output_type": "stream",
     "text": [
      "Spark NLP version:  6.0.0\n",
      "Apache Spark version:  3.5.5\n"
     ]
    }
   ],
   "source": [
    "sparknlp_session = sparknlp.start(params={\"spark.driver.host\": \"localhost\",\n",
    "                                          \"spark.driver.port\": \"9999\",\n",
    "                                          \"spark.driver.bindAddress\": \"127.0.0.1\"})\n",
    "\n",
    "print(\"Spark NLP version: \", sparknlp.version())\n",
    "print(\"Apache Spark version: \", sparknlp_session.version)"
   ]
  },
  {
   "cell_type": "code",
   "execution_count": 3,
   "metadata": {},
   "outputs": [
    {
     "data": {
      "text/html": [
       "<div>\n",
       "<style scoped>\n",
       "    .dataframe tbody tr th:only-of-type {\n",
       "        vertical-align: middle;\n",
       "    }\n",
       "\n",
       "    .dataframe tbody tr th {\n",
       "        vertical-align: top;\n",
       "    }\n",
       "\n",
       "    .dataframe thead th {\n",
       "        text-align: right;\n",
       "    }\n",
       "</style>\n",
       "<table border=\"1\" class=\"dataframe\">\n",
       "  <thead>\n",
       "    <tr style=\"text-align: right;\">\n",
       "      <th></th>\n",
       "      <th>text</th>\n",
       "    </tr>\n",
       "  </thead>\n",
       "  <tbody>\n",
       "    <tr>\n",
       "      <th>0</th>\n",
       "      <td>As a consequence of the global COVID-19 pandem...</td>\n",
       "    </tr>\n",
       "    <tr>\n",
       "      <th>1</th>\n",
       "      <td>According to current live statistics at the ti...</td>\n",
       "    </tr>\n",
       "  </tbody>\n",
       "</table>\n",
       "</div>"
      ],
      "text/plain": [
       "                                                text\n",
       "0  As a consequence of the global COVID-19 pandem...\n",
       "1  According to current live statistics at the ti..."
      ]
     },
     "execution_count": 3,
     "metadata": {},
     "output_type": "execute_result"
    }
   ],
   "source": [
    "# Read data\n",
    "corpus = pd.read_json(os.path.join(\"..\", \"data\", \"merged\", \"test.json\"))\n",
    "corpus"
   ]
  },
  {
   "cell_type": "code",
   "execution_count": 4,
   "metadata": {},
   "outputs": [
    {
     "name": "stderr",
     "output_type": "stream",
     "text": [
      "                                                                                \r"
     ]
    },
    {
     "name": "stdout",
     "output_type": "stream",
     "text": [
      "+--------------------------------------------------------------------------------------------------------------------------------------------------------------------------------------------------------------------------------------------------------------------------------------------------------------------------------------------------------------------------------------------------------------------------------------------------------------------------------------------------------------------------------------------------------------------------------------------------------------------------------------------------------------------------------------------------------------------------------------------------------------------------------------------------------------------------------------------------------------------------------------------------------------------------------------------------------------------------------------------------------------------------------------------------------------------------------------------------------------------------------------------------------------------------------------------------------------------------------------------------------------------------------------------------------------------------------------------------------------------------------------------------------------------------------------------------------------------------------------------------------------------------------------------------------------------------------------------------------------------------------------------------------------------------------------------------------------------------------------------------------------------------------------------------------------------------------------------------------------------------------------------------------------------------------------------------------------------------------------------------------------------------------------------------------------------------------------------------------------------------------------------------------------------------------------------------------------------------------------------------------------------------------------------------------------------------------------------------------------------------------------------------------------------------------------------------------------------------------------------------------------------------------------------------------------------------------------------------------------------------------------------------------------------------------------------------------------------------------------------------------------------------------------------------------------------------------------------------------------------------------------------------------------------------------------------------------------------------------------------------------------------------------------------------------------------------------------------------------------------------------------------------------------------------------------------------------------------------------------------------------------------------------------------------------------------------------------------------------------------------------------------------------------------------------------------------------------------------------------------------------------------------------------------------------------------------------------------------------------------------------------------------------------------------------------------------------------------------------------------------------------------------------------------------------------------------------------------------------------------------------------------------------------------------------------------------------------------------------------------------------------------------------------------------------------------------------------------------------------------------------------------------------------------------------------------------------------------------------------------------------------------------------------------------------------------------------------------------------------------------------------------------------------------------------------------------------------------------------------------------------------------------------------------------------------------------------------------------------------------------------------------------------------------------------------------------------------------------------------------------------------------------------------------------------------------------------------------------------------------------------------------------------------------------------------------------------------------------------------------------------------------------------------------------------------------------------------------------------------------------------------------------------------------------------------------------------------------------------------------------------------------------------------------------------------------------------------------------------------------------------------------------------------------------------------------------------------------------------------------------------------------------------------------------------------------------------------------------------------------------------------------------------------------------------------------------------------------------------------------------------------------------------------------------------------------------------------------------------------------------------------------------------------------------------------------------------------------------------------------------------------------------------------------------------------------------------------------------------------------------------------------------------------------------------------------------------------------------------------------------------------------------------------------------------------------------------------------------------------------------------------------------------------------------------------------------------------------------------------------------------------------------------------------------------------------------------------------------------------------------------------------------------------------------------------------------------------------------------------------------------------------------------------------------------------------------------------------------------------------------------------------------------------------------------------------------------------------------------------------------------------------------------------------------------------------------------------------------------------------------------------------------------------------------+\n",
      "|text                                                                                                                                                                                                                                                                                                                                                                                                                                                                                                                                                                                                                                                                                                                                                                                                                                                                                                                                                                                                                                                                                                                                                                                                                                                                                                                                                                                                                                                                                                                                                                                                                                                                                                                                                                                                                                                                                                                                                                                                                                                                                                                                                                                                                                                                                                                                                                                                                                                                                                                                                                                                                                                                                                                                                                                                                                                                                                                                                                                                                                                                                                                                                                                                                                                                                                                                                                                                                                                                                                                                                                                                                                                                                                                                                                                                                                                                                                                                                                                                                                                                                                                                                                                                                                                                                                                                                                                                                                                                                                                                                                                                                                                                                                                                                                                                                                                                                                                                                                                                                                                                                                                                                                                                                                                                                                                                                                                                                                                                                                                                                                                                                                                                                                                                                                                                                                                                                                                                                                                                                                                                                                                                                                                                                                                                                                                                                                                                                                                                                                                                                                                                                                                                                                                                                                                                                                                                                                                                                                                                                                                                                                                                                                      |\n",
      "+--------------------------------------------------------------------------------------------------------------------------------------------------------------------------------------------------------------------------------------------------------------------------------------------------------------------------------------------------------------------------------------------------------------------------------------------------------------------------------------------------------------------------------------------------------------------------------------------------------------------------------------------------------------------------------------------------------------------------------------------------------------------------------------------------------------------------------------------------------------------------------------------------------------------------------------------------------------------------------------------------------------------------------------------------------------------------------------------------------------------------------------------------------------------------------------------------------------------------------------------------------------------------------------------------------------------------------------------------------------------------------------------------------------------------------------------------------------------------------------------------------------------------------------------------------------------------------------------------------------------------------------------------------------------------------------------------------------------------------------------------------------------------------------------------------------------------------------------------------------------------------------------------------------------------------------------------------------------------------------------------------------------------------------------------------------------------------------------------------------------------------------------------------------------------------------------------------------------------------------------------------------------------------------------------------------------------------------------------------------------------------------------------------------------------------------------------------------------------------------------------------------------------------------------------------------------------------------------------------------------------------------------------------------------------------------------------------------------------------------------------------------------------------------------------------------------------------------------------------------------------------------------------------------------------------------------------------------------------------------------------------------------------------------------------------------------------------------------------------------------------------------------------------------------------------------------------------------------------------------------------------------------------------------------------------------------------------------------------------------------------------------------------------------------------------------------------------------------------------------------------------------------------------------------------------------------------------------------------------------------------------------------------------------------------------------------------------------------------------------------------------------------------------------------------------------------------------------------------------------------------------------------------------------------------------------------------------------------------------------------------------------------------------------------------------------------------------------------------------------------------------------------------------------------------------------------------------------------------------------------------------------------------------------------------------------------------------------------------------------------------------------------------------------------------------------------------------------------------------------------------------------------------------------------------------------------------------------------------------------------------------------------------------------------------------------------------------------------------------------------------------------------------------------------------------------------------------------------------------------------------------------------------------------------------------------------------------------------------------------------------------------------------------------------------------------------------------------------------------------------------------------------------------------------------------------------------------------------------------------------------------------------------------------------------------------------------------------------------------------------------------------------------------------------------------------------------------------------------------------------------------------------------------------------------------------------------------------------------------------------------------------------------------------------------------------------------------------------------------------------------------------------------------------------------------------------------------------------------------------------------------------------------------------------------------------------------------------------------------------------------------------------------------------------------------------------------------------------------------------------------------------------------------------------------------------------------------------------------------------------------------------------------------------------------------------------------------------------------------------------------------------------------------------------------------------------------------------------------------------------------------------------------------------------------------------------------------------------------------------------------------------------------------------------------------------------------------------------------------------------------------------------------------------------------------------------------------------------------------------------------------------------------------------------------------------------------------------------------------------------------------------------------------------------------------------------------------------------------------------------------------------------------------------------------+\n",
      "|As a consequence of the global COVID-19 pandemic, an acceleration in the implementation of telemedicine occurred in order to better triage patients while maintaining medical resources and promoting social distancing. Concurrent improvements in video conferencing technology and the convenience afforded by telemedicine have allowed virtual health practices to persist even after many clinics have begun returning to in-person practice. Nevertheless, a primary disadvantage of telemedicine remains its relative inability to perform a complete physical examination, at least not in the same manner one would in clinic. In particular, an effective otologic exam remains elusive.The ability to rapidly and effectively identify sudden sensorineural hearing loss (SSNHL) is essential. SSNHL-with an incidence in the United States of 5 to 27 per 100 000 people 1 -is one of the few true otologic emergencies requiring expedited evaluation. Current guidelines recommend the initiation of oral or intratympanic steroids within 14 days of symptom onset. 2, 3 Although 32% to 65% of SSNHL cases recover spontaneously, 4 delay in management may lead to residual tinnitus, vertigo, and permanent hearing loss as well as significant negative impacts on quality of life. 2, 5, 6 Audiometry is the gold standard for diagnosing SSNHL; however, this requires appropriately trained staff and equipment which may not be readily available. Thus, the first step in evaluating a patient with suspected SSNHL begins with a history and physical examination to exclude conductive hearing loss (CHL). 2, 3 Tuning fork tests remain a fundamental part of the otologic examination. Lateralization of the Weber turning fork test (WTFT) to the affected ear has historically differentiated CHL from SNHL. 7 Alternatives to the WTFT such as the hum test and the bandage scratch test have been proposed, but neither of these methods have been appropriately validated for general otology patients. The overall clinical data base studying these alternative tests is thin and external validity was limited as they were performed on patients with normal hearing with simulated CHL or solely on postoperative patients. 8, 9 Given the ubiquity of cellphones, utilization of the native vibration function of a mobile phone as a surrogate for a tuning fork is a newer proposed alternative. One study demonstrated the use of smartphone vibration as a replacement to the WTFT on an inpatient ward, but the external validity of this study was limited as it was performed only on patients with a simulated CHL. 10 Another study performed on 60 consecutive patients presenting to the emergency department with unilateral sudden hearing loss found smartphone vibration as an adequate substitute when a provider may not have access to a tuning fork. 11 Further demonstrating the cell phone vibration test's (CPVT) utility for effective and accurate patient self-administration at home would dramatically enhance the telemedicine encounter for patients with SSNHL. Not only would it reduce COVID-19 exposure risk, but it may also assist clinicians in resource scarce settings triage which patients will need expedited, in-person care.The aim of this study, therefore, is to validate the CPVT as an adequate replacement to the WTFT on actual otology patients. An audiogram was used as the gold standard against which to compare accuracy for both the CPVT and the WTFT. Furthermore, we assessed whether patients could accurately self-administer the CPVT when given appropriate instructions. 15 Otolaryngology practices are at a higher theoretical risk of transmission since a complete evaluation involves the upper aerodigestive tract and aerosol generating procedures such as nasal endoscopy and flexible fiberoptic laryngoscopy are frequently performed in office. 16, 17 Otolaryngologists have continued to embraced telemedicine in accordance with ongoing recommendations made by the American Academy of Otolaryngology. Tele-otolaryngology was already of particular interest to the military, given the need to provide tertiary level care to patients in austere or remote locations. Retrospective studies performed at the Vermont Veteran Affairs Medical Center and NavalMedical Center San Diego found up to 62% of otolaryngology encounters would be eligible for telemedicine visits and that 64% of telemedicine patients were able to receive a preliminary diagnosis and plan, respectively. 19, 20 More recent studies found high levels of both patient and provider satisfaction with respect to tele-otolaryngology, though there remains some concern regarding the lack of physical examination. 21 Virtual physical examination maneuvers help address this practice gap, but the most apparent barrier is the ability and confidence of the patient to perform a maneuver on themselves.The CPVT breaks down this major challenge to oto-telemedicine and confers several significant advantages relative to the WTFT for at home use. First, nearly all patients have access to a cellular phone with vibration function. Second, the continuous vibration setting of cell phones is consistent, whereas proper technique is more important when utilizing a tuning fork to avoid the generation of nonfundamental sound frequencies that are produced when the fork is struck incorrectly, a fact that may confound patient interpretation. 22 The primary disadvantage to this, or any at home physical exam maneuver that requires patient cooperation, is that patients must follow instructions correctly. Emphasis on the need to firmly press the smartphone onto the center of the forehead, for example, is impor- Only 19% of patients were prescribed oral steroids by their PCM or the ED, which means a significant number of patients were not adequately treated within the ideal 14-day window recommended by the SSNHL clinical practice guideline. 24 Although it does not replace gold standard audiometry, the CPVT clearly provides clinicians performing virtual health examinations an additional tool to assist in the prompt recognition and diagnosis of SSNHL.The diagnostic accuracy of the CPVT and WTFTs as compared to a formal audiogram appears less than optimal and is somewhat expected given the controversy behind WTFT accuracy. Sensitivity and specificity vary widely amongst a handful of heterogenous studies, and the Weber has been shown to lateralize even with modest hearing asymmetries (2.5-4 dB) lower than our defined 10 dB threshold, which may explain the low accuracy amongst the SNHL patient cohort. 25 The CPVT is a virtual physical exam maneuver similar to a WTFT that can be self-administered by patients to help differentiate CHL and SNHL. The addition of this at home physical exam maneuver to the telemedicine encounter has the capacity to expedite care for those patients most at need for additional testing.The authors declare no conflict of interest.|\n",
      "|According to current live statistics at the time of editing this letter, Russia has been the third country in the world to be affected by COVID-19 with both new cases and death rates rising. It remains in a position of advantage due to the later onset of the viral spread within the country since the worldwide disease outbreak.The first step in \"fighting\" the epidemic was nationwide lock down on March 30 th , 2020.Most of the multidisciplinary hospitals have been repurposed as dedicated COVID-19 centres, so the surgeons started working as infectious disease specialists. Such a reallocation of health care capacity results in the effective management of this epidemiological problem 1 . The staff has undergone on-line 36-hour training course to become qualified in coronavirus infection treatment.The surgeons of COVID-19 dedicated hospitals do rarely practice surgery. When ICU patients need mechanical ventilation, percutaneous tracheostomy under endoscopic control is mostly performed, as it decreases the aerosol formation, viral load on staff and complications, associated with an endotracheal tube in comparison with surgical tracheostomy 2 . However, it is still associated with the risk of aerosol formation, so different approaches should be considered for a long-time perspective 3 .The majority of the studies dedicated to colorectal diseases are temporarily paused. The teaching and training are mostly translated via online platforms, which has excluded the opportunity to get clinical experience in surgery 4 .The approach to patient routing has changed significantly. If one is not diagnosed with COVID-19 CT scan and laboratory testing are provided immediately. The patients should be admitted to the surgical department, where treatment is provided only to those COVID-19 negative.The patient isolated for more than 2 weeks and COVID-19 negative as a result of 2 subsequent tests is admitted to the surgical department with an option to readmission to the infectious department and can be treated by surgical staff, which does not work with COVID-19 positive patients.The patient, diagnosed with coronavirus infection and treated at home is admitted to COVID-19 dedicated multidisciplinary hospital, where surgical care is provided. Those treated in infectious diseases hospital or COVID-19 dedicated centre are managed by the surgical team present.Surgery has become highly elective, being mostly available for high-risk patients with emergencies, malignancies, cardiovascular pathologies or infections. Preoperative testing in surgical patients with respiratory symptoms and history of travelling or contacting with COVID-19 positive people and postoperative recovery in the operating unit seem to be highly effective measures 5 . A lot of rearrangements are performed locally regarding personal protective equipment, the organization of scrubbing, donning and doffing, and dedicated changing areas. Moreover, observational departments are organized in surgical hospitals for patient allocation before coronavirus infection status is defined 6 .Surgery for benign disorders, precancerous lesions, and reconstructive procedures are currently postponed. Regarding colorectal cancer, surgical treatment may be postponed, if it is a non-obstructing disease 7 .Laparoscopic surgery and diathermy are limited as well. The importance of special operating theatre for COVID-19 patients with negative pressure ventilation, unidirectional laminar flow, as well as the use of smoke evacuation systems during surgery are taken into account 8 .Such an electiveness of surgery is concerning, as it might cause a worldwide healthcare catastrophe in the post-pandemic era 5 . More efforts should be taken to expand the amount and types of surgical procedures performed.Due to the early preventive and corrective actions we have already reached the plateau in new cases curve, counting for up to 8 984 cases identified at the time of writing this paper (June 7 th , 2020), with a mortality rate of 1⋅5075%. These statistical outcomes are resulted by a 68-day lockdown, admission regime, and healthcare rearrangement. Thus, the multistep restriction lifting has already started to consistently recover in both social and economic aspects.                                                                                                                                                                                                                                                                                                                                                                                                                                                                                                                                                                                                                                                                                                                                                                                                                                                                                                                                                                                                                                                                                                                                                                                                                                                                                                                                                                                                                                                                                                                                                                                                                                                                                                                                                                                                                                                                                                                                                                                                                                                                                                                                                                                                                                                                                                                                                                                                                                                                                                                                                                                                                                                                                                                                                     |\n",
      "+--------------------------------------------------------------------------------------------------------------------------------------------------------------------------------------------------------------------------------------------------------------------------------------------------------------------------------------------------------------------------------------------------------------------------------------------------------------------------------------------------------------------------------------------------------------------------------------------------------------------------------------------------------------------------------------------------------------------------------------------------------------------------------------------------------------------------------------------------------------------------------------------------------------------------------------------------------------------------------------------------------------------------------------------------------------------------------------------------------------------------------------------------------------------------------------------------------------------------------------------------------------------------------------------------------------------------------------------------------------------------------------------------------------------------------------------------------------------------------------------------------------------------------------------------------------------------------------------------------------------------------------------------------------------------------------------------------------------------------------------------------------------------------------------------------------------------------------------------------------------------------------------------------------------------------------------------------------------------------------------------------------------------------------------------------------------------------------------------------------------------------------------------------------------------------------------------------------------------------------------------------------------------------------------------------------------------------------------------------------------------------------------------------------------------------------------------------------------------------------------------------------------------------------------------------------------------------------------------------------------------------------------------------------------------------------------------------------------------------------------------------------------------------------------------------------------------------------------------------------------------------------------------------------------------------------------------------------------------------------------------------------------------------------------------------------------------------------------------------------------------------------------------------------------------------------------------------------------------------------------------------------------------------------------------------------------------------------------------------------------------------------------------------------------------------------------------------------------------------------------------------------------------------------------------------------------------------------------------------------------------------------------------------------------------------------------------------------------------------------------------------------------------------------------------------------------------------------------------------------------------------------------------------------------------------------------------------------------------------------------------------------------------------------------------------------------------------------------------------------------------------------------------------------------------------------------------------------------------------------------------------------------------------------------------------------------------------------------------------------------------------------------------------------------------------------------------------------------------------------------------------------------------------------------------------------------------------------------------------------------------------------------------------------------------------------------------------------------------------------------------------------------------------------------------------------------------------------------------------------------------------------------------------------------------------------------------------------------------------------------------------------------------------------------------------------------------------------------------------------------------------------------------------------------------------------------------------------------------------------------------------------------------------------------------------------------------------------------------------------------------------------------------------------------------------------------------------------------------------------------------------------------------------------------------------------------------------------------------------------------------------------------------------------------------------------------------------------------------------------------------------------------------------------------------------------------------------------------------------------------------------------------------------------------------------------------------------------------------------------------------------------------------------------------------------------------------------------------------------------------------------------------------------------------------------------------------------------------------------------------------------------------------------------------------------------------------------------------------------------------------------------------------------------------------------------------------------------------------------------------------------------------------------------------------------------------------------------------------------------------------------------------------------------------------------------------------------------------------------------------------------------------------------------------------------------------------------------------------------------------------------------------------------------------------------------------------------------------------------------------------------------------------------------------------------------------------------------------------------------------------------------------------------------------------+\n",
      "\n"
     ]
    }
   ],
   "source": [
    "# Change from pandas.DataFrame to Spark DataFrame\n",
    "sparknlp_df = sparknlp_session.createDataFrame(corpus)\n",
    "sparknlp_df.show(truncate=False)"
   ]
  },
  {
   "cell_type": "code",
   "execution_count": 8,
   "metadata": {},
   "outputs": [
    {
     "name": "stdout",
     "output_type": "stream",
     "text": [
      "+--------------------+--------------------+\n",
      "|                text|            document|\n",
      "+--------------------+--------------------+\n",
      "|As a consequence ...|[{document, 0, 68...|\n",
      "|According to curr...|[{document, 0, 42...|\n",
      "+--------------------+--------------------+\n",
      "\n"
     ]
    },
    {
     "name": "stderr",
     "output_type": "stream",
     "text": [
      "                                                                                \r"
     ]
    }
   ],
   "source": [
    "# Document Assembler: Converts input text into a suitable format for NLP processing\n",
    "documentAssembler = DocumentAssembler()\\\n",
    "        .setInputCol(\"text\")\\\n",
    "        .setOutputCol(\"document\")\\\n",
    "        .setCleanupMode(\"shrink\")\n",
    "\n",
    "doc_df = documentAssembler.transform(sparknlp_df)\n",
    "\n",
    "doc_df.show(truncate=True)\n",
    "        "
   ]
  },
  {
   "cell_type": "code",
   "execution_count": null,
   "metadata": {},
   "outputs": [
    {
     "name": "stdout",
     "output_type": "stream",
     "text": [
      "+--------------------+--------------------+--------------------+\n",
      "|                text|            document|           sentences|\n",
      "+--------------------+--------------------+--------------------+\n",
      "|As a consequence ...|[{document, 0, 68...|[{document, 0, 21...|\n",
      "|According to curr...|[{document, 0, 42...|[{document, 0, 18...|\n",
      "+--------------------+--------------------+--------------------+\n",
      "\n"
     ]
    },
    {
     "name": "stderr",
     "output_type": "stream",
     "text": [
      "                                                                                \r"
     ]
    }
   ],
   "source": [
    "# Sentence tokenisation\n",
    "sentenceDetector = SentenceDetector()\\\n",
    "      .setInputCols(['document'])\\\n",
    "      .setOutputCol('sentences')\n",
    "\n",
    "sent_df = sentenceDetector.transform(doc_df)\n",
    "sent_df.show(truncate=True)"
   ]
  },
  {
   "cell_type": "code",
   "execution_count": 31,
   "metadata": {},
   "outputs": [
    {
     "name": "stderr",
     "output_type": "stream",
     "text": [
      "                                                                                \r"
     ]
    },
    {
     "data": {
      "text/plain": [
       "[Row(result=['As', 'a', 'consequence', 'of', 'the', 'global', 'COVID-19', 'pandemic', ',', 'an', 'acceleration', 'in', 'the', 'implementation', 'of', 'telemedicine', 'occurred', 'in', 'order', 'to', 'better', 'triage', 'patients', 'while', 'maintaining', 'medical', 'resources', 'and', 'promoting', 'social', 'distancing', '.', 'Concurrent', 'improvements', 'in', 'video', 'conferencing', 'technology', 'and', 'the', 'convenience', 'afforded', 'by', 'telemedicine', 'have', 'allowed', 'virtual', 'health', 'practices', 'to', 'persist', 'even', 'after', 'many', 'clinics', 'have', 'begun', 'returning', 'to', 'in-person', 'practice', '.', 'Nevertheless', ',', 'a', 'primary', 'disadvantage', 'of', 'telemedicine', 'remains', 'its', 'relative', 'inability', 'to', 'perform', 'a', 'complete', 'physical', 'examination', ',', 'at', 'least', 'not', 'in', 'the', 'same', 'manner', 'one', 'would', 'in', 'clinic', '.', 'In', 'particular', ',', 'an', 'effective', 'otologic', 'exam', 'remains', 'elusive.The', 'ability', 'to', 'rapidly', 'and', 'effectively', 'identify', 'sudden', 'sensorineural', 'hearing', 'loss', '(', 'SSNHL', ')', 'is', 'essential', '.', 'SSNHL-with', 'an', 'incidence', 'in', 'the', 'United', 'States', 'of', '5', 'to', '27', 'per', '100', '000', 'people', '1', '-', 'is', 'one', 'of', 'the', 'few', 'true', 'otologic', 'emergencies', 'requiring', 'expedited', 'evaluation', '.', 'Current', 'guidelines', 'recommend', 'the', 'initiation', 'of', 'oral', 'or', 'intratympanic', 'steroids', 'within', '14', 'days', 'of', 'symptom', 'onset', '.', '2', ',', '3', 'Although', '32%', 'to', '65%', 'of', 'SSNHL', 'cases', 'recover', 'spontaneously', ',', '4', 'delay', 'in', 'management', 'may', 'lead', 'to', 'residual', 'tinnitus', ',', 'vertigo', ',', 'and', 'permanent', 'hearing', 'loss', 'as', 'well', 'as', 'significant', 'negative', 'impacts', 'on', 'quality', 'of', 'life', '.', '2', ',', '5', ',', '6', 'Audiometry', 'is', 'the', 'gold', 'standard', 'for', 'diagnosing', 'SSNHL', ';', 'however', ',', 'this', 'requires', 'appropriately', 'trained', 'staff', 'and', 'equipment', 'which', 'may', 'not', 'be', 'readily', 'available', '.', 'Thus', ',', 'the', 'first', 'step', 'in', 'evaluating', 'a', 'patient', 'with', 'suspected', 'SSNHL', 'begins', 'with', 'a', 'history', 'and', 'physical', 'examination', 'to', 'exclude', 'conductive', 'hearing', 'loss', '(', 'CHL', ').', '2', ',', '3', 'Tuning', 'fork', 'tests', 'remain', 'a', 'fundamental', 'part', 'of', 'the', 'otologic', 'examination', '.', 'Lateralization', 'of', 'the', 'Weber', 'turning', 'fork', 'test', '(', 'WTFT', ')', 'to', 'the', 'affected', 'ear', 'has', 'historically', 'differentiated', 'CHL', 'from', 'SNHL', '.', '7', 'Alternatives', 'to', 'the', 'WTFT', 'such', 'as', 'the', 'hum', 'test', 'and', 'the', 'bandage', 'scratch', 'test', 'have', 'been', 'proposed', ',', 'but', 'neither', 'of', 'these', 'methods', 'have', 'been', 'appropriately', 'validated', 'for', 'general', 'otology', 'patients', '.', 'The', 'overall', 'clinical', 'data', 'base', 'studying', 'these', 'alternative', 'tests', 'is', 'thin', 'and', 'external', 'validity', 'was', 'limited', 'as', 'they', 'were', 'performed', 'on', 'patients', 'with', 'normal', 'hearing', 'with', 'simulated', 'CHL', 'or', 'solely', 'on', 'postoperative', 'patients', '.', '8', ',', '9', 'Given', 'the', 'ubiquity', 'of', 'cellphones', ',', 'utilization', 'of', 'the', 'native', 'vibration', 'function', 'of', 'a', 'mobile', 'phone', 'as', 'a', 'surrogate', 'for', 'a', 'tuning', 'fork', 'is', 'a', 'newer', 'proposed', 'alternative', '.', 'One', 'study', 'demonstrated', 'the', 'use', 'of', 'smartphone', 'vibration', 'as', 'a', 'replacement', 'to', 'the', 'WTFT', 'on', 'an', 'inpatient', 'ward', ',', 'but', 'the', 'external', 'validity', 'of', 'this', 'study', 'was', 'limited', 'as', 'it', 'was', 'performed', 'only', 'on', 'patients', 'with', 'a', 'simulated', 'CHL', '.', '10', 'Another', 'study', 'performed', 'on', '60', 'consecutive', 'patients', 'presenting', 'to', 'the', 'emergency', 'department', 'with', 'unilateral', 'sudden', 'hearing', 'loss', 'found', 'smartphone', 'vibration', 'as', 'an', 'adequate', 'substitute', 'when', 'a', 'provider', 'may', 'not', 'have', 'access', 'to', 'a', 'tuning', 'fork', '.', '11', 'Further', 'demonstrating', 'the', 'cell', 'phone', 'vibration', \"test's\", '(', 'CPVT', ')', 'utility', 'for', 'effective', 'and', 'accurate', 'patient', 'self-administration', 'at', 'home', 'would', 'dramatically', 'enhance', 'the', 'telemedicine', 'encounter', 'for', 'patients', 'with', 'SSNHL', '.', 'Not', 'only', 'would', 'it', 'reduce', 'COVID-19', 'exposure', 'risk', ',', 'but', 'it', 'may', 'also', 'assist', 'clinicians', 'in', 'resource', 'scarce', 'settings', 'triage', 'which', 'patients', 'will', 'need', 'expedited', ',', 'in-person', 'care.The', 'aim', 'of', 'this', 'study', ',', 'therefore', ',', 'is', 'to', 'validate', 'the', 'CPVT', 'as', 'an', 'adequate', 'replacement', 'to', 'the', 'WTFT', 'on', 'actual', 'otology', 'patients', '.', 'An', 'audiogram', 'was', 'used', 'as', 'the', 'gold', 'standard', 'against', 'which', 'to', 'compare', 'accuracy', 'for', 'both', 'the', 'CPVT', 'and', 'the', 'WTFT', '.', 'Furthermore', ',', 'we', 'assessed', 'whether', 'patients', 'could', 'accurately', 'self-administer', 'the', 'CPVT', 'when', 'given', 'appropriate', 'instructions', '.', '15', 'Otolaryngology', 'practices', 'are', 'at', 'a', 'higher', 'theoretical', 'risk', 'of', 'transmission', 'since', 'a', 'complete', 'evaluation', 'involves', 'the', 'upper', 'aerodigestive', 'tract', 'and', 'aerosol', 'generating', 'procedures', 'such', 'as', 'nasal', 'endoscopy', 'and', 'flexible', 'fiberoptic', 'laryngoscopy', 'are', 'frequently', 'performed', 'in', 'office', '.', '16', ',', '17', 'Otolaryngologists', 'have', 'continued', 'to', 'embraced', 'telemedicine', 'in', 'accordance', 'with', 'ongoing', 'recommendations', 'made', 'by', 'the', 'American', 'Academy', 'of', 'Otolaryngology', '.', 'Tele-otolaryngology', 'was', 'already', 'of', 'particular', 'interest', 'to', 'the', 'military', ',', 'given', 'the', 'need', 'to', 'provide', 'tertiary', 'level', 'care', 'to', 'patients', 'in', 'austere', 'or', 'remote', 'locations', '.', 'Retrospective', 'studies', 'performed', 'at', 'the', 'Vermont', 'Veteran', 'Affairs', 'Medical', 'Center', 'and', 'NavalMedical', 'Center', 'San', 'Diego', 'found', 'up', 'to', '62%', 'of', 'otolaryngology', 'encounters', 'would', 'be', 'eligible', 'for', 'telemedicine', 'visits', 'and', 'that', '64%', 'of', 'telemedicine', 'patients', 'were', 'able', 'to', 'receive', 'a', 'preliminary', 'diagnosis', 'and', 'plan', ',', 'respectively', '.', '19', ',', '20', 'More', 'recent', 'studies', 'found', 'high', 'levels', 'of', 'both', 'patient', 'and', 'provider', 'satisfaction', 'with', 'respect', 'to', 'tele-otolaryngology', ',', 'though', 'there', 'remains', 'some', 'concern', 'regarding', 'the', 'lack', 'of', 'physical', 'examination', '.', '21', 'Virtual', 'physical', 'examination', 'maneuvers', 'help', 'address', 'this', 'practice', 'gap', ',', 'but', 'the', 'most', 'apparent', 'barrier', 'is', 'the', 'ability', 'and', 'confidence', 'of', 'the', 'patient', 'to', 'perform', 'a', 'maneuver', 'on', 'themselves.The', 'CPVT', 'breaks', 'down', 'this', 'major', 'challenge', 'to', 'oto-telemedicine', 'and', 'confers', 'several', 'significant', 'advantages', 'relative', 'to', 'the', 'WTFT', 'for', 'at', 'home', 'use', '.', 'First', ',', 'nearly', 'all', 'patients', 'have', 'access', 'to', 'a', 'cellular', 'phone', 'with', 'vibration', 'function', '.', 'Second', ',', 'the', 'continuous', 'vibration', 'setting', 'of', 'cell', 'phones', 'is', 'consistent', ',', 'whereas', 'proper', 'technique', 'is', 'more', 'important', 'when', 'utilizing', 'a', 'tuning', 'fork', 'to', 'avoid', 'the', 'generation', 'of', 'nonfundamental', 'sound', 'frequencies', 'that', 'are', 'produced', 'when', 'the', 'fork', 'is', 'struck', 'incorrectly', ',', 'a', 'fact', 'that', 'may', 'confound', 'patient', 'interpretation', '.', '22', 'The', 'primary', 'disadvantage', 'to', 'this', ',', 'or', 'any', 'at', 'home', 'physical', 'exam', 'maneuver', 'that', 'requires', 'patient', 'cooperation', ',', 'is', 'that', 'patients', 'must', 'follow', 'instructions', 'correctly', '.', 'Emphasis', 'on', 'the', 'need', 'to', 'firmly', 'press', 'the', 'smartphone', 'onto', 'the', 'center', 'of', 'the', 'forehead', ',', 'for', 'example', ',', 'is', 'impor', '-', 'Only', '19%', 'of', 'patients', 'were', 'prescribed', 'oral', 'steroids', 'by', 'their', 'PCM', 'or', 'the', 'ED', ',', 'which', 'means', 'a', 'significant', 'number', 'of', 'patients', 'were', 'not', 'adequately', 'treated', 'within', 'the', 'ideal', '14-day', 'window', 'recommended', 'by', 'the', 'SSNHL', 'clinical', 'practice', 'guideline', '.', '24', 'Although', 'it', 'does', 'not', 'replace', 'gold', 'standard', 'audiometry', ',', 'the', 'CPVT', 'clearly', 'provides', 'clinicians', 'performing', 'virtual', 'health', 'examinations', 'an', 'additional', 'tool', 'to', 'assist', 'in', 'the', 'prompt', 'recognition', 'and', 'diagnosis', 'of', 'SSNHL.The', 'diagnostic', 'accuracy', 'of', 'the', 'CPVT', 'and', 'WTFTs', 'as', 'compared', 'to', 'a', 'formal', 'audiogram', 'appears', 'less', 'than', 'optimal', 'and', 'is', 'somewhat', 'expected', 'given', 'the', 'controversy', 'behind', 'WTFT', 'accuracy', '.', 'Sensitivity', 'and', 'specificity', 'vary', 'widely', 'amongst', 'a', 'handful', 'of', 'heterogenous', 'studies', ',', 'and', 'the', 'Weber', 'has', 'been', 'shown', 'to', 'lateralize', 'even', 'with', 'modest', 'hearing', 'asymmetries', '(', '2.5-4', 'dB', ')', 'lower', 'than', 'our', 'defined', '10', 'dB', 'threshold', ',', 'which', 'may', 'explain', 'the', 'low', 'accuracy', 'amongst', 'the', 'SNHL', 'patient', 'cohort', '.', '25', 'The', 'CPVT', 'is', 'a', 'virtual', 'physical', 'exam', 'maneuver', 'similar', 'to', 'a', 'WTFT', 'that', 'can', 'be', 'self-administered', 'by', 'patients', 'to', 'help', 'differentiate', 'CHL', 'and', 'SNHL', '.', 'The', 'addition', 'of', 'this', 'at', 'home', 'physical', 'exam', 'maneuver', 'to', 'the', 'telemedicine', 'encounter', 'has', 'the', 'capacity', 'to', 'expedite', 'care', 'for', 'those', 'patients', 'most', 'at', 'need', 'for', 'additional', 'testing.The', 'authors', 'declare', 'no', 'conflict', 'of', 'interest', '.'])]"
      ]
     },
     "execution_count": 31,
     "metadata": {},
     "output_type": "execute_result"
    }
   ],
   "source": [
    "# Tokenisation and Normalisation \n",
    "tokeniser = Tokenizer()\\\n",
    "    .setInputCols([\"sentences\"]) \\\n",
    "    .setOutputCol(\"token\")\n",
    "\n",
    "token_df = tokeniser.fit(sent_df).transform(sent_df)\n",
    "token_df.select('token.result').take(1)"
   ]
  },
  {
   "cell_type": "code",
   "execution_count": null,
   "metadata": {},
   "outputs": [
    {
     "name": "stderr",
     "output_type": "stream",
     "text": [
      "[Stage 25:===================>                                      (1 + 2) / 3]\r"
     ]
    },
    {
     "name": "stdout",
     "output_type": "stream",
     "text": [
      "+---------------------------------------------------------------------------------------------------------------------------------------------------------------------------------------------------------------------------------------------------------------------------------------------------------------------------------------------------------------------------------------------------------------------------------------------------------------------------------------------------------------------------------------------------------------------------------------------------------------------------------------------------------------------------------------------------------------------------------------------------------------------------------------------------------------------------------------------------------------------------------------------------------------------------------------------------------------------------------------------------------------------------------------------------------------------------------------------------------------------------------------------------------------------------------------------------------------------------------------------------------------------------------------------------------------------------------------------------------------------------------------------------------------------------------------------------------------------------------------------------------------------------------------------------------------------------------------------------------------------------------------------------------------------------------------------------------------------------------------------------------------------------------------------------------------------------------------------------------------------------------------------------------------------------------------------------------------------------------------------------------------------------------------------------------------------------------------------------------------------------------------------------------------------------------------------------------------------------------------------------------------------------------------------------------------------------------------------------------------------------------------------------------------------------------------------------------------------------------------------------------------------------------------------------------------------------------------------------------------------------------------------------------------------------------------------------------------------------------------------------------------------------------------------------------------------------------------------------------------------------------------------------------------------------------------------------------------------------------------------------------------------------------------------------------------------------------------------------------------------------------------------------------------------------------------------------------------------------------------------------------------------------------------------------------------------------------------------------------------------------------------------------------------------------------------------------------------------------------------------------------------------------------------------------------------------------------------------------------------------------------------------------------------------------------------------------------------------------------------------------------------------------------------------------------------------------------------------------------------------------------------------------------------------------------------------------------------------------------------------------------------------------------------------------------------------------------------------------------------------------------------------------------------------------------------------------------------------------------------------------------------------------------------------------------------------------------------------------------------------------------------------------------------------------------------------------------------------------------------------------------------------------------------------------------------------------------------------------------------------------------------------------------------------------------------------------------------------------------------------------------------------------------------------------------------------------------------------------------------------------------------------------------------------------------------------------------------------------------------------------------------------------------------------------------------------------------------------------------------------------------------------------------------------------------------------------------------------------------------------------------------------------------------------------------------------------------------------------------------------------------------------------------------------------------------------------------------------------------------------------------------------------------------------------------------------------------------------------------------------------------------------------------------------------------------------------------------------------------------------------------------------------------------------------------------------------------------------------------------------------------------------------------------------------------------------------------------------------------------------------------------------------------------------------------------------------------------------------------------------------------------------------------------------------------------------------------------------------------------------------------------------------------------------------------------------------------------------------------------------------------------------------------------------------------------------------------------------------------------------------------------------------------------------------------------------------------------------------------------------------------------------------------------------------------------------------------------------------------------------------------------------------------------------------------------------------------------------------------------------------------------------------------------------------------------------------------------------------------------------------------------------------------------------------------------------------------------------------------------------------------------------------------------------------------------------------------------------------------------------------------------------------------------------------------------------------------------------------------------------------------------------------------------------------------------------------------------------------------------------------------------------------------------------------------------------------------------------------------------------------------------------------------------------------------------------------------------------------------------------------------------------------------------------------------------------------------------------------------------------------------------------------------------------------------------------------------------------------------------------------+\n",
      "|result                                                                                                                                                                                                                                                                                                                                                                                                                                                                                                                                                                                                                                                                                                                                                                                                                                                                                                                                                                                                                                                                                                                                                                                                                                                                                                                                                                                                                                                                                                                                                                                                                                                                                                                                                                                                                                                                                                                                                                                                                                                                                                                                                                                                                                                                                                                                                                                                                                                                                                                                                                                                                                                                                                                                                                                                                                                                                                                                                                                                                                                                                                                                                                                                                                                                                                                                                                                                                                                                                                                                                                                                                                                                                                                                                                                                                                                                                                                                                                                                                                                                                                                                                                                                                                                                                                                                                                                                                                                                                                                                                                                                                                                                                                                                                                                                                                                                                                                                                                                                                                                                                                                                                                                                                                                                                                                                                                                                                                                                                                                                                                                                                                                                                                                                                                                                                                                                                                                                                                                                                                                                                                                                                                                                                                                                                                                                                                                                                                                                                                                                                                                                                                                                                                                                                                                                                                                                                                                                                                                                                                                                                                                                                                                                                                                                                                                                                                                                                                                                                                                                                                                                                                                                                                                                                                                                                                                                                                                                                                                             |\n",
      "+---------------------------------------------------------------------------------------------------------------------------------------------------------------------------------------------------------------------------------------------------------------------------------------------------------------------------------------------------------------------------------------------------------------------------------------------------------------------------------------------------------------------------------------------------------------------------------------------------------------------------------------------------------------------------------------------------------------------------------------------------------------------------------------------------------------------------------------------------------------------------------------------------------------------------------------------------------------------------------------------------------------------------------------------------------------------------------------------------------------------------------------------------------------------------------------------------------------------------------------------------------------------------------------------------------------------------------------------------------------------------------------------------------------------------------------------------------------------------------------------------------------------------------------------------------------------------------------------------------------------------------------------------------------------------------------------------------------------------------------------------------------------------------------------------------------------------------------------------------------------------------------------------------------------------------------------------------------------------------------------------------------------------------------------------------------------------------------------------------------------------------------------------------------------------------------------------------------------------------------------------------------------------------------------------------------------------------------------------------------------------------------------------------------------------------------------------------------------------------------------------------------------------------------------------------------------------------------------------------------------------------------------------------------------------------------------------------------------------------------------------------------------------------------------------------------------------------------------------------------------------------------------------------------------------------------------------------------------------------------------------------------------------------------------------------------------------------------------------------------------------------------------------------------------------------------------------------------------------------------------------------------------------------------------------------------------------------------------------------------------------------------------------------------------------------------------------------------------------------------------------------------------------------------------------------------------------------------------------------------------------------------------------------------------------------------------------------------------------------------------------------------------------------------------------------------------------------------------------------------------------------------------------------------------------------------------------------------------------------------------------------------------------------------------------------------------------------------------------------------------------------------------------------------------------------------------------------------------------------------------------------------------------------------------------------------------------------------------------------------------------------------------------------------------------------------------------------------------------------------------------------------------------------------------------------------------------------------------------------------------------------------------------------------------------------------------------------------------------------------------------------------------------------------------------------------------------------------------------------------------------------------------------------------------------------------------------------------------------------------------------------------------------------------------------------------------------------------------------------------------------------------------------------------------------------------------------------------------------------------------------------------------------------------------------------------------------------------------------------------------------------------------------------------------------------------------------------------------------------------------------------------------------------------------------------------------------------------------------------------------------------------------------------------------------------------------------------------------------------------------------------------------------------------------------------------------------------------------------------------------------------------------------------------------------------------------------------------------------------------------------------------------------------------------------------------------------------------------------------------------------------------------------------------------------------------------------------------------------------------------------------------------------------------------------------------------------------------------------------------------------------------------------------------------------------------------------------------------------------------------------------------------------------------------------------------------------------------------------------------------------------------------------------------------------------------------------------------------------------------------------------------------------------------------------------------------------------------------------------------------------------------------------------------------------------------------------------------------------------------------------------------------------------------------------------------------------------------------------------------------------------------------------------------------------------------------------------------------------------------------------------------------------------------------------------------------------------------------------------------------------------------------------------------------------------------------------------------------------------------------------------------------------------------------------------------------------------------------------------------------------------------------------------------------------------------------------------------------------------------------------------------------------------------------------------------------------------------------------------------------------------------------------------------------------------------------------------------------------------------------------+\n",
      "|[as, a, consequence, of, the, global, covid, pandemic, an, acceleration, in, the, implementation, of, telemedicine, occurred, in, order, to, better, triage, patients, while, maintaining, medical, resources, and, promoting, social, distancing, concurrent, improvements, in, video, conferencing, technology, and, the, convenience, afforded, by, telemedicine, have, allowed, virtual, health, practices, to, persist, even, after, many, clinics, have, begun, returning, to, inperson, practice, nevertheless, a, primary, disadvantage, of, telemedicine, remains, its, relative, inability, to, perform, a, complete, physical, examination, at, least, not, in, the, same, manner, one, would, in, clinic, in, particular, an, effective, otologic, exam, remains, elusivethe, ability, to, rapidly, and, effectively, identify, sudden, sensorineural, hearing, loss, ssnhl, is, essential, ssnhlwith, an, incidence, in, the, united, states, of, to, per, people, is, one, of, the, few, true, otologic, emergencies, requiring, expedited, evaluation, current, guidelines, recommend, the, initiation, of, oral, or, intratympanic, steroids, within, days, of, symptom, onset, although, to, of, ssnhl, cases, recover, spontaneously, delay, in, management, may, lead, to, residual, tinnitus, vertigo, and, permanent, hearing, loss, as, well, as, significant, negative, impacts, on, quality, of, life, audiometry, is, the, gold, standard, for, diagnosing, ssnhl, however, this, requires, appropriately, trained, staff, and, equipment, which, may, not, be, readily, available, thus, the, first, step, in, evaluating, a, patient, with, suspected, ssnhl, begins, with, a, history, and, physical, examination, to, exclude, conductive, hearing, loss, chl, tuning, fork, tests, remain, a, fundamental, part, of, the, otologic, examination, lateralization, of, the, weber, turning, fork, test, wtft, to, the, affected, ear, has, historically, differentiated, chl, from, snhl, alternatives, to, the, wtft, such, as, the, hum, test, and, the, bandage, scratch, test, have, been, proposed, but, neither, of, these, methods, have, been, appropriately, validated, for, general, otology, patients, the, overall, clinical, data, base, studying, these, alternative, tests, is, thin, and, external, validity, was, limited, as, they, were, performed, on, patients, with, normal, hearing, with, simulated, chl, or, solely, on, postoperative, patients, given, the, ubiquity, of, cellphones, utilization, of, the, native, vibration, function, of, a, mobile, phone, as, a, surrogate, for, a, tuning, fork, is, a, newer, proposed, alternative, one, study, demonstrated, the, use, of, smartphone, vibration, as, a, replacement, to, the, wtft, on, an, inpatient, ward, but, the, external, validity, of, this, study, was, limited, as, it, was, performed, only, on, patients, with, a, simulated, chl, another, study, performed, on, consecutive, patients, presenting, to, the, emergency, department, with, unilateral, sudden, hearing, loss, found, smartphone, vibration, as, an, adequate, substitute, when, a, provider, may, not, have, access, to, a, tuning, fork, further, demonstrating, the, cell, phone, vibration, tests, cpvt, utility, for, effective, and, accurate, patient, selfadministration, at, home, would, dramatically, enhance, the, telemedicine, encounter, for, patients, with, ssnhl, not, only, would, it, reduce, covid, exposure, risk, but, it, may, also, assist, clinicians, in, resource, scarce, settings, triage, which, patients, will, need, expedited, inperson, carethe, aim, of, this, study, therefore, is, to, validate, the, cpvt, as, an, adequate, replacement, to, the, wtft, on, actual, otology, patients, an, audiogram, was, used, as, the, gold, standard, against, which, to, compare, accuracy, for, both, the, cpvt, and, the, wtft, furthermore, we, assessed, whether, patients, could, accurately, selfadminister, the, cpvt, when, given, appropriate, instructions, otolaryngology, practices, are, at, a, higher, theoretical, risk, of, transmission, since, a, complete, evaluation, involves, the, upper, aerodigestive, tract, and, aerosol, generating, procedures, such, as, nasal, endoscopy, and, flexible, fiberoptic, laryngoscopy, are, frequently, performed, in, office, otolaryngologists, have, continued, to, embraced, telemedicine, in, accordance, with, ongoing, recommendations, made, by, the, american, academy, of, otolaryngology, teleotolaryngology, was, already, of, particular, interest, to, the, military, given, the, need, to, provide, tertiary, level, care, to, patients, in, austere, or, remote, locations, retrospective, studies, performed, at, the, vermont, veteran, affairs, medical, center, and, navalmedical, center, san, diego, found, up, to, of, otolaryngology, encounters, would, be, eligible, for, telemedicine, visits, and, that, of, telemedicine, patients, were, able, to, receive, a, preliminary, diagnosis, and, plan, respectively, more, recent, studies, found, high, levels, of, both, patient, and, provider, satisfaction, with, respect, to, teleotolaryngology, though, there, remains, some, concern, regarding, the, lack, of, physical, examination, virtual, physical, examination, maneuvers, help, address, this, practice, gap, but, the, most, apparent, barrier, is, the, ability, and, confidence, of, the, patient, to, perform, a, maneuver, on, themselvesthe, cpvt, breaks, down, this, major, challenge, to, ototelemedicine, and, confers, several, significant, advantages, relative, to, the, wtft, for, at, home, use, first, nearly, all, patients, have, access, to, a, cellular, phone, with, vibration, function, second, the, continuous, vibration, setting, of, cell, phones, is, consistent, whereas, proper, technique, is, more, important, when, utilizing, a, tuning, fork, to, avoid, the, generation, of, nonfundamental, sound, frequencies, that, are, produced, when, the, fork, is, struck, incorrectly, a, fact, that, may, confound, patient, interpretation, the, primary, disadvantage, to, this, or, any, at, home, physical, exam, maneuver, that, requires, patient, cooperation, is, that, patients, must, follow, instructions, correctly, emphasis, on, the, need, to, firmly, press, the, smartphone, onto, the, center, of, the, forehead, for, example, is, impor, only, of, patients, were, prescribed, oral, steroids, by, their, pcm, or, the, ed, which, means, a, significant, number, of, patients, were, not, adequately, treated, within, the, ideal, day, window, recommended, by, the, ssnhl, clinical, practice, guideline, although, it, does, not, replace, gold, standard, audiometry, the, cpvt, clearly, provides, clinicians, performing, virtual, health, examinations, an, additional, tool, to, assist, in, the, prompt, recognition, and, diagnosis, of, ssnhlthe, diagnostic, accuracy, of, the, cpvt, and, wtfts, as, compared, to, a, formal, audiogram, appears, less, than, optimal, and, is, somewhat, expected, given, the, controversy, behind, wtft, accuracy, sensitivity, and, specificity, vary, widely, amongst, a, handful, of, heterogenous, studies, and, the, weber, has, been, shown, to, lateralize, even, with, modest, hearing, asymmetries, db, lower, than, our, defined, db, threshold, which, may, explain, the, low, accuracy, amongst, the, snhl, patient, cohort, the, cpvt, is, a, virtual, physical, exam, maneuver, similar, to, a, wtft, that, can, be, selfadministered, by, patients, to, help, differentiate, chl, and, snhl, the, addition, of, this, at, home, physical, exam, maneuver, to, the, telemedicine, encounter, has, the, capacity, to, expedite, care, for, those, patients, most, at, need, for, additional, testingthe, authors, declare, no, conflict, of, interest]|\n",
      "|[according, to, current, live, statistics, at, the, time, of, editing, this, letter, russia, has, been, the, third, country, in, the, world, to, be, affected, by, covid, with, both, new, cases, and, death, rates, rising, it, remains, in, a, position, of, advantage, due, to, the, later, onset, of, the, viral, spread, within, the, country, since, the, worldwide, disease, outbreakthe, first, step, in, fighting, the, epidemic, was, nationwide, lock, down, on, march, th, most, of, the, multidisciplinary, hospitals, have, been, repurposed, as, dedicated, covid, centres, so, the, surgeons, started, working, as, infectious, disease, specialists, such, a, reallocation, of, health, care, capacity, results, in, the, effective, management, of, this, epidemiological, problem, the, staff, has, undergone, online, hour, training, course, to, become, qualified, in, coronavirus, infection, treatmentthe, surgeons, of, covid, dedicated, hospitals, do, rarely, practice, surgery, when, icu, patients, need, mechanical, ventilation, percutaneous, tracheostomy, under, endoscopic, control, is, mostly, performed, as, it, decreases, the, aerosol, formation, viral, load, on, staff, and, complications, associated, with, an, endotracheal, tube, in, comparison, with, surgical, tracheostomy, however, it, is, still, associated, with, the, risk, of, aerosol, formation, so, different, approaches, should, be, considered, for, a, longtime, perspective, the, majority, of, the, studies, dedicated, to, colorectal, diseases, are, temporarily, paused, the, teaching, and, training, are, mostly, translated, via, online, platforms, which, has, excluded, the, opportunity, to, get, clinical, experience, in, surgery, the, approach, to, patient, routing, has, changed, significantly, if, one, is, not, diagnosed, with, covid, ct, scan, and, laboratory, testing, are, provided, immediately, the, patients, should, be, admitted, to, the, surgical, department, where, treatment, is, provided, only, to, those, covid, negativethe, patient, isolated, for, more, than, weeks, and, covid, negative, as, a, result, of, subsequent, tests, is, admitted, to, the, surgical, department, with, an, option, to, readmission, to, the, infectious, department, and, can, be, treated, by, surgical, staff, which, does, not, work, with, covid, positive, patientsthe, patient, diagnosed, with, coronavirus, infection, and, treated, at, home, is, admitted, to, covid, dedicated, multidisciplinary, hospital, where, surgical, care, is, provided, those, treated, in, infectious, diseases, hospital, or, covid, dedicated, centre, are, managed, by, the, surgical, team, presentsurgery, has, become, highly, elective, being, mostly, available, for, highrisk, patients, with, emergencies, malignancies, cardiovascular, pathologies, or, infections, preoperative, testing, in, surgical, patients, with, respiratory, symptoms, and, history, of, travelling, or, contacting, with, covid, positive, people, and, postoperative, recovery, in, the, operating, unit, seem, to, be, highly, effective, measures, a, lot, of, rearrangements, are, performed, locally, regarding, personal, protective, equipment, the, organization, of, scrubbing, donning, and, doffing, and, dedicated, changing, areas, moreover, observational, departments, are, organized, in, surgical, hospitals, for, patient, allocation, before, coronavirus, infection, status, is, defined, surgery, for, benign, disorders, precancerous, lesions, and, reconstructive, procedures, are, currently, postponed, regarding, colorectal, cancer, surgical, treatment, may, be, postponed, if, it, is, a, nonobstructing, disease, laparoscopic, surgery, and, diathermy, are, limited, as, well, the, importance, of, special, operating, theatre, for, covid, patients, with, negative, pressure, ventilation, unidirectional, laminar, flow, as, well, as, the, use, of, smoke, evacuation, systems, during, surgery, are, taken, into, account, such, an, electiveness, of, surgery, is, concerning, as, it, might, cause, a, worldwide, healthcare, catastrophe, in, the, postpandemic, era, more, efforts, should, be, taken, to, expand, the, amount, and, types, of, surgical, procedures, performeddue, to, the, early, preventive, and, corrective, actions, we, have, already, reached, the, plateau, in, new, cases, curve, counting, for, up, to, cases, identified, at, the, time, of, writing, this, paper, june, th, with, a, mortality, rate, of, these, statistical, outcomes, are, resulted, by, a, day, lockdown, admission, regime, and, healthcare, rearrangement, thus, the, multistep, restriction, lifting, has, already, started, to, consistently, recover, in, both, social, and, economic, aspects]                                                                                                                                                                                                                                                                                                                                                                                                                                                                                                                                                                                                                                                                                                                                                                                                                                                                                                                                                                                                                                                                                                                                                                                                                                                                                                                                                                                                                                                                                                                                                                                                                                                                                                                                                                                                                                                                                                                                                                                                                                                                                                                                                                                                                                                                                                                                                                                                                                                                                                                                                                                                                                                                                                                                                                                                                                                                                                                                                                                                                                                                                                                             |\n",
      "+---------------------------------------------------------------------------------------------------------------------------------------------------------------------------------------------------------------------------------------------------------------------------------------------------------------------------------------------------------------------------------------------------------------------------------------------------------------------------------------------------------------------------------------------------------------------------------------------------------------------------------------------------------------------------------------------------------------------------------------------------------------------------------------------------------------------------------------------------------------------------------------------------------------------------------------------------------------------------------------------------------------------------------------------------------------------------------------------------------------------------------------------------------------------------------------------------------------------------------------------------------------------------------------------------------------------------------------------------------------------------------------------------------------------------------------------------------------------------------------------------------------------------------------------------------------------------------------------------------------------------------------------------------------------------------------------------------------------------------------------------------------------------------------------------------------------------------------------------------------------------------------------------------------------------------------------------------------------------------------------------------------------------------------------------------------------------------------------------------------------------------------------------------------------------------------------------------------------------------------------------------------------------------------------------------------------------------------------------------------------------------------------------------------------------------------------------------------------------------------------------------------------------------------------------------------------------------------------------------------------------------------------------------------------------------------------------------------------------------------------------------------------------------------------------------------------------------------------------------------------------------------------------------------------------------------------------------------------------------------------------------------------------------------------------------------------------------------------------------------------------------------------------------------------------------------------------------------------------------------------------------------------------------------------------------------------------------------------------------------------------------------------------------------------------------------------------------------------------------------------------------------------------------------------------------------------------------------------------------------------------------------------------------------------------------------------------------------------------------------------------------------------------------------------------------------------------------------------------------------------------------------------------------------------------------------------------------------------------------------------------------------------------------------------------------------------------------------------------------------------------------------------------------------------------------------------------------------------------------------------------------------------------------------------------------------------------------------------------------------------------------------------------------------------------------------------------------------------------------------------------------------------------------------------------------------------------------------------------------------------------------------------------------------------------------------------------------------------------------------------------------------------------------------------------------------------------------------------------------------------------------------------------------------------------------------------------------------------------------------------------------------------------------------------------------------------------------------------------------------------------------------------------------------------------------------------------------------------------------------------------------------------------------------------------------------------------------------------------------------------------------------------------------------------------------------------------------------------------------------------------------------------------------------------------------------------------------------------------------------------------------------------------------------------------------------------------------------------------------------------------------------------------------------------------------------------------------------------------------------------------------------------------------------------------------------------------------------------------------------------------------------------------------------------------------------------------------------------------------------------------------------------------------------------------------------------------------------------------------------------------------------------------------------------------------------------------------------------------------------------------------------------------------------------------------------------------------------------------------------------------------------------------------------------------------------------------------------------------------------------------------------------------------------------------------------------------------------------------------------------------------------------------------------------------------------------------------------------------------------------------------------------------------------------------------------------------------------------------------------------------------------------------------------------------------------------------------------------------------------------------------------------------------------------------------------------------------------------------------------------------------------------------------------------------------------------------------------------------------------------------------------------------------------------------------------------------------------------------------------------------------------------------------------------------------------------------------------------------------------------------------------------------------------------------------------------------------------------------------------------------------------------------------------------------------------------------------------------------------------------------------------------------------------------------------------------------------------------------------------------------+\n",
      "\n"
     ]
    },
    {
     "name": "stderr",
     "output_type": "stream",
     "text": [
      "                                                                                \r"
     ]
    }
   ],
   "source": [
    "# Text Cleaning \n",
    "normaliser = Normalizer()\\\n",
    "     .setInputCols(\"token\")\\\n",
    "     .setOutputCol(\"normalised\")\\\n",
    "     .setLowercase(True)\\\n",
    "     .setCleanupPatterns([\"[^a-zA-Z\\s]\"])"
   ]
  },
  {
   "cell_type": "code",
   "execution_count": null,
   "metadata": {},
   "outputs": [],
   "source": [
    "# Stopword Removal\n",
    "stopwords_cleaner = StopWordsCleaner()\\\n",
    "    .setInputCols(\"normalised\")\\\n",
    "    .setOutputCol(\"stopwords_removed\")\\\n",
    "    .setCaseSensitive(False)"
   ]
  },
  {
   "cell_type": "code",
   "execution_count": null,
   "metadata": {},
   "outputs": [
    {
     "name": "stdout",
     "output_type": "stream",
     "text": [
      "lemma_antbnc download started this may take some time.\n"
     ]
    },
    {
     "name": "stderr",
     "output_type": "stream",
     "text": [
      "25/05/01 21:25:43 WARN S3AbortableInputStream: Not all bytes were read from the S3ObjectInputStream, aborting HTTP connection. This is likely an error and may result in sub-optimal behavior. Request only the bytes you need via a ranged GET or drain the input stream after use.\n"
     ]
    },
    {
     "name": "stdout",
     "output_type": "stream",
     "text": [
      "Approximate size to download 907.6 KB\n",
      "[OK!]\n"
     ]
    }
   ],
   "source": [
    "# Lemmatisation\n",
    "lemmatizer = LemmatizerModel.pretrained()\\\n",
    "    .setInputCols([\"stopwords_removed\"])\\\n",
    "    .setOutputCol(\"lemma\")"
   ]
  },
  {
   "cell_type": "code",
   "execution_count": 70,
   "metadata": {},
   "outputs": [
    {
     "name": "stdout",
     "output_type": "stream",
     "text": [
      "+--------------------------------------------------------------------------------------------------------------------------------------------------------------------------------------------------------------------------------------------------------------------------------------------------------------------------------------------------------------------------------------------------------------------------------------------------------------------------------------------------------------------------------------------------------------------------------------------------------------------------------------------------------------------------------------------------------------------------------------------------------------------------------------------------------------------------------------------------------------------------------------------------------------------------------------------------------------------------------------------------------------------------------------------------------------------------------------------------------------------------------------------------------------------------------------------------------------------------------------------------------------------------------------------------------------------------------------------------------------------------------------------------------------------------------------------------------------------------------------------------------------------------------------------------------------------------------------------------------------------------------------------------------------------------------------------------------------------------------------------------------------------------------------------------------------------------------------------------------------------------------------------------------------------------------------------------------------------------------------------------------------------------------------------------------------------------------------------------------------------------------------------------------------------------------------------------------------------------------------------------------------------------------------------------------------------------------------------------------------------------------------------------------------------------------------------------------------------------------------------------------------------------------------------------------------------------------------------------------------------------------------------------------------------------------------------------------------------------------------------------------------------------------------------------------------------------------------------------------------------------------------------------------------------------------------------------------------------------------------------------------------------------------------------------------------------------------------------------------------------------------------------------------------------------------------------------------------------------------------------------------------------------------------------------------------------------------------------------------------------------------------------------------------------------------------------------------------------------------------------------------------------------------------------------------------------------------------------------------------------------------------------------------------------------------------------------------------------------------------------------------------------------------------------------------------------------------------------------------------------------------------------------------------------------------------------------------------------------------------------------------------------------------------------------------------------------------------------------------------------------------------------------------------------------------------------------------------------------------------------------------------------------------------------------------------------------------------------------------------------------------------------------------------------------------------------------------------------------------------------------------------------------------------------------------------------------------------------------------------------------------------------------------------------------------------------------------------------------------------------------------------------------------------------------------------------------------------------------------------------------------------------------------------------------------------------------------------------------------------------------------------------------------------------------------------------------------------------------------------------------------------------------------------------------------------------------------------------------------------------------------------------------------------------------------------------------------------------------------------------------------------------------------------------------------------------------------------------------------------------------------------------------------------------------------------------------------------------------------------------------------------------------------------------------------------------------------------------------------------------------------------------------------------------------------------------------------------------------------+\n",
      "|finish                                                                                                                                                                                                                                                                                                                                                                                                                                                                                                                                                                                                                                                                                                                                                                                                                                                                                                                                                                                                                                                                                                                                                                                                                                                                                                                                                                                                                                                                                                                                                                                                                                                                                                                                                                                                                                                                                                                                                                                                                                                                                                                                                                                                                                                                                                                                                                                                                                                                                                                                                                                                                                                                                                                                                                                                                                                                                                                                                                                                                                                                                                                                                                                                                                                                                                                                                                                                                                                                                                                                                                                                                                                                                                                                                                                                                                                                                                                                                                                                                                                                                                                                                                                                                                                                                                                                                                                                                                                                                                                                                                                                                                                                                                                                                                                                                                                                                                                                                                                                                                                                                                                                                                                                                                                                                                                                                                                                                                                                                                                                                                                                                                                                                                                                                                                                                                                  |\n",
      "+--------------------------------------------------------------------------------------------------------------------------------------------------------------------------------------------------------------------------------------------------------------------------------------------------------------------------------------------------------------------------------------------------------------------------------------------------------------------------------------------------------------------------------------------------------------------------------------------------------------------------------------------------------------------------------------------------------------------------------------------------------------------------------------------------------------------------------------------------------------------------------------------------------------------------------------------------------------------------------------------------------------------------------------------------------------------------------------------------------------------------------------------------------------------------------------------------------------------------------------------------------------------------------------------------------------------------------------------------------------------------------------------------------------------------------------------------------------------------------------------------------------------------------------------------------------------------------------------------------------------------------------------------------------------------------------------------------------------------------------------------------------------------------------------------------------------------------------------------------------------------------------------------------------------------------------------------------------------------------------------------------------------------------------------------------------------------------------------------------------------------------------------------------------------------------------------------------------------------------------------------------------------------------------------------------------------------------------------------------------------------------------------------------------------------------------------------------------------------------------------------------------------------------------------------------------------------------------------------------------------------------------------------------------------------------------------------------------------------------------------------------------------------------------------------------------------------------------------------------------------------------------------------------------------------------------------------------------------------------------------------------------------------------------------------------------------------------------------------------------------------------------------------------------------------------------------------------------------------------------------------------------------------------------------------------------------------------------------------------------------------------------------------------------------------------------------------------------------------------------------------------------------------------------------------------------------------------------------------------------------------------------------------------------------------------------------------------------------------------------------------------------------------------------------------------------------------------------------------------------------------------------------------------------------------------------------------------------------------------------------------------------------------------------------------------------------------------------------------------------------------------------------------------------------------------------------------------------------------------------------------------------------------------------------------------------------------------------------------------------------------------------------------------------------------------------------------------------------------------------------------------------------------------------------------------------------------------------------------------------------------------------------------------------------------------------------------------------------------------------------------------------------------------------------------------------------------------------------------------------------------------------------------------------------------------------------------------------------------------------------------------------------------------------------------------------------------------------------------------------------------------------------------------------------------------------------------------------------------------------------------------------------------------------------------------------------------------------------------------------------------------------------------------------------------------------------------------------------------------------------------------------------------------------------------------------------------------------------------------------------------------------------------------------------------------------------------------------------------------------------------------------------------------------------------------------------------------------------------------+\n",
      "|[consequence, global, covid, pandemic, acceleration, implementation, telemedicine, occur, order, well, triage, patient, maintain, medical, resource, promote, social, distance, concurrent, improvement, video, conferencing, technology, convenience, afford, telemedicine, allow, virtual, health, practice, persist, even, many, clinic, begin, return, inperson, practice, nevertheless, primary, disadvantage, telemedicine, remain, relative, inability, perform, complete, physical, examination, least, manner, one, clinic, particular, effective, otologic, exam, remain, elusivethe, ability, rapidly, effectively, identify, sudden, sensorineural, hear, loss, ssnhl, essential, ssnhlwith, incidence, united, state, per, people, one, true, otologic, emergency, require, expedit, evaluation, current, guideline, recommend, initiation, oral, intratympanic, steroid, within, day, symptom, onset, although, ssnhl, case, recover, spontaneously, delay, management, may, lead, residual, tinnitus, vertigo, permanent, hear, loss, well, significant, negative, impact, quality, life, audiometry, gold, standard, diagnose, ssnhl, however, require, appropriately, train, staff, equipment, may, readily, available, thus, first, step, evaluate, patient, suspect, ssnhl, begin, history, physical, examination, exclude, conductive, hear, loss, chl, tune, fork, test, remain, fundamental, part, otologic, examination, lateralization, weber, turn, fork, test, wtft, affect, ear, historically, differentiate, chl, snhl, alternative, wtft, hum, test, bandage, scratch, test, propose, neither, method, appropriately, validate, general, otology, patient, overall, clinical, data, base, study, alternative, test, thin, external, validity, limit, perform, patient, normal, hear, simulate, chl, solely, postoperative, patient, give, ubiquity, cellphone, utilization, native, vibration, function, mobile, phone, surrogate, tune, fork, new, propose, alternative, one, study, demonstrate, use, smartphone, vibration, replacement, wtft, inpatient, ward, external, validity, study, limit, perform, patient, simulate, chl, another, study, perform, consecutive, patient, present, emergency, department, unilateral, sudden, hear, loss, find, smartphone, vibration, adequate, substitute, provider, may, access, tune, fork, demonstrate, cell, phone, vibration, test, cpvt, utility, effective, accurate, patient, selfadministration, home, dramatically, enhance, telemedicine, encounter, patient, ssnhl, reduce, covid, exposure, risk, may, also, assist, clinician, resource, scarce, settings, triage, patient, need, expedit, inperson, carethe, aim, study, therefore, validate, cpvt, adequate, replacement, wtft, actual, otology, patient, audiogram, use, gold, standard, compare, accuracy, cpvt, wtft, furthermore, assess, whether, patient, accurately, selfadminister, cpvt, give, appropriate, instruction, otolaryngology, practice, high, theoretical, risk, transmission, since, complete, evaluation, involve, upper, aerodigestive, tract, aerosol, generate, procedure, nasal, endoscopy, flexible, fiberoptic, laryngoscopy, frequently, perform, office, otolaryngologists, continue, embrace, telemedicine, accordance, ongoing, recommendation, make, american, academy, otolaryngology, teleotolaryngology, already, particular, interest, military, give, need, provide, tertiary, level, care, patient, austere, remote, location, retrospective, study, perform, vermont, veteran, affair, medical, center, navalmedical, center, san, diego, find, otolaryngology, encounter, eligible, telemedicine, visit, telemedicine, patient, able, receive, preliminary, diagnosis, plan, respectively, recent, study, find, high, level, patient, provider, satisfaction, respect, teleotolaryngology, though, remain, concern, regard, lack, physical, examination, virtual, physical, examination, maneuver, help, address, practice, gap, apparent, barrier, ability, confidence, patient, perform, maneuver, themselvesthe, cpvt, break, major, challenge, ototelemedicine, confer, several, significant, advantage, relative, wtft, home, use, first, nearly, patient, access, cellular, phone, vibration, function, second, continuous, vibration, set, cell, phone, consistent, whereas, proper, technique, important, utilize, tune, fork, avoid, generation, nonfundamental, sound, frequency, produce, fork, strike, incorrectly, fact, may, confound, patient, interpretation, primary, disadvantage, home, physical, exam, maneuver, require, patient, cooperation, patient, must, follow, instruction, correctly, emphasis, need, firmly, press, smartphone, onto, center, forehead, example, impor, patient, prescribe, oral, steroid, pcm, ed, mean, significant, number, patient, adequately, treat, within, ideal, day, window, recommend, ssnhl, clinical, practice, guideline, although, replace, gold, standard, audiometry, cpvt, clearly, provide, clinician, perform, virtual, health, examination, additional, tool, assist, prompt, recognition, diagnosis, ssnhlthe, diagnostic, accuracy, cpvt, wtfts, compare, formal, audiogram, appear, less, optimal, somewhat, expect, give, controversy, behind, wtft, accuracy, sensitivity, specificity, vary, widely, amongst, handful, heterogenous, study, weber, show, lateralize, even, modest, hear, asymmetry, db, low, define, db, threshold, may, explain, low, accuracy, amongst, snhl, patient, cohort, cpvt, virtual, physical, exam, maneuver, similar, wtft, selfadministered, patient, help, differentiate, chl, snhl, addition, home, physical, exam, maneuver, telemedicine, encounter, capacity, expedite, care, patient, need, additional, testingthe, author, declare, conflict, interest]|\n",
      "|[accord, current, live, statistics, time, edit, letter, russia, third, country, world, affect, covid, new, case, death, rate, rise, remain, position, advantage, due, late, onset, viral, spread, within, country, since, worldwide, disease, outbreakthe, first, step, fight, epidemic, nationwide, lock, march, th, multidisciplinary, hospital, repurposed, dedicate, covid, centre, surgeon, start, work, infectious, disease, specialist, reallocation, health, care, capacity, result, effective, management, epidemiological, problem, staff, undergo, online, hour, training, course, become, qualify, coronavirus, infection, treatmentthe, surgeon, covid, dedicate, hospital, rarely, practice, surgery, icu, patient, need, mechanical, ventilation, percutaneous, tracheostomy, endoscopic, control, mostly, perform, decrease, aerosol, formation, viral, load, staff, complication, associate, endotracheal, tube, comparison, surgical, tracheostomy, however, still, associate, risk, aerosol, formation, different, approach, consider, longtime, perspective, majority, study, dedicate, colorectal, disease, temporarily, pause, teach, training, mostly, translate, via, online, platform, exclude, opportunity, get, clinical, experience, surgery, approach, patient, rout, change, significantly, one, diagnose, covid, ct, scan, laboratory, test, provide, immediately, patient, admit, surgical, department, treatment, provide, covid, negativethe, patient, isolate, week, covid, negative, result, subsequent, test, admit, surgical, department, option, readmission, infectious, department, treat, surgical, staff, work, covid, positive, patientsthe, patient, diagnose, coronavirus, infection, treat, home, admit, covid, dedicate, multidisciplinary, hospital, surgical, care, provide, treat, infectious, disease, hospital, covid, dedicate, centre, manage, surgical, team, presentsurgery, become, highly, elective, mostly, available, highrisk, patient, emergency, malignancy, cardiovascular, pathology, infection, preoperative, test, surgical, patient, respiratory, symptom, history, travel, contact, covid, positive, people, postoperative, recovery, operate, unit, seem, highly, effective, measure, lot, rearrangement, perform, locally, regard, personal, protective, equipment, organization, scrub, don, doff, dedicate, change, area, moreover, observational, department, organize, surgical, hospital, patient, allocation, coronavirus, infection, status, define, surgery, benign, disorder, precancerous, lesion, reconstructive, procedure, currently, postpone, regard, colorectal, cancer, surgical, treatment, may, postpone, nonobstructing, disease, laparoscopic, surgery, diathermy, limit, well, importance, special, operate, theatre, covid, patient, negative, pressure, ventilation, unidirectional, laminar, flow, well, use, smoke, evacuation, system, surgery, take, account, electiveness, surgery, concern, might, cause, worldwide, healthcare, catastrophe, postpandemic, era, effort, take, expand, amount, type, surgical, procedure, performeddue, early, preventive, corrective, action, already, reach, plateau, new, case, curve, count, case, identify, time, write, paper, june, th, mortality, rate, statistical, outcome, result, day, lockdown, admission, regime, healthcare, rearrangement, thus, multistep, restriction, lift, already, start, consistently, recover, social, economic, aspect]                                                                                                                                                                                                                                                                                                                                                                                                                                                                                                                                                                                                                                                                                                                                                                                                                                                                                                                                                                                                                                                                                                                                                                                                                                                                                                                                                                                                                                                                                                                                                                                                                                                                                                                                                                                                                                                                                                                                                                                                                                                                                                                                                                                                                                                                                                                                                   |\n",
      "+--------------------------------------------------------------------------------------------------------------------------------------------------------------------------------------------------------------------------------------------------------------------------------------------------------------------------------------------------------------------------------------------------------------------------------------------------------------------------------------------------------------------------------------------------------------------------------------------------------------------------------------------------------------------------------------------------------------------------------------------------------------------------------------------------------------------------------------------------------------------------------------------------------------------------------------------------------------------------------------------------------------------------------------------------------------------------------------------------------------------------------------------------------------------------------------------------------------------------------------------------------------------------------------------------------------------------------------------------------------------------------------------------------------------------------------------------------------------------------------------------------------------------------------------------------------------------------------------------------------------------------------------------------------------------------------------------------------------------------------------------------------------------------------------------------------------------------------------------------------------------------------------------------------------------------------------------------------------------------------------------------------------------------------------------------------------------------------------------------------------------------------------------------------------------------------------------------------------------------------------------------------------------------------------------------------------------------------------------------------------------------------------------------------------------------------------------------------------------------------------------------------------------------------------------------------------------------------------------------------------------------------------------------------------------------------------------------------------------------------------------------------------------------------------------------------------------------------------------------------------------------------------------------------------------------------------------------------------------------------------------------------------------------------------------------------------------------------------------------------------------------------------------------------------------------------------------------------------------------------------------------------------------------------------------------------------------------------------------------------------------------------------------------------------------------------------------------------------------------------------------------------------------------------------------------------------------------------------------------------------------------------------------------------------------------------------------------------------------------------------------------------------------------------------------------------------------------------------------------------------------------------------------------------------------------------------------------------------------------------------------------------------------------------------------------------------------------------------------------------------------------------------------------------------------------------------------------------------------------------------------------------------------------------------------------------------------------------------------------------------------------------------------------------------------------------------------------------------------------------------------------------------------------------------------------------------------------------------------------------------------------------------------------------------------------------------------------------------------------------------------------------------------------------------------------------------------------------------------------------------------------------------------------------------------------------------------------------------------------------------------------------------------------------------------------------------------------------------------------------------------------------------------------------------------------------------------------------------------------------------------------------------------------------------------------------------------------------------------------------------------------------------------------------------------------------------------------------------------------------------------------------------------------------------------------------------------------------------------------------------------------------------------------------------------------------------------------------------------------------------------------------------------------------------------------------------------------------------------------+\n",
      "\n"
     ]
    }
   ],
   "source": [
    "finisher = Finisher() \\\n",
    "    .setInputCols(\"lemma\") \\\n",
    "    .setOutputCols(\"finish\") \\\n",
    "    .setIncludeMetadata(False) # set to False to remove metadata\n",
    "\n",
    "pipeline = Pipeline().setStages([\n",
    "     documentAssembler,\n",
    "     sentenceDetector,\n",
    "     tokeniser,\n",
    "     normaliser,\n",
    "     stopwords_cleaner,\n",
    "     lemmatizer,\n",
    "     finisher\n",
    "])\n",
    "result = pipeline.fit(sparknlp_df).transform(sparknlp_df)\n",
    "result.select(\"finish\").show(truncate = False)"
   ]
  },
  {
   "cell_type": "code",
   "execution_count": 74,
   "metadata": {},
   "outputs": [
    {
     "name": "stderr",
     "output_type": "stream",
     "text": [
      "                                                                                \r"
     ]
    },
    {
     "name": "stdout",
     "output_type": "stream",
     "text": [
      "+--------------------+--------------------+--------------------+\n",
      "|                text|              finish|         tf_features|\n",
      "+--------------------+--------------------+--------------------+\n",
      "|As a consequence ...|[consequence, glo...|(576,[0,1,3,4,5,6...|\n",
      "|According to curr...|[accord, current,...|(576,[0,1,2,3,4,5...|\n",
      "+--------------------+--------------------+--------------------+\n",
      "\n"
     ]
    },
    {
     "name": "stderr",
     "output_type": "stream",
     "text": [
      "                                                                                \r"
     ]
    }
   ],
   "source": [
    "tfizer = CountVectorizer(inputCol='finish', outputCol='tf_features')\n",
    "tf_model = tfizer.fit(result)\n",
    "tf_result = tf_model.transform(result)\n",
    "tf_result.show(5)"
   ]
  },
  {
   "cell_type": "code",
   "execution_count": 81,
   "metadata": {},
   "outputs": [
    {
     "name": "stderr",
     "output_type": "stream",
     "text": [
      "                                                                                \r"
     ]
    },
    {
     "name": "stdout",
     "output_type": "stream",
     "text": [
      "+--------------------+--------------------+--------------------+--------------------+\n",
      "|                text|              finish|         tf_features|     tf_idf_features|\n",
      "+--------------------+--------------------+--------------------+--------------------+\n",
      "|As a consequence ...|[consequence, glo...|(576,[0,1,3,4,5,6...|(576,[0,1,3,4,5,6...|\n",
      "|According to curr...|[accord, current,...|(576,[0,1,2,3,4,5...|(576,[0,1,2,3,4,5...|\n",
      "+--------------------+--------------------+--------------------+--------------------+\n",
      "\n"
     ]
    }
   ],
   "source": [
    "idfizer = IDF(inputCol='tf_features', outputCol='tf_idf_features')\n",
    "idf_model = idfizer.fit(tf_result)\n",
    "tfidf_result = idf_model.transform(tf_result)\n",
    "tfidf_result.show(5)"
   ]
  },
  {
   "cell_type": "code",
   "execution_count": 84,
   "metadata": {},
   "outputs": [
    {
     "name": "stderr",
     "output_type": "stream",
     "text": [
      "                                                                                \r"
     ]
    },
    {
     "name": "stdout",
     "output_type": "stream",
     "text": [
      "+-----+---------------+---------------------------------------------------------------------+\n",
      "|topic|termIndices    |termWeights                                                          |\n",
      "+-----+---------------+---------------------------------------------------------------------+\n",
      "|0    |[403, 3, 395]  |[0.00229576121278365, 0.0022629753171704396, 0.0021983315604854497]  |\n",
      "|1    |[145, 206, 243]|[0.002363763783625437, 0.002311296300993184, 0.0022137760633377515]  |\n",
      "|2    |[62, 151, 546] |[0.0022826458617294563, 0.0022737865312271468, 0.0022717844376154207]|\n",
      "|3    |[490, 349, 76] |[0.002365765042149912, 0.0022072434298510374, 0.0022055900246234204] |\n",
      "|4    |[448, 548, 317]|[0.002326554154138089, 0.0023005053558257226, 0.0022530961892851076] |\n",
      "+-----+---------------+---------------------------------------------------------------------+\n",
      "\n"
     ]
    }
   ],
   "source": [
    "lda = LDA(k=num_topics, maxIter=max_iter, featuresCol='tf_idf_features')\n",
    "lda_model = lda.fit(tfidf_result)\n",
    "topics = lda_model.describeTopics(3)  # Get the top 3 terms for each topic\n",
    "topics.show(truncate=False)"
   ]
  },
  {
   "cell_type": "code",
   "execution_count": null,
   "metadata": {},
   "outputs": [],
   "source": [
    "def preprocess(data: pd.DataFrame) -> pd.DataFrame:\n",
    "    \"\"\"Performs the preprocessing using SparkNLP\n",
    "    \n",
    "    Args:\n",
    "        data: input file as pandas.DataFrame\n",
    "    Returns:\n",
    "        A pandas.DataFrame which as vector form of the input\n",
    "    \"\"\"\n",
    "    # Sentence tokenisation\n",
    "    \n",
    "    \n",
    "    # Word tokenisation and Normalisation\n",
    "    \n",
    "    \n",
    "    # Text cleaning\n",
    "    \n",
    "\n",
    "    # Lemmatisation\n",
    "    \n",
    "\n",
    "    # Word Embeddings (turns into vector)\n",
    "    \n",
    "    \n",
    "    # Convert to DataFrame\n",
    "    \n",
    "    return data, tfidf"
   ]
  }
 ],
 "metadata": {
  "kernelspec": {
   "display_name": ".venv",
   "language": "python",
   "name": "python3"
  },
  "language_info": {
   "codemirror_mode": {
    "name": "ipython",
    "version": 3
   },
   "file_extension": ".py",
   "mimetype": "text/x-python",
   "name": "python",
   "nbconvert_exporter": "python",
   "pygments_lexer": "ipython3",
   "version": "3.10.17"
  },
  "polyglot_notebook": {
   "kernelInfo": {
    "defaultKernelName": "csharp",
    "items": [
     {
      "aliases": [],
      "name": "csharp"
     }
    ]
   }
  }
 },
 "nbformat": 4,
 "nbformat_minor": 2
}
