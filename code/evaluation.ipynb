{
 "cells": [
  {
   "cell_type": "code",
   "execution_count": 1,
   "metadata": {},
   "outputs": [
    {
     "name": "stderr",
     "output_type": "stream",
     "text": [
      "[nltk_data] Downloading package punkt_tab to\n",
      "[nltk_data]     /Users/lam.nguyen/nltk_data...\n",
      "[nltk_data]   Package punkt_tab is already up-to-date!\n",
      "[nltk_data] Downloading package stopwords to\n",
      "[nltk_data]     /Users/lam.nguyen/nltk_data...\n",
      "[nltk_data]   Package stopwords is already up-to-date!\n",
      "[nltk_data] Downloading package wordnet to\n",
      "[nltk_data]     /Users/lam.nguyen/nltk_data...\n",
      "[nltk_data]   Package wordnet is already up-to-date!\n"
     ]
    }
   ],
   "source": [
    "import sparknlp\n",
    "import pandas as pd\n",
    "import os\n",
    "import seaborn as sns\n",
    "import matplotlib.pyplot as plt\n",
    "import time\n",
    "import numpy as np\n",
    "from helper import *\n",
    "from metrics import *\n",
    "from pyspark.ml import PipelineModel\n",
    "from pyspark.ml.feature import CountVectorizerModel, IDFModel\n",
    "from pyspark.sql import SparkSession\n",
    "from sklearn.decomposition import LatentDirichletAllocation\n",
    "from pyspark.ml.clustering import LocalLDAModel, LDA\n",
    "from pyspark.ml.linalg import Vectors\n",
    "from pyspark.sql import Row\n",
    "from pyspark.sql.functions import explode\n",
    "from sklearn.decomposition import PCA"
   ]
  },
  {
   "cell_type": "markdown",
   "metadata": {},
   "source": [
    "# Set up"
   ]
  },
  {
   "cell_type": "markdown",
   "metadata": {},
   "source": [
    "Initialise SparkSpession"
   ]
  },
  {
   "cell_type": "code",
   "execution_count": 2,
   "metadata": {},
   "outputs": [
    {
     "name": "stdout",
     "output_type": "stream",
     "text": [
      ":: loading settings :: url = jar:file:/Users/lam.nguyen/Desktop/GithubClone/BigData_Final/.venv/lib/python3.10/site-packages/pyspark/jars/ivy-2.5.1.jar!/org/apache/ivy/core/settings/ivysettings.xml\n"
     ]
    },
    {
     "name": "stderr",
     "output_type": "stream",
     "text": [
      "Ivy Default Cache set to: /Users/lam.nguyen/.ivy2/cache\n",
      "The jars for the packages stored in: /Users/lam.nguyen/.ivy2/jars\n",
      "com.johnsnowlabs.nlp#spark-nlp_2.12 added as a dependency\n",
      ":: resolving dependencies :: org.apache.spark#spark-submit-parent-ed2c7d39-1fde-406b-9bec-ae8dc56594df;1.0\n",
      "\tconfs: [default]\n",
      "\tfound com.johnsnowlabs.nlp#spark-nlp_2.12;6.0.0 in central\n",
      "\tfound com.typesafe#config;1.4.2 in central\n",
      "\tfound org.rocksdb#rocksdbjni;6.29.5 in central\n",
      "\tfound com.amazonaws#aws-java-sdk-s3;1.12.500 in central\n",
      "\tfound com.amazonaws#aws-java-sdk-kms;1.12.500 in central\n",
      "\tfound com.amazonaws#aws-java-sdk-core;1.12.500 in central\n",
      "\tfound commons-logging#commons-logging;1.1.3 in central\n",
      "\tfound commons-codec#commons-codec;1.15 in central\n",
      "\tfound org.apache.httpcomponents#httpclient;4.5.13 in central\n",
      "\tfound org.apache.httpcomponents#httpcore;4.4.13 in central\n",
      "\tfound software.amazon.ion#ion-java;1.0.2 in central\n",
      "\tfound joda-time#joda-time;2.8.1 in central\n",
      "\tfound com.amazonaws#jmespath-java;1.12.500 in central\n",
      "\tfound com.github.universal-automata#liblevenshtein;3.0.0 in central\n",
      "\tfound com.google.protobuf#protobuf-java-util;3.0.0-beta-3 in central\n",
      "\tfound com.google.protobuf#protobuf-java;3.0.0-beta-3 in central\n",
      "\tfound com.google.code.gson#gson;2.3 in central\n",
      "\tfound it.unimi.dsi#fastutil;7.0.12 in central\n",
      "\tfound org.projectlombok#lombok;1.16.8 in central\n",
      "\tfound com.google.cloud#google-cloud-storage;2.20.1 in central\n",
      "\tfound com.google.guava#guava;31.1-jre in central\n",
      "\tfound com.google.guava#failureaccess;1.0.1 in central\n",
      "\tfound com.google.guava#listenablefuture;9999.0-empty-to-avoid-conflict-with-guava in central\n",
      "\tfound com.google.errorprone#error_prone_annotations;2.18.0 in central\n",
      "\tfound com.google.j2objc#j2objc-annotations;1.3 in central\n",
      "\tfound com.google.http-client#google-http-client;1.43.0 in central\n",
      "\tfound io.opencensus#opencensus-contrib-http-util;0.31.1 in central\n",
      "\tfound com.google.http-client#google-http-client-jackson2;1.43.0 in central\n",
      "\tfound com.google.http-client#google-http-client-gson;1.43.0 in central\n",
      "\tfound com.google.api-client#google-api-client;2.2.0 in central\n",
      "\tfound com.google.oauth-client#google-oauth-client;1.34.1 in central\n",
      "\tfound com.google.http-client#google-http-client-apache-v2;1.43.0 in central\n",
      "\tfound com.google.apis#google-api-services-storage;v1-rev20220705-2.0.0 in central\n",
      "\tfound com.google.code.gson#gson;2.10.1 in central\n",
      "\tfound com.google.cloud#google-cloud-core;2.12.0 in central\n",
      "\tfound io.grpc#grpc-context;1.53.0 in central\n",
      "\tfound com.google.auto.value#auto-value-annotations;1.10.1 in central\n",
      "\tfound com.google.auto.value#auto-value;1.10.1 in central\n",
      "\tfound javax.annotation#javax.annotation-api;1.3.2 in central\n",
      "\tfound com.google.cloud#google-cloud-core-http;2.12.0 in central\n",
      "\tfound com.google.http-client#google-http-client-appengine;1.43.0 in central\n",
      "\tfound com.google.api#gax-httpjson;0.108.2 in central\n",
      "\tfound com.google.cloud#google-cloud-core-grpc;2.12.0 in central\n",
      "\tfound io.grpc#grpc-alts;1.53.0 in central\n",
      "\tfound io.grpc#grpc-grpclb;1.53.0 in central\n",
      "\tfound org.conscrypt#conscrypt-openjdk-uber;2.5.2 in central\n",
      "\tfound io.grpc#grpc-auth;1.53.0 in central\n",
      "\tfound io.grpc#grpc-protobuf;1.53.0 in central\n",
      "\tfound io.grpc#grpc-protobuf-lite;1.53.0 in central\n",
      "\tfound io.grpc#grpc-core;1.53.0 in central\n",
      "\tfound com.google.api#gax;2.23.2 in central\n",
      "\tfound com.google.api#gax-grpc;2.23.2 in central\n",
      "\tfound com.google.auth#google-auth-library-credentials;1.16.0 in central\n",
      "\tfound com.google.auth#google-auth-library-oauth2-http;1.16.0 in central\n",
      "\tfound com.google.api#api-common;2.6.2 in central\n",
      "\tfound io.opencensus#opencensus-api;0.31.1 in central\n",
      "\tfound com.google.api.grpc#proto-google-iam-v1;1.9.2 in central\n",
      "\tfound com.google.protobuf#protobuf-java;3.21.12 in central\n",
      "\tfound com.google.protobuf#protobuf-java-util;3.21.12 in central\n",
      "\tfound com.google.api.grpc#proto-google-common-protos;2.14.2 in central\n",
      "\tfound org.threeten#threetenbp;1.6.5 in central\n",
      "\tfound com.google.api.grpc#proto-google-cloud-storage-v2;2.20.1-alpha in central\n",
      "\tfound com.google.api.grpc#grpc-google-cloud-storage-v2;2.20.1-alpha in central\n",
      "\tfound com.google.api.grpc#gapic-google-cloud-storage-v2;2.20.1-alpha in central\n",
      "\tfound com.google.code.findbugs#jsr305;3.0.2 in central\n",
      "\tfound io.grpc#grpc-api;1.53.0 in central\n",
      "\tfound io.grpc#grpc-stub;1.53.0 in central\n",
      "\tfound org.checkerframework#checker-qual;3.31.0 in central\n",
      "\tfound io.perfmark#perfmark-api;0.26.0 in central\n",
      "\tfound com.google.android#annotations;4.1.1.4 in central\n",
      "\tfound org.codehaus.mojo#animal-sniffer-annotations;1.22 in central\n",
      "\tfound io.opencensus#opencensus-proto;0.2.0 in central\n",
      "\tfound io.grpc#grpc-services;1.53.0 in central\n",
      "\tfound com.google.re2j#re2j;1.6 in central\n",
      "\tfound io.grpc#grpc-netty-shaded;1.53.0 in central\n",
      "\tfound io.grpc#grpc-googleapis;1.53.0 in central\n",
      "\tfound io.grpc#grpc-xds;1.53.0 in central\n",
      "\tfound com.navigamez#greex;1.0 in central\n",
      "\tfound dk.brics.automaton#automaton;1.11-8 in central\n",
      "\tfound org.jsoup#jsoup;1.18.2 in central\n",
      "\tfound jakarta.mail#jakarta.mail-api;2.1.3 in central\n",
      "\tfound jakarta.activation#jakarta.activation-api;2.1.3 in central\n",
      "\tfound org.eclipse.angus#angus-mail;2.0.3 in central\n",
      "\tfound org.eclipse.angus#angus-activation;2.0.2 in central\n",
      "\tfound org.apache.poi#poi-ooxml;4.1.2 in central\n",
      "\tfound org.apache.poi#poi;4.1.2 in central\n",
      "\tfound org.apache.commons#commons-collections4;4.4 in central\n",
      "\tfound org.apache.commons#commons-math3;3.6.1 in central\n",
      "\tfound com.zaxxer#SparseBitSet;1.2 in central\n",
      "\tfound org.apache.poi#poi-ooxml-schemas;4.1.2 in central\n",
      "\tfound org.apache.xmlbeans#xmlbeans;3.1.0 in central\n",
      "\tfound org.apache.commons#commons-compress;1.19 in central\n",
      "\tfound com.github.virtuald#curvesapi;1.06 in central\n",
      "\tfound org.apache.poi#poi-scratchpad;4.1.2 in central\n",
      "\tfound org.apache.pdfbox#pdfbox;2.0.28 in central\n",
      "\tfound org.apache.pdfbox#fontbox;2.0.28 in central\n",
      "\tfound com.johnsnowlabs.nlp#tensorflow-cpu_2.12;0.4.4 in central\n",
      "\tfound com.microsoft.onnxruntime#onnxruntime;1.19.2 in central\n",
      "\tfound com.johnsnowlabs.nlp#jsl-llamacpp-cpu_2.12;0.1.6 in central\n",
      "\tfound org.jetbrains#annotations;24.1.0 in central\n",
      "\tfound com.johnsnowlabs.nlp#jsl-openvino-cpu_2.12;0.1.0 in central\n",
      ":: resolution report :: resolve 4779ms :: artifacts dl 292ms\n",
      "\t:: modules in use:\n",
      "\tcom.amazonaws#aws-java-sdk-core;1.12.500 from central in [default]\n",
      "\tcom.amazonaws#aws-java-sdk-kms;1.12.500 from central in [default]\n",
      "\tcom.amazonaws#aws-java-sdk-s3;1.12.500 from central in [default]\n",
      "\tcom.amazonaws#jmespath-java;1.12.500 from central in [default]\n",
      "\tcom.github.universal-automata#liblevenshtein;3.0.0 from central in [default]\n",
      "\tcom.github.virtuald#curvesapi;1.06 from central in [default]\n",
      "\tcom.google.android#annotations;4.1.1.4 from central in [default]\n",
      "\tcom.google.api#api-common;2.6.2 from central in [default]\n",
      "\tcom.google.api#gax;2.23.2 from central in [default]\n",
      "\tcom.google.api#gax-grpc;2.23.2 from central in [default]\n",
      "\tcom.google.api#gax-httpjson;0.108.2 from central in [default]\n",
      "\tcom.google.api-client#google-api-client;2.2.0 from central in [default]\n",
      "\tcom.google.api.grpc#gapic-google-cloud-storage-v2;2.20.1-alpha from central in [default]\n",
      "\tcom.google.api.grpc#grpc-google-cloud-storage-v2;2.20.1-alpha from central in [default]\n",
      "\tcom.google.api.grpc#proto-google-cloud-storage-v2;2.20.1-alpha from central in [default]\n",
      "\tcom.google.api.grpc#proto-google-common-protos;2.14.2 from central in [default]\n",
      "\tcom.google.api.grpc#proto-google-iam-v1;1.9.2 from central in [default]\n",
      "\tcom.google.apis#google-api-services-storage;v1-rev20220705-2.0.0 from central in [default]\n",
      "\tcom.google.auth#google-auth-library-credentials;1.16.0 from central in [default]\n",
      "\tcom.google.auth#google-auth-library-oauth2-http;1.16.0 from central in [default]\n",
      "\tcom.google.auto.value#auto-value;1.10.1 from central in [default]\n",
      "\tcom.google.auto.value#auto-value-annotations;1.10.1 from central in [default]\n",
      "\tcom.google.cloud#google-cloud-core;2.12.0 from central in [default]\n",
      "\tcom.google.cloud#google-cloud-core-grpc;2.12.0 from central in [default]\n",
      "\tcom.google.cloud#google-cloud-core-http;2.12.0 from central in [default]\n",
      "\tcom.google.cloud#google-cloud-storage;2.20.1 from central in [default]\n",
      "\tcom.google.code.findbugs#jsr305;3.0.2 from central in [default]\n",
      "\tcom.google.code.gson#gson;2.10.1 from central in [default]\n",
      "\tcom.google.errorprone#error_prone_annotations;2.18.0 from central in [default]\n",
      "\tcom.google.guava#failureaccess;1.0.1 from central in [default]\n",
      "\tcom.google.guava#guava;31.1-jre from central in [default]\n",
      "\tcom.google.guava#listenablefuture;9999.0-empty-to-avoid-conflict-with-guava from central in [default]\n",
      "\tcom.google.http-client#google-http-client;1.43.0 from central in [default]\n",
      "\tcom.google.http-client#google-http-client-apache-v2;1.43.0 from central in [default]\n",
      "\tcom.google.http-client#google-http-client-appengine;1.43.0 from central in [default]\n",
      "\tcom.google.http-client#google-http-client-gson;1.43.0 from central in [default]\n",
      "\tcom.google.http-client#google-http-client-jackson2;1.43.0 from central in [default]\n",
      "\tcom.google.j2objc#j2objc-annotations;1.3 from central in [default]\n",
      "\tcom.google.oauth-client#google-oauth-client;1.34.1 from central in [default]\n",
      "\tcom.google.protobuf#protobuf-java;3.21.12 from central in [default]\n",
      "\tcom.google.protobuf#protobuf-java-util;3.21.12 from central in [default]\n",
      "\tcom.google.re2j#re2j;1.6 from central in [default]\n",
      "\tcom.johnsnowlabs.nlp#jsl-llamacpp-cpu_2.12;0.1.6 from central in [default]\n",
      "\tcom.johnsnowlabs.nlp#jsl-openvino-cpu_2.12;0.1.0 from central in [default]\n",
      "\tcom.johnsnowlabs.nlp#spark-nlp_2.12;6.0.0 from central in [default]\n",
      "\tcom.johnsnowlabs.nlp#tensorflow-cpu_2.12;0.4.4 from central in [default]\n",
      "\tcom.microsoft.onnxruntime#onnxruntime;1.19.2 from central in [default]\n",
      "\tcom.navigamez#greex;1.0 from central in [default]\n",
      "\tcom.typesafe#config;1.4.2 from central in [default]\n",
      "\tcom.zaxxer#SparseBitSet;1.2 from central in [default]\n",
      "\tcommons-codec#commons-codec;1.15 from central in [default]\n",
      "\tcommons-logging#commons-logging;1.1.3 from central in [default]\n",
      "\tdk.brics.automaton#automaton;1.11-8 from central in [default]\n",
      "\tio.grpc#grpc-alts;1.53.0 from central in [default]\n",
      "\tio.grpc#grpc-api;1.53.0 from central in [default]\n",
      "\tio.grpc#grpc-auth;1.53.0 from central in [default]\n",
      "\tio.grpc#grpc-context;1.53.0 from central in [default]\n",
      "\tio.grpc#grpc-core;1.53.0 from central in [default]\n",
      "\tio.grpc#grpc-googleapis;1.53.0 from central in [default]\n",
      "\tio.grpc#grpc-grpclb;1.53.0 from central in [default]\n",
      "\tio.grpc#grpc-netty-shaded;1.53.0 from central in [default]\n",
      "\tio.grpc#grpc-protobuf;1.53.0 from central in [default]\n",
      "\tio.grpc#grpc-protobuf-lite;1.53.0 from central in [default]\n",
      "\tio.grpc#grpc-services;1.53.0 from central in [default]\n",
      "\tio.grpc#grpc-stub;1.53.0 from central in [default]\n",
      "\tio.grpc#grpc-xds;1.53.0 from central in [default]\n",
      "\tio.opencensus#opencensus-api;0.31.1 from central in [default]\n",
      "\tio.opencensus#opencensus-contrib-http-util;0.31.1 from central in [default]\n",
      "\tio.opencensus#opencensus-proto;0.2.0 from central in [default]\n",
      "\tio.perfmark#perfmark-api;0.26.0 from central in [default]\n",
      "\tit.unimi.dsi#fastutil;7.0.12 from central in [default]\n",
      "\tjakarta.activation#jakarta.activation-api;2.1.3 from central in [default]\n",
      "\tjakarta.mail#jakarta.mail-api;2.1.3 from central in [default]\n",
      "\tjavax.annotation#javax.annotation-api;1.3.2 from central in [default]\n",
      "\tjoda-time#joda-time;2.8.1 from central in [default]\n",
      "\torg.apache.commons#commons-collections4;4.4 from central in [default]\n",
      "\torg.apache.commons#commons-compress;1.19 from central in [default]\n",
      "\torg.apache.commons#commons-math3;3.6.1 from central in [default]\n",
      "\torg.apache.httpcomponents#httpclient;4.5.13 from central in [default]\n",
      "\torg.apache.httpcomponents#httpcore;4.4.13 from central in [default]\n",
      "\torg.apache.pdfbox#fontbox;2.0.28 from central in [default]\n",
      "\torg.apache.pdfbox#pdfbox;2.0.28 from central in [default]\n",
      "\torg.apache.poi#poi;4.1.2 from central in [default]\n",
      "\torg.apache.poi#poi-ooxml;4.1.2 from central in [default]\n",
      "\torg.apache.poi#poi-ooxml-schemas;4.1.2 from central in [default]\n",
      "\torg.apache.poi#poi-scratchpad;4.1.2 from central in [default]\n",
      "\torg.apache.xmlbeans#xmlbeans;3.1.0 from central in [default]\n",
      "\torg.checkerframework#checker-qual;3.31.0 from central in [default]\n",
      "\torg.codehaus.mojo#animal-sniffer-annotations;1.22 from central in [default]\n",
      "\torg.conscrypt#conscrypt-openjdk-uber;2.5.2 from central in [default]\n",
      "\torg.eclipse.angus#angus-activation;2.0.2 from central in [default]\n",
      "\torg.eclipse.angus#angus-mail;2.0.3 from central in [default]\n",
      "\torg.jetbrains#annotations;24.1.0 from central in [default]\n",
      "\torg.jsoup#jsoup;1.18.2 from central in [default]\n",
      "\torg.projectlombok#lombok;1.16.8 from central in [default]\n",
      "\torg.rocksdb#rocksdbjni;6.29.5 from central in [default]\n",
      "\torg.threeten#threetenbp;1.6.5 from central in [default]\n",
      "\tsoftware.amazon.ion#ion-java;1.0.2 from central in [default]\n",
      "\t:: evicted modules:\n",
      "\tcommons-logging#commons-logging;1.2 by [commons-logging#commons-logging;1.1.3] in [default]\n",
      "\tcommons-codec#commons-codec;1.11 by [commons-codec#commons-codec;1.15] in [default]\n",
      "\tcom.google.protobuf#protobuf-java-util;3.0.0-beta-3 by [com.google.protobuf#protobuf-java-util;3.21.12] in [default]\n",
      "\tcom.google.protobuf#protobuf-java;3.0.0-beta-3 by [com.google.protobuf#protobuf-java;3.21.12] in [default]\n",
      "\tcom.google.code.gson#gson;2.3 by [com.google.code.gson#gson;2.10.1] in [default]\n",
      "\tcommons-codec#commons-codec;1.13 by [commons-codec#commons-codec;1.15] in [default]\n",
      "\t---------------------------------------------------------------------\n",
      "\t|                  |            modules            ||   artifacts   |\n",
      "\t|       conf       | number| search|dwnlded|evicted|| number|dwnlded|\n",
      "\t---------------------------------------------------------------------\n",
      "\t|      default     |  104  |   0   |   0   |   6   ||   98  |   0   |\n",
      "\t---------------------------------------------------------------------\n",
      ":: retrieving :: org.apache.spark#spark-submit-parent-ed2c7d39-1fde-406b-9bec-ae8dc56594df\n",
      "\tconfs: [default]\n",
      "\t0 artifacts copied, 98 already retrieved (0kB/51ms)\n",
      "25/05/19 18:19:10 WARN NativeCodeLoader: Unable to load native-hadoop library for your platform... using builtin-java classes where applicable\n",
      "Setting default log level to \"WARN\".\n",
      "To adjust logging level use sc.setLogLevel(newLevel). For SparkR, use setLogLevel(newLevel).\n"
     ]
    },
    {
     "name": "stdout",
     "output_type": "stream",
     "text": [
      "Spark NLP version:  6.0.0\n"
     ]
    }
   ],
   "source": [
    "# If run sparknlp, use this\n",
    "sparknlp_session = sparknlp.start(params={\"spark.driver.host\": \"localhost\",\n",
    "                                          \"spark.driver.port\": \"9999\",\n",
    "                                          \"spark.driver.bindAddress\": \"127.0.0.1\",\n",
    "                                          \"spark.driver.maxResultSize\": \"2g\"})\n",
    "\n",
    "print(\"Spark NLP version: \", sparknlp.version())\n",
    "# print(\"Apache Spark version: \", sparknlp_session.version)\n",
    "# sparknlp_session.stop()"
   ]
  },
  {
   "cell_type": "markdown",
   "metadata": {},
   "source": [
    "Load data"
   ]
  },
  {
   "cell_type": "code",
   "execution_count": 3,
   "metadata": {},
   "outputs": [],
   "source": [
    "from text_cleaner import clean_text\n",
    "corpus = pd.read_json(os.path.join(\"..\", \"data\", \"merged\", \"corpus.json\"))\n",
    "corpus[\"text\"] = corpus[\"text\"].apply(clean_text)\n",
    "# corpus_ps = sparknlp_session.createDataFrame(corpus)"
   ]
  },
  {
   "cell_type": "markdown",
   "metadata": {},
   "source": [
    "Train a pyspark Pipeline, TF and IDF model"
   ]
  },
  {
   "cell_type": "code",
   "execution_count": null,
   "metadata": {},
   "outputs": [
    {
     "name": "stderr",
     "output_type": "stream",
     "text": [
      "25/05/17 10:17:52 WARN StopWordsCleaner: Default locale set was [en_VN]; however, it was not found in available locales in JVM, falling back to en_US locale. Set param `locale` in order to respect another locale.\n"
     ]
    },
    {
     "name": "stdout",
     "output_type": "stream",
     "text": [
      "lemma_antbnc download started this may take some time.\n",
      "Approximate size to download 907.6 KB\n",
      "[ | ]"
     ]
    },
    {
     "name": "stderr",
     "output_type": "stream",
     "text": [
      "25/05/17 10:18:10 WARN S3AbortableInputStream: Not all bytes were read from the S3ObjectInputStream, aborting HTTP connection. This is likely an error and may result in sub-optimal behavior. Request only the bytes you need via a ranged GET or drain the input stream after use.\n",
      "25/05/17 10:18:11 WARN S3AbortableInputStream: Not all bytes were read from the S3ObjectInputStream, aborting HTTP connection. This is likely an error and may result in sub-optimal behavior. Request only the bytes you need via a ranged GET or drain the input stream after use.\n"
     ]
    },
    {
     "name": "stdout",
     "output_type": "stream",
     "text": [
      "lemma_antbnc download started this may take some time.\n",
      "Approximate size to download 907.6 KB\n",
      "[ / ]Download done! Loading the resource.\n",
      "[ — ]"
     ]
    },
    {
     "name": "stderr",
     "output_type": "stream",
     "text": [
      "                                                                                \r"
     ]
    },
    {
     "name": "stdout",
     "output_type": "stream",
     "text": [
      "[OK!]\n"
     ]
    },
    {
     "name": "stderr",
     "output_type": "stream",
     "text": [
      "WARNING: An illegal reflective access operation has occurred\n",
      "WARNING: Illegal reflective access by org.apache.spark.util.SizeEstimator$ (file:/Users/lam.nguyen/Desktop/GithubClone/BigData_Final/.venv/lib/python3.10/site-packages/pyspark/jars/spark-core_2.12-3.5.5.jar) to field java.util.regex.Pattern.pattern\n",
      "WARNING: Please consider reporting this to the maintainers of org.apache.spark.util.SizeEstimator$\n",
      "WARNING: Use --illegal-access=warn to enable warnings of further illegal reflective access operations\n",
      "WARNING: All illegal access operations will be denied in a future release\n",
      "25/05/17 10:18:22 WARN TaskSetManager: Stage 2 contains a task of very large size (52494 KiB). The maximum recommended task size is 1000 KiB.\n",
      "25/05/17 10:29:26 WARN TaskSetManager: Stage 3 contains a task of very large size (52494 KiB). The maximum recommended task size is 1000 KiB.\n",
      "25/05/17 10:29:29 WARN TaskSetManager: Stage 4 contains a task of very large size (52494 KiB). The maximum recommended task size is 1000 KiB.\n",
      "25/05/17 10:29:39 WARN TaskSetManager: Stage 8 contains a task of very large size (52494 KiB). The maximum recommended task size is 1000 KiB.\n",
      "                                                                                \r"
     ]
    }
   ],
   "source": [
    "# train_pipeline, train_tf, train_idf = pipeline_model(train_data=corpus.copy(deep=True),    \n",
    "#                                                      spark_session=sparknlp_session)\n",
    "# train_pipeline.save(os.path.join(\"..\", \"model\", \"at_review\", \"pipeline\"))\n",
    "# train_tf.save(os.path.join(\"..\", \"model\", \"at_review\", \"tf\"))\n",
    "# train_idf.save(os.path.join(\"..\", \"model\", \"at_review\", \"idf\"))"
   ]
  },
  {
   "cell_type": "markdown",
   "metadata": {},
   "source": [
    "Load trained model"
   ]
  },
  {
   "cell_type": "code",
   "execution_count": 4,
   "metadata": {},
   "outputs": [
    {
     "name": "stderr",
     "output_type": "stream",
     "text": [
      "WARNING: An illegal reflective access operation has occurred                    \n",
      "WARNING: Illegal reflective access by org.apache.spark.util.SizeEstimator$ (file:/Users/lam.nguyen/Desktop/GithubClone/BigData_Final/.venv/lib/python3.10/site-packages/pyspark/jars/spark-core_2.12-3.5.5.jar) to field java.util.regex.Pattern.pattern\n",
      "WARNING: Please consider reporting this to the maintainers of org.apache.spark.util.SizeEstimator$\n",
      "WARNING: Use --illegal-access=warn to enable warnings of further illegal reflective access operations\n",
      "WARNING: All illegal access operations will be denied in a future release\n",
      "25/05/19 18:21:04 WARN StopWordsCleaner: Default locale set was [en_VN]; however, it was not found in available locales in JVM, falling back to en_US locale. Set param `locale` in order to respect another locale.\n",
      "25/05/19 18:21:08 WARN StopWordsCleaner: Default locale set was [en_VN]; however, it was not found in available locales in JVM, falling back to en_US locale. Set param `locale` in order to respect another locale.\n",
      "                                                                                \r"
     ]
    }
   ],
   "source": [
    "pipeline_path = os.path.join(\"..\", \"model\", \"at_review\", \"pipeline\")\n",
    "tf_path = os.path.join(\"..\", \"model\", \"at_review\", \"tf\")\n",
    "idf_path = os.path.join(\"..\", \"model\", \"at_review\", \"idf\")\n",
    "\n",
    "pipeline = PipelineModel.load(pipeline_path)\n",
    "tf = CountVectorizerModel.load(tf_path)\n",
    "idf = IDFModel.load(idf_path)"
   ]
  },
  {
   "cell_type": "markdown",
   "metadata": {},
   "source": [
    "Extract features"
   ]
  },
  {
   "cell_type": "code",
   "execution_count": null,
   "metadata": {},
   "outputs": [],
   "source": [
    "# # preprocess using nltk\n",
    "# corpus_nltk, tfidf_nltk = preprocess_nltk(data=corpus.copy(deep=True))"
   ]
  },
  {
   "cell_type": "code",
   "execution_count": 5,
   "metadata": {},
   "outputs": [],
   "source": [
    "# Extract features (using SparkNLP)\n",
    "tfidf_ps = preprocess_sparknlp(data=corpus.copy(deep=True), # PySpark DataFrame\n",
    "                               spark_session=sparknlp_session,\n",
    "                               tfidf_model=(tf, idf),\n",
    "                               pipeline_model=pipeline)"
   ]
  },
  {
   "cell_type": "code",
   "execution_count": 3,
   "metadata": {},
   "outputs": [],
   "source": [
    "# # Extract features (using nltk)\n",
    "# tfidf_nltk = pd.read_json(os.path.join(\"..\", \"data\", \"processed\", \"features_nltk.json\"))"
   ]
  },
  {
   "cell_type": "markdown",
   "metadata": {},
   "source": [
    "# Evaluation"
   ]
  },
  {
   "cell_type": "markdown",
   "metadata": {},
   "source": [
    "## NTLK preprocessing vs SparkNLP preprocessing"
   ]
  },
  {
   "cell_type": "code",
   "execution_count": 17,
   "metadata": {},
   "outputs": [
    {
     "data": {
      "text/plain": [
       "[1000, 2000, 3000, 4000, 5000, 6000, 7000, 8000, 9000, 10000]"
      ]
     },
     "execution_count": 17,
     "metadata": {},
     "output_type": "execute_result"
    }
   ],
   "source": [
    "# num_rows = [row for row in range(1000, 11000, 1000)]\n",
    "# num_rows"
   ]
  },
  {
   "cell_type": "code",
   "execution_count": 7,
   "metadata": {},
   "outputs": [
    {
     "name": "stderr",
     "output_type": "stream",
     "text": [
      "25/05/04 12:31:19 WARN StopWordsCleaner: Default locale set was [en_VN]; however, it was not found in available locales in JVM, falling back to en_US locale. Set param `locale` in order to respect another locale.\n",
      "25/05/04 12:31:21 WARN StopWordsCleaner: Default locale set was [en_VN]; however, it was not found in available locales in JVM, falling back to en_US locale. Set param `locale` in order to respect another locale.\n"
     ]
    }
   ],
   "source": [
    "# # Load SparkNLP trained PipelineModel\n",
    "# pipeline_path = os.path.join(\"..\", \"model\", \"pipeline\")\n",
    "# tf_path = os.path.join(\"..\", \"model\", \"tf\")\n",
    "# idf_path = os.path.join(\"..\", \"model\", \"idf\")\n",
    "\n",
    "# pipeline = PipelineModel.load(pipeline_path)\n",
    "# tf = CountVectorizerModel.load(tf_path)\n",
    "# idf = IDFModel.load(idf_path)\n"
   ]
  },
  {
   "cell_type": "code",
   "execution_count": 10,
   "metadata": {},
   "outputs": [],
   "source": [
    "# nltk_time = []\n",
    "# sparknlp_time = []\n",
    "# for row in num_rows:\n",
    "#     subset_df = corpus.copy(deep=True).head(row)\n",
    "#     # NLTK time\n",
    "#     nltk_start = time.time()\n",
    "#     nlkt_result = preprocess_nltk(data=subset_df)\n",
    "#     nltk_end = time.time()\n",
    "#     nltk_time.append(nltk_end - nltk_start)\n",
    "\n",
    "#     # SparkNLP time\n",
    "#     sparknlp_start = time.time()\n",
    "#     sparknlp_result = preprocess_sparknlp(data=subset_df,\n",
    "#                                           spark_session=sparknlp_session,\n",
    "#                                           tfidf_model=(tf, idf),\n",
    "#                                           pipeline_model=pipeline)\n",
    "#     sparknlp_end = time.time()\n",
    "#     sparknlp_time.append(sparknlp_end - sparknlp_start)"
   ]
  },
  {
   "cell_type": "code",
   "execution_count": 14,
   "metadata": {},
   "outputs": [
    {
     "data": {
      "text/html": [
       "<div>\n",
       "<style scoped>\n",
       "    .dataframe tbody tr th:only-of-type {\n",
       "        vertical-align: middle;\n",
       "    }\n",
       "\n",
       "    .dataframe tbody tr th {\n",
       "        vertical-align: top;\n",
       "    }\n",
       "\n",
       "    .dataframe thead th {\n",
       "        text-align: right;\n",
       "    }\n",
       "</style>\n",
       "<table border=\"1\" class=\"dataframe\">\n",
       "  <thead>\n",
       "    <tr style=\"text-align: right;\">\n",
       "      <th></th>\n",
       "      <th>nltk</th>\n",
       "      <th>sparknlp</th>\n",
       "    </tr>\n",
       "  </thead>\n",
       "  <tbody>\n",
       "    <tr>\n",
       "      <th>0</th>\n",
       "      <td>63</td>\n",
       "      <td>13</td>\n",
       "    </tr>\n",
       "    <tr>\n",
       "      <th>1</th>\n",
       "      <td>115</td>\n",
       "      <td>22</td>\n",
       "    </tr>\n",
       "    <tr>\n",
       "      <th>2</th>\n",
       "      <td>174</td>\n",
       "      <td>33</td>\n",
       "    </tr>\n",
       "    <tr>\n",
       "      <th>3</th>\n",
       "      <td>230</td>\n",
       "      <td>48</td>\n",
       "    </tr>\n",
       "    <tr>\n",
       "      <th>4</th>\n",
       "      <td>296</td>\n",
       "      <td>57</td>\n",
       "    </tr>\n",
       "    <tr>\n",
       "      <th>5</th>\n",
       "      <td>347</td>\n",
       "      <td>67</td>\n",
       "    </tr>\n",
       "    <tr>\n",
       "      <th>6</th>\n",
       "      <td>408</td>\n",
       "      <td>79</td>\n",
       "    </tr>\n",
       "    <tr>\n",
       "      <th>7</th>\n",
       "      <td>456</td>\n",
       "      <td>87</td>\n",
       "    </tr>\n",
       "    <tr>\n",
       "      <th>8</th>\n",
       "      <td>510</td>\n",
       "      <td>130</td>\n",
       "    </tr>\n",
       "    <tr>\n",
       "      <th>9</th>\n",
       "      <td>642</td>\n",
       "      <td>116</td>\n",
       "    </tr>\n",
       "  </tbody>\n",
       "</table>\n",
       "</div>"
      ],
      "text/plain": [
       "   nltk  sparknlp\n",
       "0    63        13\n",
       "1   115        22\n",
       "2   174        33\n",
       "3   230        48\n",
       "4   296        57\n",
       "5   347        67\n",
       "6   408        79\n",
       "7   456        87\n",
       "8   510       130\n",
       "9   642       116"
      ]
     },
     "execution_count": 14,
     "metadata": {},
     "output_type": "execute_result"
    }
   ],
   "source": [
    "# time_df = pd.read_csv(os.path.join(\"..\", \"evaluation_result\", \"nltk_sparknlp.csv\"))\n",
    "# time_df[['nltk', 'sparknlp']] = time_df[['nltk', 'sparknlp']].astype(int)\n",
    "# time_df"
   ]
  },
  {
   "cell_type": "code",
   "execution_count": 54,
   "metadata": {},
   "outputs": [
    {
     "data": {
      "image/png": "[encoded data removed]",
      "text/plain": [
       "<Figure size 1000x800 with 1 Axes>"
      ]
     },
     "metadata": {},
     "output_type": "display_data"
    }
   ],
   "source": [
    "# # Plotting \n",
    "# paper_size = 0.02561 # 10000 papers has a total of 256,1MB\n",
    "# horizontal_axis = [num_papers*paper_size for num_papers in num_rows]\n",
    "# plt.figure(figsize=(10, 6))\n",
    "# sns.set_palette(sns.color_palette(\"muted\"))\n",
    "# sns.set_style('darkgrid')\n",
    "# plt.plot(horizontal_axis, time_df['nltk'], label='NLTK', marker='o')\n",
    "# plt.plot(horizontal_axis, time_df['sparknlp'], label='SparkNLP', marker='o')\n",
    "# plt.xlabel('Data size (MB)')\n",
    "# plt.ylabel('Time (seconds)')\n",
    "# plt.title('NLTK vs SparkNLP')\n",
    "# plt.legend()\n",
    "# plt.grid(True)\n",
    "# # plt.savefig(os.path.join(\"..\", \"img\", 'nltk_sparknlp.png'), format='png', dpi=500)\n",
    "# plt.show()"
   ]
  },
  {
   "cell_type": "markdown",
   "metadata": {},
   "source": [
    "## Throughput, time, speedup when use PySpark vs Scikit-learn to train model"
   ]
  },
  {
   "cell_type": "code",
   "execution_count": 4,
   "metadata": {},
   "outputs": [
    {
     "data": {
      "text/plain": [
       "[1000, 2000, 3000, 4000, 5000, 6000, 7000, 8000, 9000, 10000]"
      ]
     },
     "execution_count": 4,
     "metadata": {},
     "output_type": "execute_result"
    }
   ],
   "source": [
    "# num_rows = [row for row in range(1000, 11000, 1000)]\n",
    "# num_rows"
   ]
  },
  {
   "cell_type": "code",
   "execution_count": 5,
   "metadata": {},
   "outputs": [],
   "source": [
    "# num_topics = 5\n",
    "# max_iter = 10"
   ]
  },
  {
   "cell_type": "code",
   "execution_count": null,
   "metadata": {},
   "outputs": [],
   "source": [
    "# subset_df = [pd.read_csv(os.path.join(\"..\", \"data\", \"throughput_cal\", str(row) + \".csv\"), index_col=0) for row in num_rows]\n",
    "# subset_ps = []\n",
    "# for row in num_rows:\n",
    "#     path = os.path.join(\"..\", \"data\", \"throughput_cal\", str(row) + \".csv\")\n",
    "#     tmp_df = pd.read_csv(os.path.join(\"..\", \"data\", \"throughput_cal\", str(row) + \".csv\"))\n",
    "\n",
    "#     row_objects = [\n",
    "#         Row(tf_idf_features=Vectors.dense(vec)) for vec in tmp_df.values\n",
    "#     ]\n",
    "#     tfidf = spark.createDataFrame(row_objects)\n",
    "#     subset_ps.append(tfidf)"
   ]
  },
  {
   "cell_type": "code",
   "execution_count": null,
   "metadata": {},
   "outputs": [],
   "source": [
    "# subset_df = [tfidf_nltk.copy(deep=True).head(row) for row in num_rows]\n",
    "# subset_ps = []\n",
    "# for df in subset_df:\n",
    "#     tmp = [\n",
    "#         Row(tf_idf_features=Vectors.dense(vec)) for vec in df.values\n",
    "#     ]\n",
    "#     tfidf = sparknlp_session.createDataFrame(tmp)\n",
    "#     subset_ps.append(tfidf)"
   ]
  },
  {
   "cell_type": "code",
   "execution_count": 7,
   "metadata": {},
   "outputs": [
    {
     "data": {
      "text/plain": [
       "[3352016,\n",
       " 6704016,\n",
       " 10056016,\n",
       " 13408016,\n",
       " 16760016,\n",
       " 20112016,\n",
       " 23464016,\n",
       " 26816016,\n",
       " 30168016,\n",
       " 33520016]"
      ]
     },
     "execution_count": 7,
     "metadata": {},
     "output_type": "execute_result"
    }
   ],
   "source": [
    "# import sys\n",
    "# input_size = [sys.getsizeof(df) for df in subset_df]"
   ]
  },
  {
   "cell_type": "code",
   "execution_count": 14,
   "metadata": {},
   "outputs": [
    {
     "name": "stdout",
     "output_type": "stream",
     "text": [
      "First 1000 is complete\n",
      "pyspark: 1.4593920707702637 - sklearn 5.064054012298584\n"
     ]
    },
    {
     "name": "stderr",
     "output_type": "stream",
     "text": [
      "25/05/05 08:38:26 WARN TaskSetManager: Stage 242 contains a task of very large size (1856 KiB). The maximum recommended task size is 1000 KiB.\n",
      "25/05/05 08:38:26 WARN TaskSetManager: Stage 243 contains a task of very large size (1856 KiB). The maximum recommended task size is 1000 KiB.\n",
      "25/05/05 08:38:26 WARN TaskSetManager: Stage 244 contains a task of very large size (1856 KiB). The maximum recommended task size is 1000 KiB.\n",
      "25/05/05 08:38:26 WARN TaskSetManager: Stage 245 contains a task of very large size (1856 KiB). The maximum recommended task size is 1000 KiB.\n",
      "25/05/05 08:38:26 WARN TaskSetManager: Stage 246 contains a task of very large size (1856 KiB). The maximum recommended task size is 1000 KiB.\n",
      "25/05/05 08:38:26 WARN TaskSetManager: Stage 247 contains a task of very large size (1856 KiB). The maximum recommended task size is 1000 KiB.\n",
      "25/05/05 08:38:26 WARN TaskSetManager: Stage 248 contains a task of very large size (1856 KiB). The maximum recommended task size is 1000 KiB.\n",
      "25/05/05 08:38:26 WARN TaskSetManager: Stage 249 contains a task of very large size (1856 KiB). The maximum recommended task size is 1000 KiB.\n",
      "25/05/05 08:38:27 WARN TaskSetManager: Stage 250 contains a task of very large size (1856 KiB). The maximum recommended task size is 1000 KiB.\n",
      "25/05/05 08:38:27 WARN TaskSetManager: Stage 251 contains a task of very large size (1856 KiB). The maximum recommended task size is 1000 KiB.\n",
      "25/05/05 08:38:27 WARN TaskSetManager: Stage 252 contains a task of very large size (1856 KiB). The maximum recommended task size is 1000 KiB.\n",
      "25/05/05 08:38:27 WARN TaskSetManager: Stage 253 contains a task of very large size (1856 KiB). The maximum recommended task size is 1000 KiB.\n",
      "25/05/05 08:38:27 WARN TaskSetManager: Stage 254 contains a task of very large size (1856 KiB). The maximum recommended task size is 1000 KiB.\n",
      "25/05/05 08:38:27 WARN TaskSetManager: Stage 255 contains a task of very large size (1856 KiB). The maximum recommended task size is 1000 KiB.\n",
      "25/05/05 08:38:27 WARN TaskSetManager: Stage 256 contains a task of very large size (1856 KiB). The maximum recommended task size is 1000 KiB.\n",
      "25/05/05 08:38:27 WARN TaskSetManager: Stage 257 contains a task of very large size (1856 KiB). The maximum recommended task size is 1000 KiB.\n",
      "25/05/05 08:38:27 WARN TaskSetManager: Stage 258 contains a task of very large size (1856 KiB). The maximum recommended task size is 1000 KiB.\n",
      "25/05/05 08:38:27 WARN TaskSetManager: Stage 259 contains a task of very large size (1856 KiB). The maximum recommended task size is 1000 KiB.\n",
      "25/05/05 08:38:27 WARN TaskSetManager: Stage 260 contains a task of very large size (1856 KiB). The maximum recommended task size is 1000 KiB.\n",
      "25/05/05 08:38:27 WARN TaskSetManager: Stage 261 contains a task of very large size (1856 KiB). The maximum recommended task size is 1000 KiB.\n",
      "25/05/05 08:38:27 WARN TaskSetManager: Stage 262 contains a task of very large size (1856 KiB). The maximum recommended task size is 1000 KiB.\n",
      "25/05/05 08:38:27 WARN TaskSetManager: Stage 263 contains a task of very large size (1856 KiB). The maximum recommended task size is 1000 KiB.\n"
     ]
    },
    {
     "name": "stdout",
     "output_type": "stream",
     "text": [
      "First 2000 is complete\n",
      "pyspark: 1.7062091827392578 - sklearn 9.010257005691528\n"
     ]
    },
    {
     "name": "stderr",
     "output_type": "stream",
     "text": [
      "25/05/05 08:38:41 WARN TaskSetManager: Stage 264 contains a task of very large size (2780 KiB). The maximum recommended task size is 1000 KiB.\n",
      "25/05/05 08:38:42 WARN TaskSetManager: Stage 265 contains a task of very large size (2780 KiB). The maximum recommended task size is 1000 KiB.\n",
      "25/05/05 08:38:42 WARN TaskSetManager: Stage 266 contains a task of very large size (2780 KiB). The maximum recommended task size is 1000 KiB.\n",
      "25/05/05 08:38:42 WARN TaskSetManager: Stage 267 contains a task of very large size (2780 KiB). The maximum recommended task size is 1000 KiB.\n",
      "25/05/05 08:38:42 WARN TaskSetManager: Stage 268 contains a task of very large size (2780 KiB). The maximum recommended task size is 1000 KiB.\n",
      "25/05/05 08:38:42 WARN TaskSetManager: Stage 269 contains a task of very large size (2780 KiB). The maximum recommended task size is 1000 KiB.\n",
      "25/05/05 08:38:42 WARN TaskSetManager: Stage 270 contains a task of very large size (2780 KiB). The maximum recommended task size is 1000 KiB.\n",
      "25/05/05 08:38:42 WARN TaskSetManager: Stage 271 contains a task of very large size (2780 KiB). The maximum recommended task size is 1000 KiB.\n",
      "25/05/05 08:38:42 WARN TaskSetManager: Stage 272 contains a task of very large size (2780 KiB). The maximum recommended task size is 1000 KiB.\n",
      "25/05/05 08:38:42 WARN TaskSetManager: Stage 273 contains a task of very large size (2780 KiB). The maximum recommended task size is 1000 KiB.\n",
      "25/05/05 08:38:43 WARN TaskSetManager: Stage 274 contains a task of very large size (2780 KiB). The maximum recommended task size is 1000 KiB.\n",
      "25/05/05 08:38:43 WARN TaskSetManager: Stage 275 contains a task of very large size (2780 KiB). The maximum recommended task size is 1000 KiB.\n",
      "25/05/05 08:38:43 WARN TaskSetManager: Stage 276 contains a task of very large size (2780 KiB). The maximum recommended task size is 1000 KiB.\n",
      "25/05/05 08:38:43 WARN TaskSetManager: Stage 277 contains a task of very large size (2780 KiB). The maximum recommended task size is 1000 KiB.\n",
      "25/05/05 08:38:43 WARN TaskSetManager: Stage 278 contains a task of very large size (2780 KiB). The maximum recommended task size is 1000 KiB.\n",
      "25/05/05 08:38:43 WARN TaskSetManager: Stage 279 contains a task of very large size (2780 KiB). The maximum recommended task size is 1000 KiB.\n",
      "25/05/05 08:38:43 WARN TaskSetManager: Stage 280 contains a task of very large size (2780 KiB). The maximum recommended task size is 1000 KiB.\n",
      "25/05/05 08:38:43 WARN TaskSetManager: Stage 281 contains a task of very large size (2780 KiB). The maximum recommended task size is 1000 KiB.\n",
      "25/05/05 08:38:43 WARN TaskSetManager: Stage 282 contains a task of very large size (2780 KiB). The maximum recommended task size is 1000 KiB.\n",
      "25/05/05 08:38:43 WARN TaskSetManager: Stage 283 contains a task of very large size (2780 KiB). The maximum recommended task size is 1000 KiB.\n",
      "25/05/05 08:38:43 WARN TaskSetManager: Stage 284 contains a task of very large size (2780 KiB). The maximum recommended task size is 1000 KiB.\n",
      "25/05/05 08:38:43 WARN TaskSetManager: Stage 285 contains a task of very large size (2780 KiB). The maximum recommended task size is 1000 KiB.\n"
     ]
    },
    {
     "name": "stdout",
     "output_type": "stream",
     "text": [
      "First 3000 is complete\n",
      "pyspark: 1.8465158939361572 - sklearn 14.066035985946655\n"
     ]
    },
    {
     "name": "stderr",
     "output_type": "stream",
     "text": [
      "25/05/05 08:39:02 WARN TaskSetManager: Stage 286 contains a task of very large size (3704 KiB). The maximum recommended task size is 1000 KiB.\n",
      "25/05/05 08:39:02 WARN TaskSetManager: Stage 287 contains a task of very large size (3704 KiB). The maximum recommended task size is 1000 KiB.\n",
      "25/05/05 08:39:02 WARN TaskSetManager: Stage 288 contains a task of very large size (3704 KiB). The maximum recommended task size is 1000 KiB.\n",
      "25/05/05 08:39:02 WARN TaskSetManager: Stage 289 contains a task of very large size (3704 KiB). The maximum recommended task size is 1000 KiB.\n",
      "25/05/05 08:39:02 WARN TaskSetManager: Stage 290 contains a task of very large size (3704 KiB). The maximum recommended task size is 1000 KiB.\n",
      "25/05/05 08:39:03 WARN TaskSetManager: Stage 291 contains a task of very large size (3704 KiB). The maximum recommended task size is 1000 KiB.\n",
      "25/05/05 08:39:03 WARN TaskSetManager: Stage 292 contains a task of very large size (3704 KiB). The maximum recommended task size is 1000 KiB.\n",
      "25/05/05 08:39:03 WARN TaskSetManager: Stage 293 contains a task of very large size (3704 KiB). The maximum recommended task size is 1000 KiB.\n",
      "25/05/05 08:39:03 WARN TaskSetManager: Stage 294 contains a task of very large size (3704 KiB). The maximum recommended task size is 1000 KiB.\n",
      "25/05/05 08:39:03 WARN TaskSetManager: Stage 295 contains a task of very large size (3704 KiB). The maximum recommended task size is 1000 KiB.\n",
      "25/05/05 08:39:03 WARN TaskSetManager: Stage 296 contains a task of very large size (3704 KiB). The maximum recommended task size is 1000 KiB.\n",
      "25/05/05 08:39:03 WARN TaskSetManager: Stage 297 contains a task of very large size (3704 KiB). The maximum recommended task size is 1000 KiB.\n",
      "25/05/05 08:39:03 WARN TaskSetManager: Stage 298 contains a task of very large size (3704 KiB). The maximum recommended task size is 1000 KiB.\n",
      "25/05/05 08:39:03 WARN TaskSetManager: Stage 299 contains a task of very large size (3704 KiB). The maximum recommended task size is 1000 KiB.\n",
      "25/05/05 08:39:03 WARN TaskSetManager: Stage 300 contains a task of very large size (3704 KiB). The maximum recommended task size is 1000 KiB.\n",
      "25/05/05 08:39:03 WARN TaskSetManager: Stage 301 contains a task of very large size (3704 KiB). The maximum recommended task size is 1000 KiB.\n",
      "25/05/05 08:39:03 WARN TaskSetManager: Stage 302 contains a task of very large size (3704 KiB). The maximum recommended task size is 1000 KiB.\n",
      "25/05/05 08:39:03 WARN TaskSetManager: Stage 303 contains a task of very large size (3704 KiB). The maximum recommended task size is 1000 KiB.\n",
      "25/05/05 08:39:03 WARN TaskSetManager: Stage 304 contains a task of very large size (3704 KiB). The maximum recommended task size is 1000 KiB.\n",
      "25/05/05 08:39:03 WARN TaskSetManager: Stage 305 contains a task of very large size (3704 KiB). The maximum recommended task size is 1000 KiB.\n",
      "25/05/05 08:39:04 WARN TaskSetManager: Stage 306 contains a task of very large size (3704 KiB). The maximum recommended task size is 1000 KiB.\n",
      "25/05/05 08:39:04 WARN TaskSetManager: Stage 307 contains a task of very large size (3704 KiB). The maximum recommended task size is 1000 KiB.\n"
     ]
    },
    {
     "name": "stdout",
     "output_type": "stream",
     "text": [
      "First 4000 is complete\n",
      "pyspark: 2.153738021850586 - sklearn 18.35744571685791\n"
     ]
    },
    {
     "name": "stderr",
     "output_type": "stream",
     "text": [
      "25/05/05 08:39:28 WARN TaskSetManager: Stage 308 contains a task of very large size (3793 KiB). The maximum recommended task size is 1000 KiB.\n",
      "25/05/05 08:39:29 WARN TaskSetManager: Stage 309 contains a task of very large size (3793 KiB). The maximum recommended task size is 1000 KiB.\n",
      "25/05/05 08:39:29 WARN TaskSetManager: Stage 310 contains a task of very large size (3793 KiB). The maximum recommended task size is 1000 KiB.\n",
      "25/05/05 08:39:29 WARN TaskSetManager: Stage 311 contains a task of very large size (3793 KiB). The maximum recommended task size is 1000 KiB.\n",
      "25/05/05 08:39:29 WARN TaskSetManager: Stage 312 contains a task of very large size (3793 KiB). The maximum recommended task size is 1000 KiB.\n",
      "25/05/05 08:39:29 WARN TaskSetManager: Stage 313 contains a task of very large size (3793 KiB). The maximum recommended task size is 1000 KiB.\n",
      "25/05/05 08:39:29 WARN TaskSetManager: Stage 314 contains a task of very large size (3793 KiB). The maximum recommended task size is 1000 KiB.\n",
      "25/05/05 08:39:29 WARN TaskSetManager: Stage 315 contains a task of very large size (3793 KiB). The maximum recommended task size is 1000 KiB.\n",
      "25/05/05 08:39:29 WARN TaskSetManager: Stage 316 contains a task of very large size (3793 KiB). The maximum recommended task size is 1000 KiB.\n",
      "25/05/05 08:39:29 WARN TaskSetManager: Stage 317 contains a task of very large size (3793 KiB). The maximum recommended task size is 1000 KiB.\n",
      "25/05/05 08:39:29 WARN TaskSetManager: Stage 318 contains a task of very large size (3793 KiB). The maximum recommended task size is 1000 KiB.\n",
      "25/05/05 08:39:29 WARN TaskSetManager: Stage 319 contains a task of very large size (3793 KiB). The maximum recommended task size is 1000 KiB.\n",
      "25/05/05 08:39:30 WARN TaskSetManager: Stage 320 contains a task of very large size (3793 KiB). The maximum recommended task size is 1000 KiB.\n",
      "25/05/05 08:39:30 WARN TaskSetManager: Stage 321 contains a task of very large size (3793 KiB). The maximum recommended task size is 1000 KiB.\n",
      "25/05/05 08:39:30 WARN TaskSetManager: Stage 322 contains a task of very large size (3793 KiB). The maximum recommended task size is 1000 KiB.\n",
      "25/05/05 08:39:30 WARN TaskSetManager: Stage 323 contains a task of very large size (3793 KiB). The maximum recommended task size is 1000 KiB.\n",
      "25/05/05 08:39:30 WARN TaskSetManager: Stage 324 contains a task of very large size (3793 KiB). The maximum recommended task size is 1000 KiB.\n",
      "25/05/05 08:39:30 WARN TaskSetManager: Stage 325 contains a task of very large size (3793 KiB). The maximum recommended task size is 1000 KiB.\n",
      "25/05/05 08:39:30 WARN TaskSetManager: Stage 326 contains a task of very large size (3793 KiB). The maximum recommended task size is 1000 KiB.\n",
      "25/05/05 08:39:30 WARN TaskSetManager: Stage 327 contains a task of very large size (3793 KiB). The maximum recommended task size is 1000 KiB.\n",
      "25/05/05 08:39:30 WARN TaskSetManager: Stage 328 contains a task of very large size (3793 KiB). The maximum recommended task size is 1000 KiB.\n",
      "25/05/05 08:39:30 WARN TaskSetManager: Stage 329 contains a task of very large size (3793 KiB). The maximum recommended task size is 1000 KiB.\n"
     ]
    },
    {
     "name": "stdout",
     "output_type": "stream",
     "text": [
      "First 5000 is complete\n",
      "pyspark: 2.686095952987671 - sklearn 23.97981071472168\n"
     ]
    },
    {
     "name": "stderr",
     "output_type": "stream",
     "text": [
      "25/05/05 08:40:00 WARN TaskSetManager: Stage 330 contains a task of very large size (3793 KiB). The maximum recommended task size is 1000 KiB.\n",
      "25/05/05 08:40:01 WARN TaskSetManager: Stage 331 contains a task of very large size (3793 KiB). The maximum recommended task size is 1000 KiB.\n",
      "25/05/05 08:40:01 WARN TaskSetManager: Stage 332 contains a task of very large size (3793 KiB). The maximum recommended task size is 1000 KiB.\n",
      "25/05/05 08:40:01 WARN TaskSetManager: Stage 333 contains a task of very large size (3793 KiB). The maximum recommended task size is 1000 KiB.\n",
      "25/05/05 08:40:01 WARN TaskSetManager: Stage 334 contains a task of very large size (3793 KiB). The maximum recommended task size is 1000 KiB.\n",
      "25/05/05 08:40:01 WARN TaskSetManager: Stage 335 contains a task of very large size (3793 KiB). The maximum recommended task size is 1000 KiB.\n",
      "25/05/05 08:40:01 WARN TaskSetManager: Stage 336 contains a task of very large size (3793 KiB). The maximum recommended task size is 1000 KiB.\n",
      "25/05/05 08:40:01 WARN TaskSetManager: Stage 337 contains a task of very large size (3793 KiB). The maximum recommended task size is 1000 KiB.\n",
      "25/05/05 08:40:02 WARN TaskSetManager: Stage 338 contains a task of very large size (3793 KiB). The maximum recommended task size is 1000 KiB.\n",
      "25/05/05 08:40:02 WARN TaskSetManager: Stage 339 contains a task of very large size (3793 KiB). The maximum recommended task size is 1000 KiB.\n",
      "25/05/05 08:40:02 WARN TaskSetManager: Stage 340 contains a task of very large size (3793 KiB). The maximum recommended task size is 1000 KiB.\n",
      "25/05/05 08:40:02 WARN TaskSetManager: Stage 341 contains a task of very large size (3793 KiB). The maximum recommended task size is 1000 KiB.\n",
      "25/05/05 08:40:02 WARN TaskSetManager: Stage 342 contains a task of very large size (3793 KiB). The maximum recommended task size is 1000 KiB.\n",
      "25/05/05 08:40:02 WARN TaskSetManager: Stage 343 contains a task of very large size (3793 KiB). The maximum recommended task size is 1000 KiB.\n",
      "25/05/05 08:40:02 WARN TaskSetManager: Stage 344 contains a task of very large size (3793 KiB). The maximum recommended task size is 1000 KiB.\n",
      "25/05/05 08:40:02 WARN TaskSetManager: Stage 345 contains a task of very large size (3793 KiB). The maximum recommended task size is 1000 KiB.\n",
      "25/05/05 08:40:02 WARN TaskSetManager: Stage 346 contains a task of very large size (3793 KiB). The maximum recommended task size is 1000 KiB.\n",
      "25/05/05 08:40:02 WARN TaskSetManager: Stage 347 contains a task of very large size (3793 KiB). The maximum recommended task size is 1000 KiB.\n",
      "25/05/05 08:40:03 WARN TaskSetManager: Stage 348 contains a task of very large size (3793 KiB). The maximum recommended task size is 1000 KiB.\n",
      "25/05/05 08:40:03 WARN TaskSetManager: Stage 349 contains a task of very large size (3793 KiB). The maximum recommended task size is 1000 KiB.\n",
      "25/05/05 08:40:03 WARN TaskSetManager: Stage 350 contains a task of very large size (3793 KiB). The maximum recommended task size is 1000 KiB.\n",
      "25/05/05 08:40:03 WARN TaskSetManager: Stage 351 contains a task of very large size (3793 KiB). The maximum recommended task size is 1000 KiB.\n"
     ]
    },
    {
     "name": "stdout",
     "output_type": "stream",
     "text": [
      "First 6000 is complete\n",
      "pyspark: 3.050767183303833 - sklearn 29.715411901474\n"
     ]
    },
    {
     "name": "stderr",
     "output_type": "stream",
     "text": [
      "25/05/05 08:40:35 WARN TaskSetManager: Stage 352 contains a task of very large size (3793 KiB). The maximum recommended task size is 1000 KiB.\n",
      "25/05/05 08:40:36 WARN TaskSetManager: Stage 353 contains a task of very large size (3793 KiB). The maximum recommended task size is 1000 KiB.\n",
      "25/05/05 08:40:36 WARN TaskSetManager: Stage 354 contains a task of very large size (3793 KiB). The maximum recommended task size is 1000 KiB.\n",
      "25/05/05 08:40:36 WARN TaskSetManager: Stage 355 contains a task of very large size (3793 KiB). The maximum recommended task size is 1000 KiB.\n",
      "25/05/05 08:40:36 WARN TaskSetManager: Stage 356 contains a task of very large size (3793 KiB). The maximum recommended task size is 1000 KiB.\n",
      "25/05/05 08:40:36 WARN TaskSetManager: Stage 357 contains a task of very large size (3793 KiB). The maximum recommended task size is 1000 KiB.\n",
      "25/05/05 08:40:37 WARN TaskSetManager: Stage 358 contains a task of very large size (3793 KiB). The maximum recommended task size is 1000 KiB.\n",
      "25/05/05 08:40:37 WARN TaskSetManager: Stage 359 contains a task of very large size (3793 KiB). The maximum recommended task size is 1000 KiB.\n",
      "25/05/05 08:40:37 WARN TaskSetManager: Stage 360 contains a task of very large size (3793 KiB). The maximum recommended task size is 1000 KiB.\n",
      "25/05/05 08:40:37 WARN TaskSetManager: Stage 361 contains a task of very large size (3793 KiB). The maximum recommended task size is 1000 KiB.\n",
      "25/05/05 08:40:37 WARN TaskSetManager: Stage 362 contains a task of very large size (3793 KiB). The maximum recommended task size is 1000 KiB.\n",
      "25/05/05 08:40:37 WARN TaskSetManager: Stage 363 contains a task of very large size (3793 KiB). The maximum recommended task size is 1000 KiB.\n",
      "25/05/05 08:40:37 WARN TaskSetManager: Stage 364 contains a task of very large size (3793 KiB). The maximum recommended task size is 1000 KiB.\n",
      "25/05/05 08:40:37 WARN TaskSetManager: Stage 365 contains a task of very large size (3793 KiB). The maximum recommended task size is 1000 KiB.\n",
      "25/05/05 08:40:37 WARN TaskSetManager: Stage 366 contains a task of very large size (3793 KiB). The maximum recommended task size is 1000 KiB.\n",
      "25/05/05 08:40:37 WARN TaskSetManager: Stage 367 contains a task of very large size (3793 KiB). The maximum recommended task size is 1000 KiB.\n",
      "25/05/05 08:40:38 WARN TaskSetManager: Stage 368 contains a task of very large size (3793 KiB). The maximum recommended task size is 1000 KiB.\n",
      "25/05/05 08:40:38 WARN TaskSetManager: Stage 369 contains a task of very large size (3793 KiB). The maximum recommended task size is 1000 KiB.\n",
      "25/05/05 08:40:38 WARN TaskSetManager: Stage 370 contains a task of very large size (3793 KiB). The maximum recommended task size is 1000 KiB.\n",
      "25/05/05 08:40:38 WARN TaskSetManager: Stage 371 contains a task of very large size (3793 KiB). The maximum recommended task size is 1000 KiB.\n",
      "25/05/05 08:40:38 WARN TaskSetManager: Stage 372 contains a task of very large size (3793 KiB). The maximum recommended task size is 1000 KiB.\n",
      "25/05/05 08:40:38 WARN TaskSetManager: Stage 373 contains a task of very large size (3793 KiB). The maximum recommended task size is 1000 KiB.\n"
     ]
    },
    {
     "name": "stdout",
     "output_type": "stream",
     "text": [
      "First 7000 is complete\n",
      "pyspark: 3.5251970291137695 - sklearn 32.06306195259094\n"
     ]
    },
    {
     "name": "stderr",
     "output_type": "stream",
     "text": [
      "25/05/05 08:41:19 WARN TaskSetManager: Stage 374 contains a task of very large size (7577 KiB). The maximum recommended task size is 1000 KiB.\n",
      "25/05/05 08:41:21 WARN TaskSetManager: Stage 375 contains a task of very large size (7577 KiB). The maximum recommended task size is 1000 KiB.\n",
      "25/05/05 08:41:21 WARN TaskSetManager: Stage 376 contains a task of very large size (7577 KiB). The maximum recommended task size is 1000 KiB.\n",
      "25/05/05 08:41:21 WARN TaskSetManager: Stage 377 contains a task of very large size (7577 KiB). The maximum recommended task size is 1000 KiB.\n",
      "25/05/05 08:41:21 WARN TaskSetManager: Stage 378 contains a task of very large size (7577 KiB). The maximum recommended task size is 1000 KiB.\n",
      "25/05/05 08:41:22 WARN TaskSetManager: Stage 379 contains a task of very large size (7577 KiB). The maximum recommended task size is 1000 KiB.\n",
      "25/05/05 08:41:22 WARN TaskSetManager: Stage 380 contains a task of very large size (7577 KiB). The maximum recommended task size is 1000 KiB.\n",
      "25/05/05 08:41:23 WARN TaskSetManager: Stage 381 contains a task of very large size (7577 KiB). The maximum recommended task size is 1000 KiB.\n",
      "25/05/05 08:41:23 WARN TaskSetManager: Stage 382 contains a task of very large size (7577 KiB). The maximum recommended task size is 1000 KiB.\n",
      "25/05/05 08:41:23 WARN TaskSetManager: Stage 383 contains a task of very large size (7577 KiB). The maximum recommended task size is 1000 KiB.\n",
      "25/05/05 08:41:23 WARN TaskSetManager: Stage 384 contains a task of very large size (7577 KiB). The maximum recommended task size is 1000 KiB.\n",
      "25/05/05 08:41:23 WARN TaskSetManager: Stage 385 contains a task of very large size (7577 KiB). The maximum recommended task size is 1000 KiB.\n",
      "25/05/05 08:41:24 WARN TaskSetManager: Stage 386 contains a task of very large size (7577 KiB). The maximum recommended task size is 1000 KiB.\n",
      "25/05/05 08:41:24 WARN TaskSetManager: Stage 387 contains a task of very large size (7577 KiB). The maximum recommended task size is 1000 KiB.\n",
      "25/05/05 08:41:24 WARN TaskSetManager: Stage 388 contains a task of very large size (7577 KiB). The maximum recommended task size is 1000 KiB.\n",
      "25/05/05 08:41:24 WARN TaskSetManager: Stage 389 contains a task of very large size (7577 KiB). The maximum recommended task size is 1000 KiB.\n",
      "25/05/05 08:41:25 WARN TaskSetManager: Stage 390 contains a task of very large size (7577 KiB). The maximum recommended task size is 1000 KiB.\n",
      "25/05/05 08:41:25 WARN TaskSetManager: Stage 391 contains a task of very large size (7577 KiB). The maximum recommended task size is 1000 KiB.\n",
      "25/05/05 08:41:25 WARN TaskSetManager: Stage 392 contains a task of very large size (7577 KiB). The maximum recommended task size is 1000 KiB.\n",
      "25/05/05 08:41:25 WARN TaskSetManager: Stage 393 contains a task of very large size (7577 KiB). The maximum recommended task size is 1000 KiB.\n",
      "25/05/05 08:41:26 WARN TaskSetManager: Stage 394 contains a task of very large size (7577 KiB). The maximum recommended task size is 1000 KiB.\n",
      "25/05/05 08:41:26 WARN TaskSetManager: Stage 395 contains a task of very large size (7577 KiB). The maximum recommended task size is 1000 KiB.\n"
     ]
    },
    {
     "name": "stdout",
     "output_type": "stream",
     "text": [
      "First 8000 is complete\n",
      "pyspark: 6.760176181793213 - sklearn 40.583986043930054\n"
     ]
    },
    {
     "name": "stderr",
     "output_type": "stream",
     "text": [
      "25/05/05 08:42:10 WARN TaskSetManager: Stage 396 contains a task of very large size (7577 KiB). The maximum recommended task size is 1000 KiB.\n",
      "25/05/05 08:42:11 WARN TaskSetManager: Stage 397 contains a task of very large size (7577 KiB). The maximum recommended task size is 1000 KiB.\n",
      "25/05/05 08:42:11 WARN TaskSetManager: Stage 398 contains a task of very large size (7577 KiB). The maximum recommended task size is 1000 KiB.\n",
      "25/05/05 08:42:11 WARN TaskSetManager: Stage 399 contains a task of very large size (7577 KiB). The maximum recommended task size is 1000 KiB.\n",
      "25/05/05 08:42:11 WARN TaskSetManager: Stage 400 contains a task of very large size (7577 KiB). The maximum recommended task size is 1000 KiB.\n",
      "25/05/05 08:42:11 WARN TaskSetManager: Stage 401 contains a task of very large size (7577 KiB). The maximum recommended task size is 1000 KiB.\n",
      "25/05/05 08:42:11 WARN TaskSetManager: Stage 402 contains a task of very large size (7577 KiB). The maximum recommended task size is 1000 KiB.\n",
      "25/05/05 08:42:11 WARN TaskSetManager: Stage 403 contains a task of very large size (7577 KiB). The maximum recommended task size is 1000 KiB.\n",
      "25/05/05 08:42:11 WARN TaskSetManager: Stage 404 contains a task of very large size (7577 KiB). The maximum recommended task size is 1000 KiB.\n",
      "25/05/05 08:42:11 WARN TaskSetManager: Stage 405 contains a task of very large size (7577 KiB). The maximum recommended task size is 1000 KiB.\n",
      "25/05/05 08:42:12 WARN TaskSetManager: Stage 406 contains a task of very large size (7577 KiB). The maximum recommended task size is 1000 KiB.\n",
      "25/05/05 08:42:12 WARN TaskSetManager: Stage 407 contains a task of very large size (7577 KiB). The maximum recommended task size is 1000 KiB.\n",
      "25/05/05 08:42:12 WARN TaskSetManager: Stage 408 contains a task of very large size (7577 KiB). The maximum recommended task size is 1000 KiB.\n",
      "25/05/05 08:42:12 WARN TaskSetManager: Stage 409 contains a task of very large size (7577 KiB). The maximum recommended task size is 1000 KiB.\n",
      "25/05/05 08:42:12 WARN TaskSetManager: Stage 410 contains a task of very large size (7577 KiB). The maximum recommended task size is 1000 KiB.\n",
      "25/05/05 08:42:12 WARN TaskSetManager: Stage 411 contains a task of very large size (7577 KiB). The maximum recommended task size is 1000 KiB.\n",
      "25/05/05 08:42:12 WARN TaskSetManager: Stage 412 contains a task of very large size (7577 KiB). The maximum recommended task size is 1000 KiB.\n",
      "25/05/05 08:42:12 WARN TaskSetManager: Stage 413 contains a task of very large size (7577 KiB). The maximum recommended task size is 1000 KiB.\n",
      "25/05/05 08:42:12 WARN TaskSetManager: Stage 414 contains a task of very large size (7577 KiB). The maximum recommended task size is 1000 KiB.\n",
      "25/05/05 08:42:12 WARN TaskSetManager: Stage 415 contains a task of very large size (7577 KiB). The maximum recommended task size is 1000 KiB.\n",
      "25/05/05 08:42:12 WARN TaskSetManager: Stage 416 contains a task of very large size (7577 KiB). The maximum recommended task size is 1000 KiB.\n",
      "25/05/05 08:42:12 WARN TaskSetManager: Stage 417 contains a task of very large size (7577 KiB). The maximum recommended task size is 1000 KiB.\n"
     ]
    },
    {
     "name": "stdout",
     "output_type": "stream",
     "text": [
      "First 9000 is complete\n",
      "pyspark: 2.7346110343933105 - sklearn 43.801127910614014\n"
     ]
    },
    {
     "name": "stderr",
     "output_type": "stream",
     "text": [
      "25/05/05 08:43:07 WARN TaskSetManager: Stage 418 contains a task of very large size (7577 KiB). The maximum recommended task size is 1000 KiB.\n",
      "25/05/05 08:43:08 WARN TaskSetManager: Stage 419 contains a task of very large size (7577 KiB). The maximum recommended task size is 1000 KiB.\n",
      "25/05/05 08:43:08 WARN TaskSetManager: Stage 420 contains a task of very large size (7577 KiB). The maximum recommended task size is 1000 KiB.\n",
      "25/05/05 08:43:08 WARN TaskSetManager: Stage 421 contains a task of very large size (7577 KiB). The maximum recommended task size is 1000 KiB.\n",
      "25/05/05 08:43:08 WARN TaskSetManager: Stage 422 contains a task of very large size (7577 KiB). The maximum recommended task size is 1000 KiB.\n",
      "25/05/05 08:43:08 WARN TaskSetManager: Stage 423 contains a task of very large size (7577 KiB). The maximum recommended task size is 1000 KiB.\n",
      "25/05/05 08:43:09 WARN TaskSetManager: Stage 424 contains a task of very large size (7577 KiB). The maximum recommended task size is 1000 KiB.\n",
      "25/05/05 08:43:09 WARN TaskSetManager: Stage 425 contains a task of very large size (7577 KiB). The maximum recommended task size is 1000 KiB.\n",
      "25/05/05 08:43:09 WARN TaskSetManager: Stage 426 contains a task of very large size (7577 KiB). The maximum recommended task size is 1000 KiB.\n",
      "25/05/05 08:43:09 WARN TaskSetManager: Stage 427 contains a task of very large size (7577 KiB). The maximum recommended task size is 1000 KiB.\n",
      "25/05/05 08:43:09 WARN TaskSetManager: Stage 428 contains a task of very large size (7577 KiB). The maximum recommended task size is 1000 KiB.\n",
      "25/05/05 08:43:09 WARN TaskSetManager: Stage 429 contains a task of very large size (7577 KiB). The maximum recommended task size is 1000 KiB.\n",
      "25/05/05 08:43:10 WARN TaskSetManager: Stage 430 contains a task of very large size (7577 KiB). The maximum recommended task size is 1000 KiB.\n",
      "25/05/05 08:43:10 WARN TaskSetManager: Stage 431 contains a task of very large size (7577 KiB). The maximum recommended task size is 1000 KiB.\n",
      "25/05/05 08:43:10 WARN TaskSetManager: Stage 432 contains a task of very large size (7577 KiB). The maximum recommended task size is 1000 KiB.\n",
      "25/05/05 08:43:10 WARN TaskSetManager: Stage 433 contains a task of very large size (7577 KiB). The maximum recommended task size is 1000 KiB.\n",
      "25/05/05 08:43:10 WARN TaskSetManager: Stage 434 contains a task of very large size (7577 KiB). The maximum recommended task size is 1000 KiB.\n",
      "25/05/05 08:43:10 WARN TaskSetManager: Stage 435 contains a task of very large size (7577 KiB). The maximum recommended task size is 1000 KiB.\n",
      "25/05/05 08:43:10 WARN TaskSetManager: Stage 436 contains a task of very large size (7577 KiB). The maximum recommended task size is 1000 KiB.\n",
      "25/05/05 08:43:10 WARN TaskSetManager: Stage 437 contains a task of very large size (7577 KiB). The maximum recommended task size is 1000 KiB.\n",
      "25/05/05 08:43:10 WARN TaskSetManager: Stage 438 contains a task of very large size (7577 KiB). The maximum recommended task size is 1000 KiB.\n",
      "25/05/05 08:43:10 WARN TaskSetManager: Stage 439 contains a task of very large size (7577 KiB). The maximum recommended task size is 1000 KiB.\n"
     ]
    },
    {
     "name": "stdout",
     "output_type": "stream",
     "text": [
      "First 10000 is complete\n",
      "pyspark: 3.731799840927124 - sklearn 54.37480092048645\n"
     ]
    }
   ],
   "source": [
    "# sklearn_time = []\n",
    "# pyspark_time = []\n",
    "# for i in range(len(num_rows)):\n",
    "#     # scikit-learn time\n",
    "#     sklearn_start = time.time()\n",
    "#     sklearn_model = LatentDirichletAllocation(n_components=num_topics, \n",
    "#                                               max_iter=max_iter)\n",
    "#     sklearn_model.fit(subset_df[i])\n",
    "#     sklearn_end = time.time()\n",
    "#     sklearn_time.append(sklearn_end - sklearn_start)\n",
    "\n",
    "#     # pyspark time\n",
    "#     pyspark_start = time.time()\n",
    "#     pyspark_model = LDA(k=num_topics, \n",
    "#                         maxIter=max_iter, \n",
    "#                         featuresCol='tf_idf_features')\n",
    "#     pyspark_model.fit(subset_ps[i])\n",
    "#     subset_ps[i].unpersist()\n",
    "#     pyspark_end = time.time()\n",
    "#     pyspark_time.append(pyspark_end - pyspark_start)\n",
    "\n",
    "#     print(f\"First {num_rows[i]} is complete\")\n",
    "#     print(f\"pyspark: {pyspark_end - pyspark_start} - sklearn {sklearn_end - sklearn_start}\")\n"
   ]
  },
  {
   "cell_type": "code",
   "execution_count": 15,
   "metadata": {},
   "outputs": [],
   "source": [
    "# sample_size = round(sys.getsizeof(tfidf_nltk.iloc[:,0])/(1024**2),2) #size of one sample"
   ]
  },
  {
   "cell_type": "code",
   "execution_count": 17,
   "metadata": {},
   "outputs": [
    {
     "data": {
      "image/png": "[encoded data removed]",
      "text/plain": [
       "<Figure size 1000x600 with 1 Axes>"
      ]
     },
     "metadata": {},
     "output_type": "display_data"
    }
   ],
   "source": [
    "# # Plotting \n",
    "# throughput_sklearn = [round(num_rows[i]/sklearn_time[i]*sample_size,2) for i in range(len(num_rows))]\n",
    "# throughput_pyspark = [round(num_rows[i]/pyspark_time[i]*sample_size,2) for i in range(len(num_rows))]\n",
    "# horizontal_axis = [round(size/(1024**2),2) for size in input_size]\n",
    "\n",
    "# plt.figure(figsize=(10, 6))\n",
    "# sns.set_palette(sns.color_palette(\"muted\"))\n",
    "# sns.set_style('darkgrid')\n",
    "# plt.plot(horizontal_axis, throughput_sklearn, label='Sklearn', marker='o')\n",
    "# plt.plot(horizontal_axis, throughput_pyspark, label='PySpark', marker='o')\n",
    "# plt.xlabel('Data size (MB)')\n",
    "# plt.ylabel('Throughput (MB/sec)')\n",
    "# plt.title('Throughput of Sklearn vs PySpark')\n",
    "# plt.xticks([int(size) for size in horizontal_axis])\n",
    "# plt.legend()\n",
    "# plt.grid(True)\n",
    "# plt.savefig(os.path.join(\"..\", \"img\", 'sklearn_pyspark_throughput.png'), format='png', dpi=500)\n",
    "# plt.show()"
   ]
  },
  {
   "cell_type": "code",
   "execution_count": 21,
   "metadata": {},
   "outputs": [
    {
     "data": {
      "text/plain": [
       "[0.28818836349484334,\n",
       " 0.1893874765398396,\n",
       " 0.1312679524004924,\n",
       " 0.11730500017947522,\n",
       " 0.11202635914332784,\n",
       " 0.10267448561065727,\n",
       " 0.10995098368360974,\n",
       " 0.16658216438510506,\n",
       " 0.06243036846476391,\n",
       " 0.06864037815648713]"
      ]
     },
     "execution_count": 21,
     "metadata": {},
     "output_type": "execute_result"
    }
   ],
   "source": [
    "# speedup = [throughput_sklearn[i]/throughput_pyspark[i] for i in range(len(throughput_sklearn))]\n",
    "# speedup"
   ]
  },
  {
   "cell_type": "code",
   "execution_count": 23,
   "metadata": {},
   "outputs": [
    {
     "name": "stderr",
     "output_type": "stream",
     "text": [
      "/var/folders/ks/tcmmkdsn54j_lc0yv7dzh4sc0000gp/T/ipykernel_3116/203693749.py:13: UserWarning: No artists with labels found to put in legend.  Note that artists whose label start with an underscore are ignored when legend() is called with no argument.\n",
      "  plt.legend()\n"
     ]
    },
    {
     "data": {
      "image/png": "[encoded data removed]",
      "text/plain": [
       "<Figure size 1000x600 with 1 Axes>"
      ]
     },
     "metadata": {},
     "output_type": "display_data"
    }
   ],
   "source": [
    "# # Plotting \n",
    "# speedup = [throughput_pyspark[i] / throughput_sklearn[i] for i in range(len(throughput_sklearn))]\n",
    "# horizontal_axis = [round(size/(1024**2),2) for size in input_size]\n",
    "\n",
    "# plt.figure(figsize=(10, 6))\n",
    "# sns.set_palette(sns.color_palette(\"muted\"))\n",
    "# sns.set_style('darkgrid')\n",
    "# plt.plot(horizontal_axis, speedup, marker='o')\n",
    "# plt.xlabel('Data size (MB)')\n",
    "# plt.ylabel('Speedup')\n",
    "# plt.title('Speedup of Sklearn vs PySpark')\n",
    "# plt.xticks([int(size) for size in horizontal_axis])\n",
    "# plt.legend()\n",
    "# plt.grid(True)\n",
    "# plt.savefig(os.path.join(\"..\", \"img\", 'sklearn_pyspark_speedup.png'), format='png', dpi=500)\n",
    "# plt.show()"
   ]
  },
  {
   "cell_type": "markdown",
   "metadata": {},
   "source": [
    "## Algorithm performance: PUW calculation"
   ]
  },
  {
   "cell_type": "code",
   "execution_count": null,
   "metadata": {},
   "outputs": [],
   "source": [
    "# max_topics = 20\n",
    "# num_topics = [k for k in range(2, 5)]\n",
    "# max_iter = 10\n",
    "# for k in num_topics:\n",
    "#     lda_model = LDA(k=k, \n",
    "#                     maxIter=max_iter, \n",
    "#                     featuresCol='tf_idf_features')\n",
    "#     lda = lda_model.fit(tfidf_ps)\n",
    "#     lda.save(os.path.join(\"..\", \"model\", \"at_review\", \"lda\", f\"lda{k}\"))\n",
    "#     print(f\"Trained LDA with {k} topics successfully\")"
   ]
  },
  {
   "cell_type": "code",
   "execution_count": null,
   "metadata": {},
   "outputs": [],
   "source": [
    "# from scipy.spatial.distance import jensenshannon\n",
    "\n",
    "# def evaluate_topic_diversity(model, df):\n",
    "#     # Get topic-word distributions\n",
    "#     topics = model.describeTopics()\n",
    "#     topic_dists = topics.select(\"termWeights\").rdd.map(lambda x: x[0]).collect()\n",
    "    \n",
    "#     # Calculate pairwise Jensen-Shannon distances\n",
    "#     distances = []\n",
    "#     for i in range(len(topic_dists)):\n",
    "#         for j in range(i + 1, len(topic_dists)):\n",
    "#             dist = jensenshannon(topic_dists[i], topic_dists[j])\n",
    "#             distances.append(dist)\n",
    "    \n",
    "#     # Average distance indicates topic diversity\n",
    "#     return np.mean(distances)\n",
    "\n",
    "# def evaluate_lda_comprehensive(df, max_k=20, step=5):\n",
    "#     results = []\n",
    "#     k_values = range(2, max_k + 1, step)\n",
    "    \n",
    "#     for k in k_values:\n",
    "#         lda_model = LDA(k=k, maxIter=20, featuresCol='tf_idf_features')\n",
    "#         model = lda_model.fit(df)\n",
    "        \n",
    "#         # Calculate metrics\n",
    "#         perplexity = np.exp(-model.logLikelihood(df) / model.vocabSize())\n",
    "#         diversity = evaluate_topic_diversity(model, df)\n",
    "        \n",
    "#         results.append((k, perplexity, diversity))\n",
    "#         print(f\"k={k}: Perplexity={perplexity:.2f}, Diversity={diversity:.4f}\")\n",
    "    \n",
    "#     return results"
   ]
  },
  {
   "cell_type": "code",
   "execution_count": null,
   "metadata": {},
   "outputs": [],
   "source": [
    "# lda = LocalLDAModel.load(os.path.join(\"..\",\"model\", \"at_review\", \"lda10\"))"
   ]
  },
  {
   "cell_type": "markdown",
   "metadata": {},
   "source": [
    "### PUW calculation - Selecting number of topics"
   ]
  },
  {
   "cell_type": "code",
   "execution_count": 25,
   "metadata": {},
   "outputs": [
    {
     "name": "stdout",
     "output_type": "stream",
     "text": [
      "Number of topics 2: 0.9\n",
      "Number of topics 3: 0.87\n",
      "Number of topics 4: 0.77\n",
      "Number of topics 5: 0.58\n",
      "Number of topics 6: 0.63\n",
      "Number of topics 7: 0.57\n",
      "Number of topics 8: 0.65\n",
      "Number of topics 9: 0.61\n",
      "Number of topics 10: 0.59\n",
      "Number of topics 11: 0.53\n",
      "Number of topics 12: 0.48\n",
      "Number of topics 13: 0.51\n",
      "Number of topics 14: 0.52\n",
      "Number of topics 15: 0.55\n",
      "Number of topics 16: 0.48\n",
      "Number of topics 17: 0.49\n",
      "Number of topics 18: 0.41\n",
      "Number of topics 19: 0.37\n",
      "Number of topics 20: 0.35\n"
     ]
    }
   ],
   "source": [
    "num_topics = [k for k in range(2, 21)]\n",
    "puw_values = []\n",
    "for k in num_topics:\n",
    "    puw_topic = 0\n",
    "    lda = LocalLDAModel.load(os.path.join(\"..\",\"model\", \"at_review\", \"lda\", f\"lda{k}\"))\n",
    "    puw_res = puw(lda.describeTopics(10),\n",
    "                  termCol='termIndices')\n",
    "    for key, value in puw_res.items():\n",
    "        puw_topic += value\n",
    "    puw_values.append(round(puw_topic/float(k), 2))\n",
    "    print(f\"Number of topics {k}: {round(puw_topic/float(k), 2)}\")"
   ]
  },
  {
   "cell_type": "code",
   "execution_count": null,
   "metadata": {},
   "outputs": [
    {
     "data": {
      "image/png": "[encoded data removed]",
      "text/plain": [
       "<Figure size 800x600 with 1 Axes>"
      ]
     },
     "metadata": {},
     "output_type": "display_data"
    }
   ],
   "source": [
    "# Plotting\n",
    "plt.figure(figsize=(8, 6))\n",
    "sns.set_style(\"darkgrid\")\n",
    "plt.plot(num_topics, puw_values)\n",
    "\n",
    "plt.title(\"Optimising number of topics\")\n",
    "plt.xticks(num_topics)\n",
    "plt.xlabel(\"Number of topics\")\n",
    "plt.ylabel(\"PUW\")\n",
    "# plt.savefig(os.path.join(\"..\", \"img\", 'numTopics.png'), format='png', dpi=500)\n",
    "plt.tight_layout()\n",
    "plt.show()\n"
   ]
  },
  {
   "cell_type": "code",
   "execution_count": 6,
   "metadata": {},
   "outputs": [],
   "source": [
    "lda_op = LocalLDAModel.load(os.path.join(\"..\",\"model\", \"at_review\", \"lda\", \"lda2\"))"
   ]
  },
  {
   "cell_type": "code",
   "execution_count": 7,
   "metadata": {},
   "outputs": [
    {
     "data": {
      "text/plain": [
       "{'0': 0.9, '1': 0.9}"
      ]
     },
     "execution_count": 7,
     "metadata": {},
     "output_type": "execute_result"
    }
   ],
   "source": [
    "puw(lda_op.describeTopics(10), termCol='termIndices')"
   ]
  },
  {
   "cell_type": "markdown",
   "metadata": {},
   "source": [
    "### Get top words representing a topic"
   ]
  },
  {
   "cell_type": "code",
   "execution_count": 32,
   "metadata": {},
   "outputs": [],
   "source": [
    "# Get the vocabulary and mapping of index to word\n",
    "vocab = tf.vocabulary\n",
    "index_to_term = {i: vocab[i] for i in range(len(vocab))}"
   ]
  },
  {
   "cell_type": "code",
   "execution_count": 33,
   "metadata": {},
   "outputs": [],
   "source": [
    "# Get the term indices representing a topic\n",
    "topic2describe = 11\n",
    "term_indices = lda_op.describeTopics(topic2describe).select('topic', 'termIndices').collect()"
   ]
  },
  {
   "cell_type": "code",
   "execution_count": 34,
   "metadata": {},
   "outputs": [],
   "source": [
    "# Get top words representing a topic\n",
    "topic_words = {term_indices[i]['topic']: term_indices[i]['termIndices'] for i in range(len(term_indices))} # Get term index\n",
    "for k, v in topic_words.items():\n",
    "    topic_words[k] = [index_to_term[ind] for ind in v]"
   ]
  },
  {
   "cell_type": "code",
   "execution_count": 35,
   "metadata": {},
   "outputs": [
    {
     "data": {
      "text/html": [
       "<div>\n",
       "<style scoped>\n",
       "    .dataframe tbody tr th:only-of-type {\n",
       "        vertical-align: middle;\n",
       "    }\n",
       "\n",
       "    .dataframe tbody tr th {\n",
       "        vertical-align: top;\n",
       "    }\n",
       "\n",
       "    .dataframe thead th {\n",
       "        text-align: right;\n",
       "    }\n",
       "</style>\n",
       "<table border=\"1\" class=\"dataframe\">\n",
       "  <thead>\n",
       "    <tr style=\"text-align: right;\">\n",
       "      <th></th>\n",
       "      <th>0</th>\n",
       "      <th>1</th>\n",
       "    </tr>\n",
       "  </thead>\n",
       "  <tbody>\n",
       "    <tr>\n",
       "      <th>0</th>\n",
       "      <td>patient</td>\n",
       "      <td>cell</td>\n",
       "    </tr>\n",
       "    <tr>\n",
       "      <th>1</th>\n",
       "      <td>covid</td>\n",
       "      <td>protein</td>\n",
       "    </tr>\n",
       "    <tr>\n",
       "      <th>2</th>\n",
       "      <td>model</td>\n",
       "      <td>sarscov</td>\n",
       "    </tr>\n",
       "    <tr>\n",
       "      <th>3</th>\n",
       "      <td>health</td>\n",
       "      <td>patient</td>\n",
       "    </tr>\n",
       "    <tr>\n",
       "      <th>4</th>\n",
       "      <td>social</td>\n",
       "      <td>viral</td>\n",
       "    </tr>\n",
       "    <tr>\n",
       "      <th>5</th>\n",
       "      <td>people</td>\n",
       "      <td>virus</td>\n",
       "    </tr>\n",
       "    <tr>\n",
       "      <th>6</th>\n",
       "      <td>country</td>\n",
       "      <td>figure</td>\n",
       "    </tr>\n",
       "    <tr>\n",
       "      <th>7</th>\n",
       "      <td>care</td>\n",
       "      <td>blood</td>\n",
       "    </tr>\n",
       "    <tr>\n",
       "      <th>8</th>\n",
       "      <td>risk</td>\n",
       "      <td>sample</td>\n",
       "    </tr>\n",
       "    <tr>\n",
       "      <th>9</th>\n",
       "      <td>symptom</td>\n",
       "      <td>activity</td>\n",
       "    </tr>\n",
       "    <tr>\n",
       "      <th>10</th>\n",
       "      <td>pandemic</td>\n",
       "      <td>infection</td>\n",
       "    </tr>\n",
       "  </tbody>\n",
       "</table>\n",
       "</div>"
      ],
      "text/plain": [
       "           0          1\n",
       "0    patient       cell\n",
       "1      covid    protein\n",
       "2      model    sarscov\n",
       "3     health    patient\n",
       "4     social      viral\n",
       "5     people      virus\n",
       "6    country     figure\n",
       "7       care      blood\n",
       "8       risk     sample\n",
       "9    symptom   activity\n",
       "10  pandemic  infection"
      ]
     },
     "execution_count": 35,
     "metadata": {},
     "output_type": "execute_result"
    }
   ],
   "source": [
    "pd.DataFrame(topic_words)"
   ]
  },
  {
   "cell_type": "markdown",
   "metadata": {},
   "source": [
    "### Plotting topic distribution"
   ]
  },
  {
   "cell_type": "code",
   "execution_count": 36,
   "metadata": {},
   "outputs": [],
   "source": [
    "ind_firstword = [term_indices[i]['termIndices'][0] for i in range(len(term_indices))]\n",
    "firstword = [index_to_term[ind] for ind in ind_firstword]"
   ]
  },
  {
   "cell_type": "code",
   "execution_count": 37,
   "metadata": {},
   "outputs": [],
   "source": [
    "topic2describe = 11\n",
    "topic_profile = lda_op.describeTopics(topic2describe).select(\"*\").collect()\n",
    "term_weights = [description['termWeights'] for description in topic_profile]"
   ]
  },
  {
   "cell_type": "code",
   "execution_count": 38,
   "metadata": {},
   "outputs": [],
   "source": [
    "pca = PCA(n_components=2)\n",
    "term_weights_2d = pca.fit_transform(term_weights)"
   ]
  },
  {
   "cell_type": "code",
   "execution_count": 39,
   "metadata": {},
   "outputs": [
    {
     "data": {
      "image/png": "[encoded data removed]",
      "text/plain": [
       "<Figure size 800x600 with 1 Axes>"
      ]
     },
     "metadata": {},
     "output_type": "display_data"
    }
   ],
   "source": [
    "# Create DataFrame and get topic label\n",
    "df_pca = pd.DataFrame(term_weights_2d, columns=[\"weight1\", \"weight2\"])\n",
    "df_pca[\"Topic_rep\"] = firstword\n",
    "\n",
    "# Set size for bubble\n",
    "df_pca['size'] = (df_pca['weight1'].abs() + df_pca['weight2'].abs()) * 100  # Adjust size scale\n",
    "\n",
    "# Plotting\n",
    "plt.figure(figsize=(8, 6))\n",
    "sns.set_style(\"darkgrid\")\n",
    "sns.scatterplot(data=df_pca, x=\"weight1\", y=\"weight2\", hue=\"Topic_rep\", size='size', sizes=(50, 1000), legend=None)\n",
    "\n",
    "# Annotate points\n",
    "for _, row in df_pca.iterrows():\n",
    "    plt.text(row[\"weight1\"] + 0.0001, row[\"weight2\"] + 0.0001, row[\"Topic_rep\"], fontsize=9)\n",
    "\n",
    "plt.title(\"Topic Distribution\")\n",
    "plt.grid(True)\n",
    "# plt.savefig(os.path.join(\"..\", \"img\", 'topic_distribution_op14.png'), format='png', dpi=500)\n",
    "plt.tight_layout()\n",
    "plt.show()\n"
   ]
  },
  {
   "cell_type": "markdown",
   "metadata": {},
   "source": [
    "# BERTopic"
   ]
  },
  {
   "cell_type": "code",
   "execution_count": 8,
   "metadata": {},
   "outputs": [
    {
     "name": "stderr",
     "output_type": "stream",
     "text": [
      "[nltk_data] Downloading package stopwords to\n",
      "[nltk_data]     /Users/lam.nguyen/nltk_data...\n",
      "[nltk_data]   Package stopwords is already up-to-date!\n"
     ]
    }
   ],
   "source": [
    "import pandas as pd\n",
    "\n",
    "from sklearn.decomposition import PCA\n",
    "from sklearn.feature_extraction.text import CountVectorizer\n",
    "from hdbscan import HDBSCAN\n",
    "from sentence_transformers import SentenceTransformer\n",
    "\n",
    "from bertopic import BERTopic\n",
    "from bertopic.representation import KeyBERTInspired\n",
    "from bertopic.vectorizers import ClassTfidfTransformer\n",
    "\n",
    "import nltk\n",
    "nltk.download('stopwords')\n",
    "from nltk.corpus import stopwords\n",
    "stop_words = stopwords.words(\"english\") + [\"p\", \"n\", \"e\", \"d\", \"c\", \"b\", \"h\", \"r\", \"ie\", \"eg\", \"we\", \"fig\"]\n"
   ]
  },
  {
   "cell_type": "code",
   "execution_count": 5,
   "metadata": {},
   "outputs": [],
   "source": [
    "from text_cleaner import clean_text\n",
    "import os\n",
    "corpus = pd.read_json(os.path.join(\"..\", \"data\", \"merged\", \"corpus.json\"))\n",
    "corpus[\"text\"] = corpus[\"text\"].apply(clean_text)"
   ]
  },
  {
   "cell_type": "code",
   "execution_count": 9,
   "metadata": {},
   "outputs": [],
   "source": [
    "# Step 1 - Extract embeddings\n",
    "embedding_model = SentenceTransformer(\"all-MiniLM-L6-v2\")\n",
    "\n",
    "# Step 2 - Reduce dimensionality\n",
    "pca = PCA(n_components=100)\n",
    "\n",
    "# Step 3 - Cluster reduced embeddings\n",
    "hdbscan_model = HDBSCAN(min_cluster_size=15, metric='euclidean', cluster_selection_method='eom', prediction_data=True)\n",
    "\n",
    "# Step 4 - Tokenize topics\n",
    "vectorizer_model = CountVectorizer(stop_words=stop_words)\n",
    "\n",
    "# Step 5 - Create topic representation\n",
    "ctfidf_model = ClassTfidfTransformer()\n",
    "\n",
    "# Step 6 - (Optional) Fine-tune topic representations with\n",
    "# a `bertopic.representation` model\n",
    "representation_model = KeyBERTInspired()\n",
    "\n",
    "# All steps together\n",
    "topic_model = BERTopic(\n",
    "  embedding_model=embedding_model,          # Step 1 - Extract embeddings\n",
    "  umap_model=pca,                           # Step 2 - Reduce dimensionality\n",
    "  hdbscan_model=hdbscan_model,              # Step 3 - Cluster reduced embeddings\n",
    "  vectorizer_model=vectorizer_model,        # Step 4 - Tokenize topics\n",
    "  ctfidf_model=ctfidf_model,                # Step 5 - Extract topic words\n",
    "  representation_model=representation_model # Step 6 - (Optional) Fine-tune topic representations\n",
    ")"
   ]
  },
  {
   "cell_type": "code",
   "execution_count": 10,
   "metadata": {},
   "outputs": [
    {
     "ename": "RuntimeError",
     "evalue": "Numpy is not available",
     "output_type": "error",
     "traceback": [
      "\u001b[0;31m---------------------------------------------------------------------------\u001b[0m",
      "\u001b[0;31mRuntimeError\u001b[0m                              Traceback (most recent call last)",
      "Cell \u001b[0;32mIn[10], line 1\u001b[0m\n\u001b[0;32m----> 1\u001b[0m topics, probs \u001b[38;5;241m=\u001b[39m \u001b[43mtopic_model\u001b[49m\u001b[38;5;241;43m.\u001b[39;49m\u001b[43mfit_transform\u001b[49m\u001b[43m(\u001b[49m\u001b[38;5;28;43mlist\u001b[39;49m\u001b[43m(\u001b[49m\u001b[43mcorpus\u001b[49m\u001b[43m[\u001b[49m\u001b[38;5;124;43m'\u001b[39;49m\u001b[38;5;124;43mtext\u001b[39;49m\u001b[38;5;124;43m'\u001b[39;49m\u001b[43m]\u001b[49m\u001b[43m)\u001b[49m\u001b[43m)\u001b[49m\n\u001b[1;32m      2\u001b[0m topic_model\u001b[38;5;241m.\u001b[39mget_topic_info()\n",
      "File \u001b[0;32m~/Desktop/GithubClone/BigData_Final/.venv/lib/python3.10/site-packages/bertopic/_bertopic.py:454\u001b[0m, in \u001b[0;36mBERTopic.fit_transform\u001b[0;34m(self, documents, embeddings, images, y)\u001b[0m\n\u001b[1;32m    452\u001b[0m     logger\u001b[38;5;241m.\u001b[39minfo(\u001b[38;5;124m\"\u001b[39m\u001b[38;5;124mEmbedding - Transforming documents to embeddings.\u001b[39m\u001b[38;5;124m\"\u001b[39m)\n\u001b[1;32m    453\u001b[0m     \u001b[38;5;28mself\u001b[39m\u001b[38;5;241m.\u001b[39membedding_model \u001b[38;5;241m=\u001b[39m select_backend(\u001b[38;5;28mself\u001b[39m\u001b[38;5;241m.\u001b[39membedding_model, language\u001b[38;5;241m=\u001b[39m\u001b[38;5;28mself\u001b[39m\u001b[38;5;241m.\u001b[39mlanguage, verbose\u001b[38;5;241m=\u001b[39m\u001b[38;5;28mself\u001b[39m\u001b[38;5;241m.\u001b[39mverbose)\n\u001b[0;32m--> 454\u001b[0m     embeddings \u001b[38;5;241m=\u001b[39m \u001b[38;5;28;43mself\u001b[39;49m\u001b[38;5;241;43m.\u001b[39;49m\u001b[43m_extract_embeddings\u001b[49m\u001b[43m(\u001b[49m\n\u001b[1;32m    455\u001b[0m \u001b[43m        \u001b[49m\u001b[43mdocuments\u001b[49m\u001b[38;5;241;43m.\u001b[39;49m\u001b[43mDocument\u001b[49m\u001b[38;5;241;43m.\u001b[39;49m\u001b[43mvalues\u001b[49m\u001b[38;5;241;43m.\u001b[39;49m\u001b[43mtolist\u001b[49m\u001b[43m(\u001b[49m\u001b[43m)\u001b[49m\u001b[43m,\u001b[49m\n\u001b[1;32m    456\u001b[0m \u001b[43m        \u001b[49m\u001b[43mimages\u001b[49m\u001b[38;5;241;43m=\u001b[39;49m\u001b[43mimages\u001b[49m\u001b[43m,\u001b[49m\n\u001b[1;32m    457\u001b[0m \u001b[43m        \u001b[49m\u001b[43mmethod\u001b[49m\u001b[38;5;241;43m=\u001b[39;49m\u001b[38;5;124;43m\"\u001b[39;49m\u001b[38;5;124;43mdocument\u001b[39;49m\u001b[38;5;124;43m\"\u001b[39;49m\u001b[43m,\u001b[49m\n\u001b[1;32m    458\u001b[0m \u001b[43m        \u001b[49m\u001b[43mverbose\u001b[49m\u001b[38;5;241;43m=\u001b[39;49m\u001b[38;5;28;43mself\u001b[39;49m\u001b[38;5;241;43m.\u001b[39;49m\u001b[43mverbose\u001b[49m\u001b[43m,\u001b[49m\n\u001b[1;32m    459\u001b[0m \u001b[43m    \u001b[49m\u001b[43m)\u001b[49m\n\u001b[1;32m    460\u001b[0m     logger\u001b[38;5;241m.\u001b[39minfo(\u001b[38;5;124m\"\u001b[39m\u001b[38;5;124mEmbedding - Completed \u001b[39m\u001b[38;5;130;01m\\u2713\u001b[39;00m\u001b[38;5;124m\"\u001b[39m)\n\u001b[1;32m    461\u001b[0m \u001b[38;5;28;01melse\u001b[39;00m:\n",
      "File \u001b[0;32m~/Desktop/GithubClone/BigData_Final/.venv/lib/python3.10/site-packages/bertopic/_bertopic.py:3711\u001b[0m, in \u001b[0;36mBERTopic._extract_embeddings\u001b[0;34m(self, documents, images, method, verbose)\u001b[0m\n\u001b[1;32m   3709\u001b[0m     embeddings \u001b[38;5;241m=\u001b[39m \u001b[38;5;28mself\u001b[39m\u001b[38;5;241m.\u001b[39membedding_model\u001b[38;5;241m.\u001b[39membed_words(words\u001b[38;5;241m=\u001b[39mdocuments, verbose\u001b[38;5;241m=\u001b[39mverbose)\n\u001b[1;32m   3710\u001b[0m \u001b[38;5;28;01melif\u001b[39;00m method \u001b[38;5;241m==\u001b[39m \u001b[38;5;124m\"\u001b[39m\u001b[38;5;124mdocument\u001b[39m\u001b[38;5;124m\"\u001b[39m:\n\u001b[0;32m-> 3711\u001b[0m     embeddings \u001b[38;5;241m=\u001b[39m \u001b[38;5;28;43mself\u001b[39;49m\u001b[38;5;241;43m.\u001b[39;49m\u001b[43membedding_model\u001b[49m\u001b[38;5;241;43m.\u001b[39;49m\u001b[43membed_documents\u001b[49m\u001b[43m(\u001b[49m\u001b[43mdocuments\u001b[49m\u001b[43m,\u001b[49m\u001b[43m \u001b[49m\u001b[43mverbose\u001b[49m\u001b[38;5;241;43m=\u001b[39;49m\u001b[43mverbose\u001b[49m\u001b[43m)\u001b[49m\n\u001b[1;32m   3712\u001b[0m \u001b[38;5;28;01melif\u001b[39;00m documents[\u001b[38;5;241m0\u001b[39m] \u001b[38;5;129;01mis\u001b[39;00m \u001b[38;5;28;01mNone\u001b[39;00m \u001b[38;5;129;01mand\u001b[39;00m images \u001b[38;5;129;01mis\u001b[39;00m \u001b[38;5;28;01mNone\u001b[39;00m:\n\u001b[1;32m   3713\u001b[0m     \u001b[38;5;28;01mraise\u001b[39;00m \u001b[38;5;167;01mValueError\u001b[39;00m(\n\u001b[1;32m   3714\u001b[0m         \u001b[38;5;124m\"\u001b[39m\u001b[38;5;124mMake sure to use an embedding model that can either embed documents\u001b[39m\u001b[38;5;124m\"\u001b[39m\n\u001b[1;32m   3715\u001b[0m         \u001b[38;5;124m\"\u001b[39m\u001b[38;5;124mor images depending on which you want to embed.\u001b[39m\u001b[38;5;124m\"\u001b[39m\n\u001b[1;32m   3716\u001b[0m     )\n",
      "File \u001b[0;32m~/Desktop/GithubClone/BigData_Final/.venv/lib/python3.10/site-packages/bertopic/backend/_base.py:62\u001b[0m, in \u001b[0;36mBaseEmbedder.embed_documents\u001b[0;34m(self, document, verbose)\u001b[0m\n\u001b[1;32m     50\u001b[0m \u001b[38;5;28;01mdef\u001b[39;00m\u001b[38;5;250m \u001b[39m\u001b[38;5;21membed_documents\u001b[39m(\u001b[38;5;28mself\u001b[39m, document: List[\u001b[38;5;28mstr\u001b[39m], verbose: \u001b[38;5;28mbool\u001b[39m \u001b[38;5;241m=\u001b[39m \u001b[38;5;28;01mFalse\u001b[39;00m) \u001b[38;5;241m-\u001b[39m\u001b[38;5;241m>\u001b[39m np\u001b[38;5;241m.\u001b[39mndarray:\n\u001b[1;32m     51\u001b[0m \u001b[38;5;250m    \u001b[39m\u001b[38;5;124;03m\"\"\"Embed a list of n words into an n-dimensional\u001b[39;00m\n\u001b[1;32m     52\u001b[0m \u001b[38;5;124;03m    matrix of embeddings.\u001b[39;00m\n\u001b[1;32m     53\u001b[0m \n\u001b[0;32m   (...)\u001b[0m\n\u001b[1;32m     60\u001b[0m \u001b[38;5;124;03m        that each have an embeddings size of `m`\u001b[39;00m\n\u001b[1;32m     61\u001b[0m \u001b[38;5;124;03m    \"\"\"\u001b[39;00m\n\u001b[0;32m---> 62\u001b[0m     \u001b[38;5;28;01mreturn\u001b[39;00m \u001b[38;5;28;43mself\u001b[39;49m\u001b[38;5;241;43m.\u001b[39;49m\u001b[43membed\u001b[49m\u001b[43m(\u001b[49m\u001b[43mdocument\u001b[49m\u001b[43m,\u001b[49m\u001b[43m \u001b[49m\u001b[43mverbose\u001b[49m\u001b[43m)\u001b[49m\n",
      "File \u001b[0;32m~/Desktop/GithubClone/BigData_Final/.venv/lib/python3.10/site-packages/bertopic/backend/_sentencetransformers.py:84\u001b[0m, in \u001b[0;36mSentenceTransformerBackend.embed\u001b[0;34m(self, documents, verbose)\u001b[0m\n\u001b[1;32m     72\u001b[0m \u001b[38;5;28;01mdef\u001b[39;00m\u001b[38;5;250m \u001b[39m\u001b[38;5;21membed\u001b[39m(\u001b[38;5;28mself\u001b[39m, documents: List[\u001b[38;5;28mstr\u001b[39m], verbose: \u001b[38;5;28mbool\u001b[39m \u001b[38;5;241m=\u001b[39m \u001b[38;5;28;01mFalse\u001b[39;00m) \u001b[38;5;241m-\u001b[39m\u001b[38;5;241m>\u001b[39m np\u001b[38;5;241m.\u001b[39mndarray:\n\u001b[1;32m     73\u001b[0m \u001b[38;5;250m    \u001b[39m\u001b[38;5;124;03m\"\"\"Embed a list of n documents/words into an n-dimensional\u001b[39;00m\n\u001b[1;32m     74\u001b[0m \u001b[38;5;124;03m    matrix of embeddings.\u001b[39;00m\n\u001b[1;32m     75\u001b[0m \n\u001b[0;32m   (...)\u001b[0m\n\u001b[1;32m     82\u001b[0m \u001b[38;5;124;03m        that each have an embeddings size of `m`\u001b[39;00m\n\u001b[1;32m     83\u001b[0m \u001b[38;5;124;03m    \"\"\"\u001b[39;00m\n\u001b[0;32m---> 84\u001b[0m     embeddings \u001b[38;5;241m=\u001b[39m \u001b[38;5;28;43mself\u001b[39;49m\u001b[38;5;241;43m.\u001b[39;49m\u001b[43membedding_model\u001b[49m\u001b[38;5;241;43m.\u001b[39;49m\u001b[43mencode\u001b[49m\u001b[43m(\u001b[49m\u001b[43mdocuments\u001b[49m\u001b[43m,\u001b[49m\u001b[43m \u001b[49m\u001b[43mshow_progress_bar\u001b[49m\u001b[38;5;241;43m=\u001b[39;49m\u001b[43mverbose\u001b[49m\u001b[43m)\u001b[49m\n\u001b[1;32m     85\u001b[0m     \u001b[38;5;28;01mreturn\u001b[39;00m embeddings\n",
      "File \u001b[0;32m~/Desktop/GithubClone/BigData_Final/.venv/lib/python3.10/site-packages/sentence_transformers/SentenceTransformer.py:742\u001b[0m, in \u001b[0;36mSentenceTransformer.encode\u001b[0;34m(self, sentences, prompt_name, prompt, batch_size, show_progress_bar, output_value, precision, convert_to_numpy, convert_to_tensor, device, normalize_embeddings, **kwargs)\u001b[0m\n\u001b[1;32m    740\u001b[0m             all_embeddings \u001b[38;5;241m=\u001b[39m np\u001b[38;5;241m.\u001b[39masarray([emb\u001b[38;5;241m.\u001b[39mfloat()\u001b[38;5;241m.\u001b[39mnumpy() \u001b[38;5;28;01mfor\u001b[39;00m emb \u001b[38;5;129;01min\u001b[39;00m all_embeddings])\n\u001b[1;32m    741\u001b[0m         \u001b[38;5;28;01melse\u001b[39;00m:\n\u001b[0;32m--> 742\u001b[0m             all_embeddings \u001b[38;5;241m=\u001b[39m np\u001b[38;5;241m.\u001b[39masarray([emb\u001b[38;5;241m.\u001b[39mnumpy() \u001b[38;5;28;01mfor\u001b[39;00m emb \u001b[38;5;129;01min\u001b[39;00m all_embeddings])\n\u001b[1;32m    743\u001b[0m \u001b[38;5;28;01melif\u001b[39;00m \u001b[38;5;28misinstance\u001b[39m(all_embeddings, np\u001b[38;5;241m.\u001b[39mndarray):\n\u001b[1;32m    744\u001b[0m     all_embeddings \u001b[38;5;241m=\u001b[39m [torch\u001b[38;5;241m.\u001b[39mfrom_numpy(embedding) \u001b[38;5;28;01mfor\u001b[39;00m embedding \u001b[38;5;129;01min\u001b[39;00m all_embeddings]\n",
      "File \u001b[0;32m~/Desktop/GithubClone/BigData_Final/.venv/lib/python3.10/site-packages/sentence_transformers/SentenceTransformer.py:742\u001b[0m, in \u001b[0;36m<listcomp>\u001b[0;34m(.0)\u001b[0m\n\u001b[1;32m    740\u001b[0m             all_embeddings \u001b[38;5;241m=\u001b[39m np\u001b[38;5;241m.\u001b[39masarray([emb\u001b[38;5;241m.\u001b[39mfloat()\u001b[38;5;241m.\u001b[39mnumpy() \u001b[38;5;28;01mfor\u001b[39;00m emb \u001b[38;5;129;01min\u001b[39;00m all_embeddings])\n\u001b[1;32m    741\u001b[0m         \u001b[38;5;28;01melse\u001b[39;00m:\n\u001b[0;32m--> 742\u001b[0m             all_embeddings \u001b[38;5;241m=\u001b[39m np\u001b[38;5;241m.\u001b[39masarray([\u001b[43memb\u001b[49m\u001b[38;5;241;43m.\u001b[39;49m\u001b[43mnumpy\u001b[49m\u001b[43m(\u001b[49m\u001b[43m)\u001b[49m \u001b[38;5;28;01mfor\u001b[39;00m emb \u001b[38;5;129;01min\u001b[39;00m all_embeddings])\n\u001b[1;32m    743\u001b[0m \u001b[38;5;28;01melif\u001b[39;00m \u001b[38;5;28misinstance\u001b[39m(all_embeddings, np\u001b[38;5;241m.\u001b[39mndarray):\n\u001b[1;32m    744\u001b[0m     all_embeddings \u001b[38;5;241m=\u001b[39m [torch\u001b[38;5;241m.\u001b[39mfrom_numpy(embedding) \u001b[38;5;28;01mfor\u001b[39;00m embedding \u001b[38;5;129;01min\u001b[39;00m all_embeddings]\n",
      "\u001b[0;31mRuntimeError\u001b[0m: Numpy is not available"
     ]
    }
   ],
   "source": [
    "topics, probs = topic_model.fit_transform(list(corpus['text']))\n",
    "topic_model.get_topic_info()"
   ]
  }
 ],
 "metadata": {
  "kernelspec": {
   "display_name": ".venv",
   "language": "python",
   "name": "python3"
  },
  "language_info": {
   "codemirror_mode": {
    "name": "ipython",
    "version": 3
   },
   "file_extension": ".py",
   "mimetype": "text/x-python",
   "name": "python",
   "nbconvert_exporter": "python",
   "pygments_lexer": "ipython3",
   "version": "3.10.17"
  }
 },
 "nbformat": 4,
 "nbformat_minor": 2
}
